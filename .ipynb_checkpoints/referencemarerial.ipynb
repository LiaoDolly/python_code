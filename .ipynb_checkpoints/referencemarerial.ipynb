{
 "cells": [
  {
   "cell_type": "code",
   "execution_count": null,
   "metadata": {
    "collapsed": true
   },
   "outputs": [],
   "source": [
    "#方繼的方法\n",
    "\n",
    "\n",
    "from bs4 import BeautifulSoup\n",
    "import requests\n",
    "\n",
    "res = requests.get(\"https://www.104.com.tw/job/?jobno=4jevx&jobsource=n104bank1&hotjob_chr=\")\n",
    "\n",
    "soup = BeautifulSoup(res.text,'lxml')\n",
    "\n",
    "soup #<--- print it or not if u wanna see the result of this stage\n",
    "\n",
    "#----------------\n",
    "\n",
    "\n",
    "for line in soup.select('.tool'):\n",
    "\n",
    "#    print('line')  #<-- select the class named tool in the part of this page's html\n",
    "    \n",
    "    a = line.select('a')\n",
    "#    print(a)      #<-- advanced select the upper \"Line\" by cutting <a href....>\n",
    "    for b in a:\n",
    "        print(b.text)   #<-- print the rest of part in the text-form \n",
    "       \n",
    "            "
   ]
  },
  {
   "cell_type": "code",
   "execution_count": 1,
   "metadata": {},
   "outputs": [
    {
     "data": {
      "text/plain": [
       "[<dd class=\"tool\"><a href=\"https://learn.104.com.tw/cfdocs/edu/search/tool_class.cfm?from=104tool&amp;no=12001004031\" target=\"_blank\" title=\"想學MS SQL嗎\">MS SQL</a>、<a href=\"https://learn.104.com.tw/cfdocs/edu/search/tool_class.cfm?from=104tool&amp;no=12001004035\" target=\"_blank\" title=\"想學Oracle嗎\">Oracle</a>、<a href=\"https://learn.104.com.tw/cfdocs/edu/search/tool_class.cfm?from=104tool&amp;no=12001008003\" target=\"_blank\" title=\"想學Excel嗎\">Excel</a>、<a href=\"https://learn.104.com.tw/cfdocs/edu/search/tool_class.cfm?from=104tool&amp;no=12001008012\" target=\"_blank\" title=\"想學PowerPoint嗎\">PowerPoint</a>、<a href=\"https://learn.104.com.tw/cfdocs/edu/search/tool_class.cfm?from=104tool&amp;no=12001008013\" target=\"_blank\" title=\"想學Project嗎\">Project</a>、<a href=\"https://learn.104.com.tw/cfdocs/edu/search/tool_class.cfm?from=104tool&amp;no=12001008015\" target=\"_blank\" title=\"想學Visio嗎\">Visio</a>、<a href=\"https://learn.104.com.tw/cfdocs/edu/search/tool_class.cfm?from=104tool&amp;no=12001008016\" target=\"_blank\" title=\"想學Word嗎\">Word</a></dd>,\n",
       " <dd class=\"tool\"><a href=\"https://learn.104.com.tw/cfdocs/edu/my104/skillclass_listing.cfm?from=104job&amp;no=11002002003\" target=\"_blank\" title=\" 專案時間╱進度控管 \">專案時間╱進度控管</a>、<a href=\"https://learn.104.com.tw/cfdocs/edu/my104/skillclass_listing.cfm?from=104job&amp;no=11002002005\" target=\"_blank\" title=\" 專案規劃執行╱範圍管理 \">專案規劃執行╱範圍管理</a>、<a href=\"https://learn.104.com.tw/cfdocs/edu/my104/skillclass_listing.cfm?from=104job&amp;no=11002002006\" target=\"_blank\" title=\" 專案溝通╱整合管理 \">專案溝通╱整合管理</a>、<a href=\"https://learn.104.com.tw/cfdocs/edu/my104/skillclass_listing.cfm?from=104job&amp;no=11002002007\" target=\"_blank\" title=\" 專案管理架構及專案說明 \">專案管理架構及專案說明</a>、<a href=\"https://learn.104.com.tw/cfdocs/edu/my104/skillclass_listing.cfm?from=104job&amp;no=11005004004\" target=\"_blank\" title=\" 統計軟體操作 \">統計軟體操作</a>、<a href=\"https://learn.104.com.tw/cfdocs/edu/my104/skillclass_listing.cfm?from=104job&amp;no=11009006003\" target=\"_blank\" title=\" 資料庫軟體應用 \">資料庫軟體應用</a>、<a href=\"https://learn.104.com.tw/cfdocs/edu/my104/skillclass_listing.cfm?from=104job&amp;no=11009007003\" target=\"_blank\" title=\" 系統架構規劃與維護 \">系統架構規劃與維護</a></dd>]"
      ]
     },
     "execution_count": 1,
     "metadata": {},
     "output_type": "execute_result"
    }
   ],
   "source": [
    "# learn form 方繼--1\n",
    "\n",
    "import requests\n",
    "from bs4 import BeautifulSoup\n",
    "URL = 'https://www.104.com.tw/job/?jobno=48jml&jobsource=n104bank1&hotjob_chr='\n",
    "res = requests.get(URL)\n",
    "\n",
    "soup = BeautifulSoup(res.text,'lxml').select('.tool')\n",
    "\n",
    "soup  #two big elements (cause there're two tool parts) in one List"
   ]
  },
  {
   "cell_type": "code",
   "execution_count": 2,
   "metadata": {},
   "outputs": [
    {
     "name": "stdout",
     "output_type": "stream",
     "text": [
      "[<a href=\"https://learn.104.com.tw/cfdocs/edu/search/tool_class.cfm?from=104tool&amp;no=12001004031\" target=\"_blank\" title=\"想學MS SQL嗎\">MS SQL</a>, <a href=\"https://learn.104.com.tw/cfdocs/edu/search/tool_class.cfm?from=104tool&amp;no=12001004035\" target=\"_blank\" title=\"想學Oracle嗎\">Oracle</a>, <a href=\"https://learn.104.com.tw/cfdocs/edu/search/tool_class.cfm?from=104tool&amp;no=12001008003\" target=\"_blank\" title=\"想學Excel嗎\">Excel</a>, <a href=\"https://learn.104.com.tw/cfdocs/edu/search/tool_class.cfm?from=104tool&amp;no=12001008012\" target=\"_blank\" title=\"想學PowerPoint嗎\">PowerPoint</a>, <a href=\"https://learn.104.com.tw/cfdocs/edu/search/tool_class.cfm?from=104tool&amp;no=12001008013\" target=\"_blank\" title=\"想學Project嗎\">Project</a>, <a href=\"https://learn.104.com.tw/cfdocs/edu/search/tool_class.cfm?from=104tool&amp;no=12001008015\" target=\"_blank\" title=\"想學Visio嗎\">Visio</a>, <a href=\"https://learn.104.com.tw/cfdocs/edu/search/tool_class.cfm?from=104tool&amp;no=12001008016\" target=\"_blank\" title=\"想學Word嗎\">Word</a>]\n",
      "[<a href=\"https://learn.104.com.tw/cfdocs/edu/my104/skillclass_listing.cfm?from=104job&amp;no=11002002003\" target=\"_blank\" title=\" 專案時間╱進度控管 \">專案時間╱進度控管</a>, <a href=\"https://learn.104.com.tw/cfdocs/edu/my104/skillclass_listing.cfm?from=104job&amp;no=11002002005\" target=\"_blank\" title=\" 專案規劃執行╱範圍管理 \">專案規劃執行╱範圍管理</a>, <a href=\"https://learn.104.com.tw/cfdocs/edu/my104/skillclass_listing.cfm?from=104job&amp;no=11002002006\" target=\"_blank\" title=\" 專案溝通╱整合管理 \">專案溝通╱整合管理</a>, <a href=\"https://learn.104.com.tw/cfdocs/edu/my104/skillclass_listing.cfm?from=104job&amp;no=11002002007\" target=\"_blank\" title=\" 專案管理架構及專案說明 \">專案管理架構及專案說明</a>, <a href=\"https://learn.104.com.tw/cfdocs/edu/my104/skillclass_listing.cfm?from=104job&amp;no=11005004004\" target=\"_blank\" title=\" 統計軟體操作 \">統計軟體操作</a>, <a href=\"https://learn.104.com.tw/cfdocs/edu/my104/skillclass_listing.cfm?from=104job&amp;no=11009006003\" target=\"_blank\" title=\" 資料庫軟體應用 \">資料庫軟體應用</a>, <a href=\"https://learn.104.com.tw/cfdocs/edu/my104/skillclass_listing.cfm?from=104job&amp;no=11009007003\" target=\"_blank\" title=\" 系統架構規劃與維護 \">系統架構規劃與維護</a>]\n"
     ]
    }
   ],
   "source": [
    "# learn form 方繼--2\n",
    "\n",
    "import requests\n",
    "from bs4 import BeautifulSoup\n",
    "URL = 'https://www.104.com.tw/job/?jobno=48jml&jobsource=n104bank1&hotjob_chr='\n",
    "res = requests.get(URL)\n",
    "\n",
    "soup = BeautifulSoup(res.text,'lxml').select('.tool')\n",
    "soup  \n",
    "\n",
    "\n",
    "for line in soup:\n",
    "    extract = line.select('a')\n",
    "#make two elements into two List;In each List, many elements are separated by <a></a>.\n",
    "    \n",
    "    print(extract)            "
   ]
  },
  {
   "cell_type": "code",
   "execution_count": 1,
   "metadata": {},
   "outputs": [
    {
     "name": "stdout",
     "output_type": "stream",
     "text": [
      "MS SQL\n",
      "Oracle\n",
      "Excel\n",
      "PowerPoint\n",
      "Project\n",
      "Visio\n",
      "Word\n",
      "專案時間╱進度控管\n",
      "專案規劃執行╱範圍管理\n",
      "專案溝通╱整合管理\n",
      "專案管理架構及專案說明\n",
      "統計軟體操作\n",
      "資料庫軟體應用\n",
      "系統架構規劃與維護\n"
     ]
    }
   ],
   "source": [
    "# learn form 方繼--3\n",
    "\n",
    "import requests\n",
    "from bs4 import BeautifulSoup\n",
    "URL = 'https://www.104.com.tw/job/?jobno=48jml&jobsource=n104bank1&hotjob_chr='\n",
    "res = requests.get(URL)\n",
    "\n",
    "soup = BeautifulSoup(res.text,'lxml').select('.tool')\n",
    "\n",
    "soup  \n",
    "for line in soup:\n",
    "    extract = line.select('a')\n",
    "#    print(extract) \n",
    "    for lin in extract:\n",
    "        print(lin.text)  #only i want from each element in two List become text. \n",
    "\n"
   ]
  },
  {
   "cell_type": "code",
   "execution_count": null,
   "metadata": {
    "collapsed": true
   },
   "outputs": [],
   "source": [
    "# testing\n",
    "\n",
    "import requests\n",
    "from bs4 import BeautifulSoup\n",
    "from collections import Counter\n",
    "cnt = Counter()\n",
    "\n",
    "#URL = 'https://www.104.com.tw/job/?jobno=5cd1d'\n",
    "URL = 'https://www.104.com.tw/job/?jobno=48jml&jobsource=n104bank1&hotjob_chr='\n",
    "res = requests.get(URL)\n",
    "\n",
    "#soup = BeautifulSoup(res.text,'lxml').findAll('',{'class':'tool'})\n",
    "#soup1 = BeautifulSoup(res.text,'lxml').select('.tool')\n",
    "soup2 = BeautifulSoup(res.text,'lxml').select('dl')[1].select('dd')[-1]\n",
    "\n",
    "# print(type(soup1))\n",
    "# print(type(soup2))\n",
    "  \n",
    "    \n",
    "print('----')\n",
    "\n",
    "a = BeautifulSoup(res.text,'lxml').select('dl')[1].select('.tool')[0]\n",
    "print(BeautifulSoup(res.text,'lxml').select('dl')[1].select('.tool')[0].select('a'))\n",
    "    "
   ]
  },
  {
   "cell_type": "code",
   "execution_count": null,
   "metadata": {
    "collapsed": true
   },
   "outputs": [],
   "source": [
    "#testing-1\n",
    "\n",
    "import requests\n",
    "from bs4 import BeautifulSoup\n",
    "from collections import Counter\n",
    "cnt = Counter()\n",
    "\n",
    "URL = 'https://www.104.com.tw/job/?jobno=48jml&jobsource=n104bank1&hotjob_chr='\n",
    "res = requests.get(URL)\n",
    "\n",
    "souplus = BeautifulSoup(res.text,'lxml').select('dl')[1].select('dd')[-1]  #dl 這種標籤區塊，也可用[a:b:c]區分法\n",
    "                                                    #區分後，變成String！！\n",
    "print(type(souplus))\n",
    "\n",
    "souplus\n",
    "\n"
   ]
  },
  {
   "cell_type": "code",
   "execution_count": null,
   "metadata": {
    "collapsed": true
   },
   "outputs": [],
   "source": []
  },
  {
   "cell_type": "code",
   "execution_count": null,
   "metadata": {
    "collapsed": true
   },
   "outputs": [],
   "source": []
  }
 ],
 "metadata": {
  "kernelspec": {
   "display_name": "Python 3",
   "language": "python",
   "name": "python3"
  },
  "language_info": {
   "codemirror_mode": {
    "name": "ipython",
    "version": 3
   },
   "file_extension": ".py",
   "mimetype": "text/x-python",
   "name": "python",
   "nbconvert_exporter": "python",
   "pygments_lexer": "ipython3",
   "version": "3.6.1"
  }
 },
 "nbformat": 4,
 "nbformat_minor": 2
}
