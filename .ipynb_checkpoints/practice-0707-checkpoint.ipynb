{
 "cells": [
  {
   "cell_type": "markdown",
   "metadata": {
    "collapsed": true
   },
   "source": [
    "# Install MySQL\n",
    "\n",
    "```bash\n",
    "sudo apt=get updat && sudo apt-get install -y mysql-server\n",
    "\n",
    "```\n",
    "\n",
    "```javascript\n",
    "console.log('hi from js')\n",
    "var myvar = 'nice'\n",
    "```\n",
    "\n",
    "```python\n",
    "import re\n",
    "re.search()\n",
    "```\n",
    "\n",
    "```\n",
    "@the way to install mysql in jupyter\n",
    "```"
   ]
  },
  {
   "cell_type": "code",
   "execution_count": 1,
   "metadata": {
    "collapsed": true
   },
   "outputs": [],
   "source": [
    "import re"
   ]
  },
  {
   "cell_type": "code",
   "execution_count": 10,
   "metadata": {},
   "outputs": [
    {
     "data": {
      "text/plain": [
       "['111.71.25.9']"
      ]
     },
     "execution_count": 10,
     "metadata": {},
     "output_type": "execute_result"
    }
   ],
   "source": [
    "ip_str = \"※ 發信站: 批踢踢實業坊(ptt.cc), 來自: 111.71.25.9\"\n",
    "\n",
    "\n",
    "re.findall('[0-9]+\\.[0-9]+\\.[0-9]+\\.\\d+',ip_str)"
   ]
  },
  {
   "cell_type": "code",
   "execution_count": 11,
   "metadata": {},
   "outputs": [
    {
     "data": {
      "text/plain": [
       "['111.71.25.9']"
      ]
     },
     "execution_count": 11,
     "metadata": {},
     "output_type": "execute_result"
    }
   ],
   "source": [
    "ip_str = \"※ 發信站: 批踢踢實業坊(ptt.cc), 來自: 111.71.25.9\"\n",
    "\n",
    "re.findall('\\d+\\.\\d+\\.\\d+\\.\\d+', ip_str)"
   ]
  },
  {
   "cell_type": "code",
   "execution_count": 29,
   "metadata": {},
   "outputs": [
    {
     "data": {
      "text/plain": [
       "['6543', '21']"
      ]
     },
     "execution_count": 29,
     "metadata": {},
     "output_type": "execute_result"
    }
   ],
   "source": [
    "import re\n",
    "str = '654321'\n",
    "\n",
    "re.findall('\\d\\d\\d?\\d?', str)\n"
   ]
  },
  {
   "cell_type": "code",
   "execution_count": 31,
   "metadata": {},
   "outputs": [
    {
     "data": {
      "text/plain": [
       "['※ 發信站', ': 批踢踢', '實業坊(p', 'tt.cc', '), 來自', ': 223', '.136.', '83.25']"
      ]
     },
     "execution_count": 31,
     "metadata": {},
     "output_type": "execute_result"
    }
   ],
   "source": [
    "ip_str2 =  \"※ 發信站: 批踢踢實業坊(ptt.cc), 來自: 223.136.83.250\"\n",
    "\n",
    "re.findall('.....',ip_str2)"
   ]
  },
  {
   "cell_type": "code",
   "execution_count": 33,
   "metadata": {},
   "outputs": [
    {
     "data": {
      "text/plain": [
       "['ianchen06@gmail.com']"
      ]
     },
     "execution_count": 33,
     "metadata": {},
     "output_type": "execute_result"
    }
   ],
   "source": [
    "ip_str2 = \"※ 發信站: 批踢踢實業坊(ptt.cc), 來自: ianchen06@gmail.com\"\n",
    "\n",
    "re.findall('[a-z]+[0-9]+@[a-z]+\\.[a-z]+',ip_str2)"
   ]
  },
  {
   "cell_type": "code",
   "execution_count": 34,
   "metadata": {},
   "outputs": [
    {
     "data": {
      "text/plain": [
       "['ianchen06@gmail.com']"
      ]
     },
     "execution_count": 34,
     "metadata": {},
     "output_type": "execute_result"
    }
   ],
   "source": [
    "ip_str2 = \"※ 發信站: 批踢踢實業坊(ptt.cc), 來自: ianchen06@gmail.com\"\n",
    "\n",
    "re.findall('\\w{1,}@\\w{1,}\\.\\w{1,}',ip_str2)"
   ]
  },
  {
   "cell_type": "code",
   "execution_count": 40,
   "metadata": {},
   "outputs": [
    {
     "data": {
      "text/plain": [
       "['ptt@gmail.com', 'ianchen06@gmail.com']"
      ]
     },
     "execution_count": 40,
     "metadata": {},
     "output_type": "execute_result"
    }
   ],
   "source": [
    "ip_str2 = \"ptt@gmail.com※ 發信站: 批踢踢實業坊(), 來自: ianchen06@gmail.com\"\n",
    "\n",
    "re.findall('\\w+@\\w+\\.\\w+', ip_str2)\n"
   ]
  },
  {
   "cell_type": "code",
   "execution_count": null,
   "metadata": {
    "collapsed": true
   },
   "outputs": [],
   "source": []
  }
 ],
 "metadata": {
  "kernelspec": {
   "display_name": "Python 3",
   "language": "python",
   "name": "python3"
  },
  "language_info": {
   "codemirror_mode": {
    "name": "ipython",
    "version": 3
   },
   "file_extension": ".py",
   "mimetype": "text/x-python",
   "name": "python",
   "nbconvert_exporter": "python",
   "pygments_lexer": "ipython3",
   "version": "3.6.1"
  }
 },
 "nbformat": 4,
 "nbformat_minor": 2
}
