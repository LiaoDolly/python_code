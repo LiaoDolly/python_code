{
 "cells": [
  {
   "cell_type": "code",
   "execution_count": null,
   "metadata": {
    "collapsed": true
   },
   "outputs": [],
   "source": [
    "# soup0 = soup.select('.tool')[0].text\n",
    "# soup1 = soup.select('.tool')[1].text\n",
    "# soup2 = soup.select('dl')[1].select('dd')[-1].text.replace('\\r','\\n')\n",
    "# soup3 = soup.select('h1')[1].contents[0].replace(\"\\r\\n\",\"\").replace(\" \",\"\")\n",
    "# soup4 = soup.select('.update')[0].text\n",
    "# soup5 = BeautifulSoup(res1.text,'lxml').select('.cn')[0]"
   ]
  },
  {
   "cell_type": "code",
   "execution_count": 3,
   "metadata": {},
   "outputs": [
    {
     "name": "stdout",
     "output_type": "stream",
     "text": [
      "[{'title': 'PHP網站開發工程師', 'company': '弄弄設計有限公司', 'content': '工作內容:網站開發與維護。在弄弄設計有專業的網頁視覺設計師，提供網站所需素材，也有專案管理人員(ProjectManager)協助客戶間的溝通，工程師僅需專注於網站開發。基本條件1.主動自我學習2.負責任的工作態度3.熟悉PHP,MySQL4.熟悉LAMP/LNMP環境部署與設定5.熟悉jQueryAPI6.熟悉ResponsiveWebDesign開發模式。7.使用前端開發工具webpack,gulp...等等8.使用Git版本控制。', 'tools': 'Linux、PHP、MySQL、HTML、JavaScript、jQuery', 'skills': '不拘', 'post_date': '更新日期：2017-07-10', 'other_condition': '★加分條件： \\n1. 了解ES6新特性\\n2. 了解物件導向開發模式\\n3. 具備VPS使用經驗(AWS佳)\\n4. PHP Framework 的使用經驗\\n5. Wordpress theme, Plugin開發經驗\\n6. Vue, React, Angular 任一框架開發經驗'}]\n"
     ]
    }
   ],
   "source": [
    "# one job one page\n",
    "import csv\n",
    "import json\n",
    "import time\n",
    "import requests\n",
    "from bs4 import BeautifulSoup\n",
    "from collections import Counter\n",
    "\n",
    "\n",
    "\n",
    "URL = 'https://www.104.com.tw/job/?jobno=4q8wh&jobsource=104_hotorder'\n",
    "res = requests.get(URL)\n",
    "soup = BeautifulSoup(res.text,'lxml')\n",
    "data = []\n",
    "jobInfo = dict()\n",
    "jobInfo[\"title\"] = soup.select('h1')[1].contents[0].replace(\"\\r\\n\",\"\").replace(\" \",\"\")\n",
    "jobInfo[\"company\"] = soup.select('.cn')[0].text\n",
    "jobInfo[\"content\"] = soup.select_one(\"div.content > p\").text.replace(\"\\r\", \"\").replace(\" \", \"\")\n",
    "jobInfo[\"tools\"] = soup.select('.tool')[0].text\n",
    "jobInfo[\"skills\"] = soup.select('.tool')[1].text\n",
    "jobInfo[\"post_date\"]= soup.select('.update')[0].text\n",
    "jobInfo[\"other_condition\"] = soup.select('dl')[1].select('dd')[-1].text.replace('\\r','\\n')\n",
    "\n",
    "\n",
    "\n",
    "\n",
    "data.append(jobInfo) #json array\n",
    "\n",
    "\n",
    "print(data)\n",
    "\n",
    "with open('5566.json','w') as f:\n",
    "    json.dump(data,f)\n",
    "\n",
    "#function表示法\n",
    "# def saveData(data,fileName = \"data.json\"):\n",
    "#     with open(fileName, 'w') as f:\n",
    "#         json.dump(data, f)\n",
    "# saveData(data,\"104_Get_軟體設計工程師_cat1001.json\")\n",
    "\n"
   ]
  },
  {
   "cell_type": "code",
   "execution_count": 2,
   "metadata": {},
   "outputs": [
    {
     "name": "stdout",
     "output_type": "stream",
     "text": [
      "============================================================================第1頁\n",
      "[{'title': '總公司程式設計師', 'company': '全國電子股份有限公司', 'content': '1.商業系統流程開發/維護2.行動裝置應用開發3.SAP導入事務', 'tools': '不拘', 'skills': '不拘', 'post_date': '更新日期：2017-07-17', 'other_condition': '1.具PHP程式開發經驗\\n2.有HTML5/CSS3、JavaScript(或jQuery、Bootstrap)經驗尤佳\\n3.有資訊庫設計概念尤佳\\n4.有Web-Service概念尤佳\\n5.有行動裝置開發概念尤佳'}]\n",
      "[{'title': '【日商花王擴大招募】程式設計師(應屆畢業生佳)', 'company': '日商  花王(台灣)股份有限公司', 'content': '1.建置、管理與維護公司系統。2.使用微軟相關程式，如VB、VBA，進行程式/系統開發。3.配合營業部門需求，開發/撰寫適用之系統，以優化相關作業。5.部門內&跨部門團隊合作完成專案4.熟悉Microsoft相關產品(Windows,Office…)※若為資訊相關科系畢業之應屆畢業生佳，無經驗可。非相關科系畢業但已獲得相關資訊單位之認證，到職後將安排完整培訓計畫！', 'tools': 'ASP.NET、VBA、Visual Basic、Visual Basic .net、MS SQL', 'skills': '軟體程式設計、網路程式設計', 'post_date': '更新日期：2017-07-14', 'other_condition': '1. 無經驗且具備SAP系統相關知識者尤佳\\n2.部門不定期提供內部教育訓練'}]\n",
      "[{'title': '網頁前端設計師(一年以上相關工作經驗)', 'company': '創造力互動媒體有限公司', 'content': '你需要：-會寫語意化的HTML-需有HTML與SEO基礎-一年以上切版工作經驗-HTML5/CSS3/SASS-熟悉RWD(ResponsiveWebDesign)-理解Bootstrap概念-善於表達溝通與分享-對於新鮮事物保有好奇心-可獨立作業-使用軟體vscode/SublimeText/dreamweaver都可以-略懂jquery額外加分：-善用html/css/js/svg的網頁動畫及互動效果-略懂UX概念-略懂原生javascript-略懂後端程式概念我們希望你也是一個樂於交朋友、願意分享，一起和同儕並進的人歡迎有創意、有想法，有工作熱忱者加入備註：此職缺以視覺為主的前端設計工作，而非以程式為主的後端網站開發', 'tools': 'Dreamweaver、Fireworks、HTML、JavaScript、jQuery、Adobe Photoshop、Illustrator', 'skills': '使用者介面設計、網頁軟體操作、網頁語法撰寫', 'post_date': '更新日期：2017-07-13', 'other_condition': '未填寫'}]\n",
      "[{'title': 'PHP工程師/月薪50K-70K+接案獎金', 'company': '樂活多媒體有限公司', 'content': '1.孰悉PHP開發語言，有PHP開發經驗3年以上，具備良好的Coding習慣及技術文檔編寫能力，並能串接不同資料庫。公司主要以Wordpress為基礎架構做開發。2.孰悉MVC，至少使用過目前已知PHP框架其中一種。3.孰悉Linux作業系統(RedHat/CentOS/Ubuntu)基本安裝及調校，常用Linux操作命令，對主機環境、網站架設、PHP/MySQL等優化駕輕就手。4.依需求撰寫並維護API與行動APP跟WEB前端溝通。5.購物車系統金物流串接、功能模組修改與整合應用、開發等能力。6.POS、ERP系統串接與各種不同系統技術整合支援能力。7.瞭解Git/GitHub，包括但不限於分支操作、衝突解決及PullRequests。[個人特質]1.主動積極,細心負責、開朗樂觀2.樂於自主學習、應用新知3.對科技保持好奇心,熱血、有理想!<不具以上特質勿試>我們的薪資依據您的能力與態度來決定，過程中您的能力表現與自我要求、責任感等都會評估在薪水上。*後端工程師負責的主場專案會有接案獎金1%，內容為主要專案客制功能的工作為新開發，比如所負責的專案五十萬元就有五千元額外獎金，專案內部分功能開發可分配獎金、視專案比例，績效評估同時是加薪的依據。。公司位於台大公館，是生態與人文薈萃的地方。有捷運、公車可搭乘，交通很便利，環境很舒服。我們公司的官網：https://lohaslife.cc讓我們一起共織夢想，一起在這像家一樣的團隊彼此分享喜怒哀樂^^', 'tools': '不拘', 'skills': '不拘', 'post_date': '更新日期：2017-07-16', 'other_condition': '我們會有嚴格的考試需要您過關斬將，沒有幾把刷子不要輕易嘗試，LOHAS IT的工程師至少要具備數學底子好、演算能力強、傑出的編寫程式能力等基本功，因為我們重視追求卓越的您才如此謹慎。\\n 1.熟 Internet Protocols (HTTP / HTTPS, SMTP, DNS)\\n2.熟Wordpress撰寫與運用；熟悉後台網站管理, 具備 troubleshooting 經驗\\n3.熟悉版本控制 (如: SVN , Git ...etc)\\n4.熟悉後台PHP, Python 語言, 及相關MVC套件\\n5.需有開發網站接案或是工作經驗三年以上，請附上作品和說明\\n6.有操作應用cloud server經驗者尤佳 (ex: Azure, Amazon, Alicloud等)\\n 請參考我們的網站作品，我們致力於系統開發：\\nhttps://lohaslife.cc/success-case\\n 我們的品牌故事：https://lohaslife.cc/brand-story\\n 經營理念:\\n公司採用開放與平等尊重的經營模式，但也有一定的基本要求，可以接受錯誤，不能接受都沒嘗試就放棄。我們彼此間就像朋友與夥伴關係，對團隊的榮耀相當重視，大家一起成長與學習，一起努力與瘋狂玩樂，公司不需要你爆肝失去健康以及快樂，需要共同找出方法解決問題與提升效率，我們期待有不同的人才共聚一堂彼此激發出火花哦～'}]\n",
      "[{'title': '網站開發工程師', 'company': '華冠創意媒體有限公司', 'content': '1．系統功能開發、測試及導入2．系統維護及日常作業問題處理', 'tools': 'AJAX、PHP、MySQL、JavaScript、jQuery', 'skills': '作業系統基本操作、網路程式設計', 'post_date': '更新日期：2017-07-11', 'other_condition': '1.個性積極,學習力高. \\n2.具PHP程式開發經驗. \\n3.做事細心,思慮甚密. \\n4.良好的溝通與傾聽技能\\n5.可獨立或與團隊成員搭配合作'}]\n",
      "[{'title': 'Sr.WebFrontendJavaScriptEngineer(銀髮事業處)', 'company': '104人力銀行_一零四資訊科技股份有限公司', 'content': '台灣在2017年正式成為高齡社會,銀髮必將會是全世界最關注的焦點,104銀髮團隊抱持著一份對社會關懷的熱情以及對最新科技的堅持,展望與台灣各個頂尖的技術團隊一起努力,提供專為銀髮族設計的創新服務和產品。加入我們，讓我們攜手用最新的資訊技術為台灣的未來一起努力!!1.網站ReactJS開發2.支援RWD*熟悉Git操作尤佳', 'tools': '不拘', 'skills': '軟體程式設計、結構化程式設計、網路程式設計', 'post_date': '更新日期：2017-06-23', 'other_condition': '1.具備 JavaScript、Node.Js、Angular JS 程式設計專案開發經驗。2.熟悉任一 JavaScript Framework，React／Redux 為佳。3.熟悉Mobile/RWD 設計概念方法。4.了解前端自動化測試技術。5.良好的團隊協作。'}]\n",
      "[{'title': 'Sr.WebFrontendJavaScriptEngineer(銀髮事業處)', 'company': '104人力銀行_一零四資訊科技股份有限公司', 'content': '台灣在2017年正式成為高齡社會,銀髮必將會是全世界最關注的焦點,104銀髮團隊抱持著一份對社會關懷的熱情以及對最新科技的堅持,展望與台灣各個頂尖的技術團隊一起努力,提供專為銀髮族設計的創新服務和產品。加入我們，讓我們攜手用最新的資訊技術為台灣的未來一起努力!!1.網站ReactJS開發2.支援RWD*熟悉Git操作尤佳', 'tools': '不拘', 'skills': '軟體程式設計、結構化程式設計、網路程式設計', 'post_date': '更新日期：2017-06-23', 'other_condition': '1.具備 JavaScript、Node.Js、Angular JS 程式設計專案開發經驗。2.熟悉任一 JavaScript Framework，React／Redux 為佳。3.熟悉Mobile/RWD 設計概念方法。4.了解前端自動化測試技術。5.良好的團隊協作。'}]\n",
      "[{'title': '前端網頁工程師', 'company': '薩摩亞商絕勝國際股份有限公司', 'content': '1.能以HTML、Javascript、CSS設計網頁內容，以提供更好的前端使用者體驗。2.熟悉HTML、CSS、CSS3、RWD(響應式)網頁前端設計技能3.將視覺設計的圖檔切版產生CSS+HTML4.依照效果需求編寫javascript或使用jQuery5.分析設計前端架構以UI質感與UX體驗6.優化前端體驗和頁面回應速度，並保持良好的相容性、提升易用性', 'tools': 'HTML、JavaScript、jQuery', 'skills': '不拘', 'post_date': '更新日期：2017-07-12', 'other_condition': '1.細心，能獨立作業\\n2.具有良好的溝通能力與團隊合作能力\\n3.工作態度積極、自我管理能力良好'}]\n",
      "[{'title': 'SoftwareEngineer', 'company': 'Marine Harvest_台灣美威水產股份有限公司', 'content': '1.Developcustomsolutionstomeetdefinedbusinessrequirementsonwebapplications.2.Designandbuildwebapplicationsbyusing.netandPHPaswellasparticipantintesting.3.Solving/Diggingwebapplicationplatformincidentsandescalation4.ReadytolearnnewglobalsystemandplatformsuchassharepointandQlikViewetc…5.Reportingsupport–SQL,QlikViewandexcelprogramming.', 'tools': '不拘', 'skills': '不拘', 'post_date': '更新日期：2017-07-10', 'other_condition': '1. At least 5 years’ relevant system analyst experiences \\n2. Familiar with at least 2 web application language ie.. .net and php\\n3. Familiar with Business process flow \\n4. Sharepoint is a plus'}]\n",
      "[{'title': 'PHP資深後端工程師(上班地點台中)', 'company': '104人力銀行_一零四資訊科技股份有限公司', 'content': '104致力於讓台灣職場更好，歡迎有熱情有想法的工程師加入我們~主要負責工作內容如下：1.人力銀行主要網站功能架構設計及開發實作，以PHP及java開發為主2.建置及維護核心元件，以soapapi或restfulapi為主3.軟體工程最佳實踐，如單元測試,自動化測試,codereview,coderefactoring。4.提供產品Owner工程評估及建議5.日常網站營運及維護', 'tools': 'C、C++、Java、PHP、JavaScript、HTTP、TCP/IP', 'skills': '軟體程式設計、結構化程式設計、網路程式設計', 'post_date': '更新日期：2017-06-23', 'other_condition': '1.具豐富物件導向設計與實作經驗和技術。2.紮實的coding和debugging技術和經驗。(Java, C, C++, PHP, JavaScript任一)3.熟知網路相關協議(TCP, HTTP/HTTPS)並有實務開發經驗。4.熟悉Linux/Unix環境，包括shell script。5.熟悉 MySQL並具備資料庫設計能力。6.有AWS(Amazon Web Services)實作及瞭解CI (Continuous Integration)、CD (Continuous Deployment)開發經驗尤佳'}]\n",
      "[{'title': '程式設計師', 'company': '輔翼科技股份有限公司', 'content': '程式設計師', 'tools': '不拘', 'skills': '不拘', 'post_date': '更新日期：2017-07-11', 'other_condition': '熟悉Java、JSP'}]\n",
      "[{'title': 'PHP程式設計師', 'company': '利鑫雲端遊戲科技有限公司', 'content': '1.網站管理介面系統與程式設計。2.網站資料庫相關程式設計與維護管理。3.網頁資料呈現程式設計(與網頁設計師配合)。4.各種程式API整合。5.其他公司內部程式與資料庫設計與維護管理。', 'tools': 'AJAX、PHP、HTML、JavaScript、jQuery', 'skills': '不拘', 'post_date': '更新日期：2017-07-10', 'other_condition': '1. 須熟悉動態網站PHP程式設計及MySQL資料庫。2. 熟悉XML、XSLT、AJAX、JavaScript、CSS及DHTML等相關程式設計。3. 邏輯周密，開發效率高，能與網頁設計師相互配合。4. 個性樂觀合群，樂於學習，負責主動'}]\n",
      "[{'title': '程式設計師(實習)', 'company': '全曜財經資訊股份有限公司', 'content': '【關於此職務】為什麼有志於程式開發的你，應該認真考慮我們的『實習程式設計師』職務呢？如果你對程式開發很有興趣，但是卻沒有相關經驗（譬如資工、資管大三、四或剛畢業），甚至不是資訊相關科系畢業，卻自認邏輯清楚，嚮往以程式開發為終身志業，歡迎您來應徵這個實習程式設計師的職務。只要你有決心，我們會以三個月的時間，訓練你，讓你有機會成為用雙手創造改變的優秀程式設計師。1.理工科系畢業，無程式開發經驗可（在校生亦可有實習時數最低限制）。2.對撰寫程式開發有高度興趣，有志以此為終身職業。3.樂於學習並希望創造優異的程式影響這個世界。4.對思辨、挑戰、創造改變非常感興趣5.喜愛並能願意學習、掌握各種新技術的重點6.邏輯能力強，喜歡發現問題並挑戰最佳解決方案7.自律、自信、積極主動、樂觀、喜歡做有效益的事情8.有彈性、樂於接受領導、能溝通、樂於助人、習慣團隊合作9.資訊相關科系大三大四生或剛畢業者尤佳10.實習時數，ㄧ周必須能來滿24小時以上(目前暫不收僅能暑期來的實習生)', 'tools': '不拘', 'skills': '不拘', 'post_date': '更新日期：2017-07-14', 'other_condition': '1.在校生實習時數，ㄧ周必須能來滿24小時以上(目前暫不收 僅能暑期來的實習生)\\n2.非在校生實習時數，ㄧ周能來滿5天。\\n3.若實習結束，經過評量合格，我們還會直接提供 正式職缺給你喔！ \\n 一、軟體設計是我們公司的核心業務\\n不像大部分公司，軟體可能是附屬部門(很多公司都是業務第一，其他都是附屬品。)因此我們仔細設計軟體與網站產品，創作出有用、好用的軟體設計是我們公司的核心競爭力，軟體工程師佔公司4成以上人數，優異的程式設計師，在我們公司有最重要且核心的位置。\\n 二、有優秀同事共同創造與成長\\n我們採agile programing方式開發軟體，我們知道能跟優秀的程式設計師團隊合作，那真是一件爽快的事，因為優秀的同事會刺激你非得迎頭趕上的上進心，尤其是一起討論問題的解決方案 以達成目標時，他們會觸發你有更好的解決思維力能力，彼此共同成長並且一起享受解謎與破關般的樂趣(你一定聽得懂我在說甚麼感覺)。\\n 三、我們專選有挑戰難題來解決\\n我們相信未來是軟體主宰世界的時代，不斷在這領域找出值得挑戰的難題，解決並產生效益才是公司長久的競爭力，所有如果你喜歡面對挑戰，欣賞我們找未知領域單挑的態度，那這就是屬於你的地方。\\n 四、良好的開發環境與工具\\n超快的i5以上 CPU 配超大雙螢幕，16G以上記憶體及SSD硬碟是我們程式設計師的基本配備，讓你享受高速開發程式的快感（誰會反對這一點呢？）。就像樵夫砍木頭，與其不眠不休的努力工作，我們先幫你把斧頭磨利。\\n 五、參與產品的規劃\\n程式設計師最大的成就感，就是開發出真的能改善他人生活的成品，而這樣的產品問世，除了規劃人員外，程式開發人員的參與是很重要的部分，我們希望從開始就聆聽你的看法、意見，一起來幫助產品成功。\\n 六優渥的薪資\\n優秀的程式設計師和一般水準的程式設計師之間的差異是極大的，我們一直在尋找(當然我們也一直在培訓)這樣的人才，如果你是這樣的人，絕對值得優渥的薪資。\\n 七、單純不官僚\\n我們盡全力打造能讓所有人在對的職務上，做對的事情，用真心與人一對一深度溝通，絕沒有無聊冗長的會議，培養並看中您的實力而不看關係。曾被大組織官僚文化折磨過的人，相信在這裡可以讓你耳目一新，讓你的天賦與努力徹底發揮。\\n 八、不用加班\\n我們認為公司如果需要常態加班，這樣的公司競爭力容易有問題，所以請你放心準時下班回去休息、充電，希望你能每早帶著快樂的心情，迎向每個全新一天的可能性。\\n 如果你是優秀的程式設計師，正在尋找讓您的理想與能力徹底發揮的地方，請立刻把您的履歷寄給我們吧！'}]\n",
      "[{'title': '程式設計師', 'company': '新鈺生技股份有限公司', 'content': '1.ERP、POS、EIP、CRM、EDMS、差勤系統新增及維護2.使用者程式相關問題處理及排除3.主管交辦事項', 'tools': '不拘', 'skills': '不拘', 'post_date': '更新日期：2017-07-13', 'other_condition': '1. 2年以上程式設計師經驗\\n2. 熟悉Microsoft SQL Server、VB6、VB.Net、Java、ASP.Net、T-SQL指令'}]\n"
     ]
    },
    {
     "name": "stdout",
     "output_type": "stream",
     "text": [
      "[{'title': '程式設計師', 'company': '鉍富企業股份有限公司', 'content': '1.ERP、POS、EIP、CRM、EDMS、差勤系統新增及維護2.使用者程式相關問題處理及排除3.主管交辦事項', 'tools': '不拘', 'skills': '不拘', 'post_date': '更新日期：2017-07-12', 'other_condition': '1. 2年以上程式設計師經驗\\n2. 熟悉Microsoft SQL Server、VB6、VB.Net、Java、ASP.Net、T-SQL指令'}]\n",
      "[{'title': '程式設計師', 'company': '彥豪金屬工業股份有限公司', 'content': '1.公司應用系統新功能開發,舊功能優化,bug修改。2.新專案程式設計,開發,撰寫,修改。3.系統程式規劃及規格書開立及系統相關文件的製作。4.伺服器主機設定維護。5.使用者電腦問題處理及排除。6.主管交辦事項', 'tools': '不拘', 'skills': '不拘', 'post_date': '更新日期：2017-07-13', 'other_condition': '2年以上程式設計師經驗，能獨立分析、設計、開發之能力\\n熟悉 ASP.NET、PHP 、JavaScript、AJAX、CSS、 web系統程式開發經驗\\n熟悉MS SQL Server及MySQL資料庫程式設計技術\\n主動學習、具備良好協調溝通能力'}]\n",
      "[{'title': '程式設計師', 'company': '財團法人台灣綠色生產力基金會', 'content': '1.資訊系統平台開發及維護2.APP應用程式\\\\Web網頁應用程式開發、修改與維護。3.應用程式分析與設計(SA及SD)及文件撰寫。4.資料整理及資料庫建置及使用。5.使用者電腦設定、故障排除與協助。', 'tools': 'AJAX、ASP.NET、MS SQL、HTML、JavaScript、jQuery、IIS', 'skills': '伺服器網站管理維護、軟體程式設計、資料庫系統管理維護、資料庫程式設計、資料庫軟體應用', 'post_date': '更新日期：2017-07-12', 'other_condition': '1. 具有ASP.NET C#、APP程式設計與開發經驗，兼具MS SQL資料庫管理等工作能力。\\n2. 熟ASP.NET C#、MS SQL SERVER、SQL語法，Windows IIS Server設定。\\n3. 熟 Web開發技術(HTML、Java Script、CSS、jQuery、AJAX等)。\\n4. NET相關技術及MVC開發架構。\\n5. 已接受專門機構辦理之資訊專業訓練班\\\\職訓補助專案課程班 尤佳(例：資策會 Web/APP 前端設計工程師養成班、恆逸微軟全方位網站程式設計師養成班)。\\n6. 可團隊合作也可以獨立作業。 \\n7. 對程式撰寫有興趣，認真負責，希望技術方面不斷精進也願意分享。 \\n8. 應屆畢業生請附學業成績單影本、專題作品或研究成果。\\n9.     身心障礙者可。'}]\n",
      "[{'title': '程式設計師', 'company': '全一電子股份有限公司', 'content': 'ERP程式開發', 'tools': 'JSP、PL/SQL、鼎新', 'skills': 'MES工廠執行系統規劃管理、企業資源規劃管理(ERP)', 'post_date': '更新日期：2017-07-05', 'other_condition': '使用鼎新TIPTOP 系統/4GL程式語言/SQL語法'}]\n",
      "[{'title': '程式設計師', 'company': '英渥德科技股份有限公司', 'content': '程式設計', 'tools': '不拘', 'skills': '不拘', 'post_date': '更新日期：2017-07-13', 'other_condition': '大學資訊工程/電算機科系畢業,無相關工作經驗可.對電腦程式有興趣,具基本英文能力,學習力強,處事細心,個性積極.'}]\n",
      "[{'title': '程式開發設計師', 'company': '豐醇科技有限公司', 'content': '我們公司正在尋找程式開發設計師。若您具備二年以上的程式設計經驗，熱愛挑戰與新技術的研究，誠摯歡迎您加入我們的團隊!（一）日常性工作1.熟.NET開發技術。2.熟WinForm開發。3.熟WebAPI、WebService等技術。4.熟C#與物件導向觀念。5.客戶端系統開發,具備除錯能力。6.資料庫規劃與分析。（二）不定期之工作1.更新維護專案系統2.新技術研究與分享3.主管交辦事項', 'tools': 'C#、Visual Studio .net', 'skills': '軟體程式設計、網路程式設計', 'post_date': '更新日期：2017-07-17', 'other_condition': '(一)專業要求：WinForm 開發技術 \\n(二)相關經驗要求：程式撰寫實務經驗2年以上 \\n(三)其他要求： \\n1. 具獨立開發能力/經驗 \\n2. 具備溝通協調力 \\n3. 具解決問題獨立思考能力\\n4. 樂於學習並主動積極掌握各種新技術\\n5. 具有責任感\\n 【加分項目】 \\n有POS系統開發經驗。'}]\n",
      "[{'title': '程式設計師', 'company': '長科資訊股份有限公司', 'content': '1.負責軟體程式撰寫。2.開發以網路為基礎的應用程式（Web-basedapplication）。3.負責新系統之開發及現有系統之修改與擴充。4.了解及使用過Oracle或SQLServer資料庫者尤佳5.具備VisualBasic程式設計經驗尤佳6.具備MSVisual.Net程式開發經驗者尤佳7.具有工作熱忱&有良好之溝通能力及團隊合作精神。8.自認個性獨立,熱愛程式設計工作.', 'tools': 'ActionScript、AJAX、ASP.NET、Visual Basic、Visual Basic .net、Visual Studio、Visual Studio .net、ANSI SQL、Database Management、MS SQL、Oracle、PL/SQL、HTML、JavaScript、XML、XML Web services、jQuery、Flex', 'skills': '作業系統基本操作、資料備份與復原、資訊設備環境設定、軟體程式設計、網路程式設計', 'post_date': '更新日期：2017-06-26', 'other_condition': '【職務條件】1.具工作熱忱、抗壓性強、親和力佳。2.有耐心、責任感、頭腦清楚、工作態度積極。3.學習能力強、口齒清晰、應對能力佳、有良好之溝通能力。4.具良好團隊合作精神。5.自認熱愛程式設計工作.'}]\n",
      "[{'title': 'Internet程式設計師', 'company': '全曜財經資訊股份有限公司', 'content': '1.有獨立分析、設計、開發Web應用程式之能力。2.須熟悉ASP.NET(C#)、JavaScript、AJAX、CSS及MSSQLServer。3.積極主動、樂觀、能溝通、樂於助人及習慣團隊合作。4.具獨立發現問題解決問題能力。5.邏輯能力強，能快速學習並運用新技術。6.對撰寫優秀的程式碼有高度熱情7.想學習並創造優異的程式改善世界。', 'tools': 'AJAX、ASP.NET、C#、Web Master/Developer、jQuery', 'skills': '不拘', 'post_date': '更新日期：2017-07-14', 'other_condition': '為什麼優秀的你應該認真考慮我們的程式設計師職務：\\n 一、軟體設計是我們公司的核心業務\\n不像大部分公司，軟體可能是附屬部門(大部分的公司都是業務第一，其他都是附屬品。)因此我們仔細設計軟體與網站產品，創作出有用、好用的軟體設計是我們公司的核心競爭力，軟體工程師佔公司6成以上人數，優異的程式設計師，在我們公司有最重要且核心的位置。\\n 二、有優秀同事共同創造與成長\\n我們知道能跟優秀的程式設計師共事，那真是一件爽快的的事，因為優秀的同事會刺激你非得迎頭趕上的上進心，尤其是一起討論問題的解決方案時，他們會觸發你有更好的解決思維力能力，彼此共同成長並且一起享受解謎與破關般的樂趣(你一定聽得懂我在說甚麼感覺)。\\n 三、我們專選有挑戰難題來解決\\n我們相信未來是軟體主宰世界的時代，不斷在這領域找出值得挑戰的難題，解決並產生效益才是公司長久的競爭力，所有如果你喜歡面對挑戰，欣賞我們找未知領域單挑的態度，那這就是屬於你的地方。\\n 四、良好的開發環境與工具\\n超快的i5以上 CPU 配超大雙螢幕，16G以上記憶體及SSD硬碟是我們程式設計師的基本配備，讓你享受高速開發程式的快感（誰會反對這一點呢？）。就像樵夫砍木頭，與其不眠不休的努力工作，我們先幫你把斧頭磨利。\\n 五、參與產品的規劃\\n程式設計師最大的成就感，就是開發出真的能改善他人生活的成品，而這樣的產品問世，除了規劃人員外，程式開發人員的參與是很重要的部分，我們希望從開始就聆聽你的看法、意見，一起來幫助產品成功。\\n 六優渥的薪資\\n優秀的程式設計師和一般水準的程式設計師之間的差異是極大的，我們一直在尋找(當然我們也一直在培訓)這樣的人才，如果你是這樣的人，絕對值得優渥的薪資。\\n 七、單純不官僚\\n我們盡全力打造能讓所有人在對的職務上，做對的事情，用真心與人一對一深度溝通，絕沒有無聊冗長的會議，培養並看中您的實力而不看關係。曾被大組織官僚文化折磨過的人，相信在這裡可以讓你耳目一新，讓你的天賦與努力徹底發揮。\\n 八、不用加班\\n我們認為公司如果需要常態加班，這樣的公司競爭一定大有問題，所以請你放心準時下班回去休息、充電，希望你能每早帶著快樂的心情，迎向每個全新一天的可能性。\\n 如果你是優秀的程式設計師，正在尋找讓您的理想與能力徹底發揮的地方，請立刻把您的履歷寄給我們吧！'}]\n",
      "[{'title': '資深程式設計師', 'company': '英特內軟體股份有限公司', 'content': '1.熟悉Java、SQL(MSSQL)。2.具前端HTML,CSS,JavaScript開發經驗為佳。2.大專以上畢業，具備3-5年以上系統開發經驗者。3.具有社團經驗及個性活潑、數理邏輯清晰、良好的溝通能力。4.工作內容主要負責軟體、網頁程式(Servlet)開發、測試與問題查修與解決。5.意願挑戰與學習產品各方面多元商業邏輯。6.必要時須駐點協助內部人員解決客戶線上問題。7.,開發行動商務及巨量資料系統相關', 'tools': '不拘', 'skills': '不拘', 'post_date': '更新日期：2017-07-14', 'other_condition': '1.專業團隊以Java語言開發Swing,Web Base的程式，透過專案的訓練，提升專業能力，可往產品研發的方向發展2.工作方式均為Team Work，可學習並獲得最多最有效的資訊3.可多方面學習各種產品、產業商業邏輯(domain know how)。4.要有三年java程式設計師經驗5.需出差及外派,但非長時間'}]\n",
      "[{'title': 'Android/iPhone程式設計師', 'company': '艾創科技股份有限公司', 'content': '1.Android/iPhone軟體程式設計', 'tools': 'C、C++、Java', 'skills': '不拘', 'post_date': '更新日期：2017-07-13', 'other_condition': '對APP/Linux Kernel/Driver程式設計有興趣者為佳'}]\n",
      "[{'title': '程式設計師', 'company': '太形整合廣告企劃股份有限公司', 'content': '1.PHP程式規劃撰寫，能獨立作業。2.網頁後台程式規劃撰寫。3.熟識MySQL資料庫。4.略懂Javascript/jQuery/JSON/CSS/HTML運作及運用。5.與前台頁面設計師相互合作經驗。', 'tools': 'Java、PHP、MySQL、JavaScript、jQuery', 'skills': '不拘', 'post_date': '更新日期：2017-07-12', 'other_condition': '未填寫'}]\n",
      "[{'title': '程式設計師', 'company': '昱勝資訊股份有限公司', 'content': '1.使用微軟.Net平台技術(C#、ASP.Net)，之前若熟悉VB.Net願意轉C#者也歡迎2.與專案團隊合作開發應用系統相關程式3.應屆畢業生可4.對程式開發有熱情，願意學習5.有資歷者可直接擔任資深程式設計師', 'tools': 'ASP.NET、C#', 'skills': '不拘', 'post_date': '更新日期：2017-06-29', 'other_condition': '未填寫'}]\n",
      "[{'title': '㊝【程式設計師】', 'company': '銓鴻資訊有限公司', 'content': '1.2+yearsofexperienceinserversideprogramming.2.FamiliarwithJavaScript/Node.js/Pythonprogramming.加分技能：-ExperienceofSaaS/Webservice,RESTfulinterface.-ExperiencewithNoSQLdatabases.-ExperienceinusingGit/mercurial.-DevelopmentordeploymentexperienceinUnix/Linuxenvironmentandshellscriptprogramming(Perl/Python)experience.-Algorithmskills.求才若渴如果你(妳)有下列特質：是個懶人：希望以最小的力氣達成目標，甚至提升品質，懂得善用工具增加生產力，重構提煉自有的程式庫。有團隊精神：懂得協同合作提升整體效益，將團隊目標置於個人之前。充滿好奇心：喜歡接觸、學習新事物，發現各種創新的可能。熱愛程式：充滿熱情想改變世界，將巧思及創造力注入每一行程式碼。歡迎加入我們！一起邁向偉大航道:)', 'tools': 'AJAX、Python、MS SQL、MySQL、PostgreSQL、RDBMS、HTML、JavaScript', 'skills': '系統架構規劃、系統整合分析、軟體工程系統開發、軟體程式設計、網路程式設計、資料庫程式設計、資料庫軟體應用', 'post_date': '更新日期：2017-07-10', 'other_condition': '將先以電子履歷篩選增加效率，請注意以下事項：《Email 或104履歷皆可》1. 履歷請詳述相關經驗及附上程式作品或截圖說明、越詳細越好。2. 5年以內軟體開發經歷請備成績單掃描檔。沒通過電子履歷篩選將不另行通知，請見諒！'}]\n",
      "[{'title': 'PHP程式設計師', 'company': '堂朝數位整合股份有限公司', 'content': '本公司因業務擴展，目前正在招募PHP程式設計師，職務說明如下：1.既有平臺新功能開發,舊功能優化,bug修改等2.新專案程式設計,開發,撰寫,修改等3.參與負責之相關業務(程式)會議4.其他主管交辦事項', 'tools': 'AJAX、PHP、MySQL、DHTML、HTML、JavaScript、XML、jQuery', 'skills': '軟體程式設計、結構化程式設計、網路程式設計、資料庫程式設計、資料庫軟體應用', 'post_date': '更新日期：2017-07-17', 'other_condition': '1. php 需實際開發一年以上經驗, 包含前後臺, 搭配 mysql\\n2. 熟悉, 瞭解且使用過 Smarty 樣版引擎開發\\n3. 熟悉, 瞭解且使用過 MVC 架構開發, 如 codeingitor\\n4. 具PHP程式設計及專案執行之經驗佳\\n5. 會基本 git 版本控制指令, 流程 \\n6. 重視團隊合作及溝通, 具解決問題的獨立思考能力, 對技術有熱情且不斷自我提升\\n7. 具備積極學習心及責任感, 會自我期許, 抗壓性高, 高執行力'}]\n",
      "[{'title': '研發替代役-程式設計師', 'company': '協鴻工業股份有限公司', 'content': '資料庫程式設計師-智慧工廠管理軟體系統,資料庫程式開發.物聯網程式設計師-前端設備連線與物聯網中介軟體開發.網頁前端設計師-前台網頁程式開發.', 'tools': '不拘', 'skills': '不拘', 'post_date': '更新日期：2017-05-18', 'other_condition': '1.具有dot net/java或其他任一種物件導件式軟體設計能力.2.具有資料庫系統設計能力3.具有網頁前端程式開發能力'}]\n",
      "[{'title': '程式設計師', 'company': '環輿科技股份有限公司', 'content': '如果你對程式設計很有興趣，但卻沒有相關經驗，甚至非資訊相關科系畢業，卻自認邏輯清楚，嚮往以程式設計為終身志業，歡迎你來應徵程式設計師的職務，我們將利用三個月的時間來訓練你，讓你有機會成為一位優秀的程式設計師。1.有Asp.net、C#或伺服器語言開發等應用技術者。2.有資料庫操作、規劃、建置概念者3.對行動裝置開發有興趣者。4.有專案&產品開發經驗，能與PM溝通及規畫者尤佳5.喜愛並能願意學習、掌握各種新技術的重點6.有彈性、樂於接受領導、能溝通、樂於助人、習慣團隊合作', 'tools': '不拘', 'skills': '軟體程式設計、網路程式設計、資料庫程式設計', 'post_date': '更新日期：2017-07-10', 'other_condition': '未填寫'}]\n"
     ]
    }
   ],
   "source": [
    "#印出連續大頁，美一頁每一個工作連結點進去後，列出工作技能，擅長工具與其他條件\n",
    "\n",
    "import json\n",
    "import time\n",
    "from bs4 import BeautifulSoup\n",
    "from collections import Counter\n",
    "import requests\n",
    "\n",
    "need = Counter()\n",
    "\n",
    "for i in range(1,2):\n",
    "    print('============================================================================'+'第'+str(i)+'頁')\n",
    "    res=requests.get('https://www.104.com.tw/jobbank/joblist/joblist.cfm?keyword=%E7%A8%8B%E5%BC%8F%E8%A8%AD%E8%A8%88%E5%B8%AB&jobsource=n104bank1&ro=0&order='+str(i))\n",
    "\n",
    "    \n",
    "    soup = BeautifulSoup(res.text,'lxml').select('.job_name > a')\n",
    "   \n",
    "    for link in soup: \n",
    "        if 'href' in link.attrs:\n",
    "            row1 = 'https://www.104.com.tw'+link.attrs['href']   \n",
    "\n",
    "            res1 = requests.get(row1)\n",
    "            soup1 = BeautifulSoup(res1.text,'lxml')\n",
    "            \n",
    "            data = []\n",
    "            jobInfo = dict()\n",
    "            jobInfo[\"title\"] = soup1.select('h1')[1].contents[0].replace(\"\\r\\n\",\"\").replace(\" \",\"\")\n",
    "            jobInfo[\"company\"] = soup1.select('.cn')[0].text\n",
    "            jobInfo[\"content\"] = soup1.select_one(\"div.content > p\").text.replace(\"\\r\", \"\").replace(\" \", \"\")\n",
    "            jobInfo[\"tools\"] = soup1.select('.tool')[0].text\n",
    "            jobInfo[\"skills\"] = soup1.select('.tool')[1].text\n",
    "            jobInfo[\"post_date\"]= soup1.select('.update')[0].text\n",
    "            jobInfo[\"other_condition\"] = soup1.select('dl')[1].select('dd')[-1].text.replace('\\r','\\n')\n",
    "            \n",
    "           \n",
    "            data.append(jobInfo)\n",
    "            print(data)    \n",
    "            with open('~~.json','w') as f:\n",
    "                json.dump(data,f)\n",
    "\n",
    "#             print('====================================')\n",
    "            \n",
    "                \n",
    "      \n"
   ]
  },
  {
   "cell_type": "code",
   "execution_count": null,
   "metadata": {
    "collapsed": true
   },
   "outputs": [],
   "source": []
  }
 ],
 "metadata": {
  "kernelspec": {
   "display_name": "Python 3",
   "language": "python",
   "name": "python3"
  },
  "language_info": {
   "codemirror_mode": {
    "name": "ipython",
    "version": 3
   },
   "file_extension": ".py",
   "mimetype": "text/x-python",
   "name": "python",
   "nbconvert_exporter": "python",
   "pygments_lexer": "ipython3",
   "version": "3.6.1"
  }
 },
 "nbformat": 4,
 "nbformat_minor": 2
}
