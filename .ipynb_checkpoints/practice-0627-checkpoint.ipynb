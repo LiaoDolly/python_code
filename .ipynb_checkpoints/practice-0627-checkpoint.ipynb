{
 "cells": [
  {
   "cell_type": "code",
   "execution_count": 9,
   "metadata": {
    "collapsed": true
   },
   "outputs": [],
   "source": [
    "## Comment\n"
   ]
  },
  {
   "cell_type": "code",
   "execution_count": 8,
   "metadata": {},
   "outputs": [
    {
     "data": {
      "text/plain": [
       "'\\n\\nthis can also be used as a comment\\nmulti line comment\\n\\n'"
      ]
     },
     "execution_count": 8,
     "metadata": {},
     "output_type": "execute_result"
    }
   ],
   "source": [
    "# I am a comment\n",
    "\"\"\"\n",
    "\n",
    "this can also be used as a comment\n",
    "multi line comment\n",
    "\n",
    "\"\"\""
   ]
  },
  {
   "cell_type": "code",
   "execution_count": 10,
   "metadata": {
    "collapsed": true
   },
   "outputs": [],
   "source": [
    "## Print"
   ]
  },
  {
   "cell_type": "code",
   "execution_count": 11,
   "metadata": {},
   "outputs": [
    {
     "name": "stdout",
     "output_type": "stream",
     "text": [
      "hello world\n"
     ]
    }
   ],
   "source": [
    "print(\"hello world\") #print \"hello world\""
   ]
  },
  {
   "cell_type": "code",
   "execution_count": 12,
   "metadata": {},
   "outputs": [
    {
     "name": "stdout",
     "output_type": "stream",
     "text": [
      "123\n"
     ]
    }
   ],
   "source": [
    "print(123)"
   ]
  },
  {
   "cell_type": "code",
   "execution_count": 13,
   "metadata": {
    "collapsed": true
   },
   "outputs": [],
   "source": [
    "##String"
   ]
  },
  {
   "cell_type": "code",
   "execution_count": 16,
   "metadata": {},
   "outputs": [
    {
     "data": {
      "text/plain": [
       "'Hello'"
      ]
     },
     "execution_count": 16,
     "metadata": {},
     "output_type": "execute_result"
    }
   ],
   "source": [
    "\"Hello\" #String---'hello'   \"hello\"  the same"
   ]
  },
  {
   "cell_type": "code",
   "execution_count": 17,
   "metadata": {},
   "outputs": [
    {
     "data": {
      "text/plain": [
       "'hello again'"
      ]
     },
     "execution_count": 17,
     "metadata": {},
     "output_type": "execute_result"
    }
   ],
   "source": [
    "'hello again'"
   ]
  },
  {
   "cell_type": "code",
   "execution_count": 18,
   "metadata": {},
   "outputs": [
    {
     "data": {
      "text/plain": [
       "'hello\\nagain\\nand\\nagain\\n\\n'"
      ]
     },
     "execution_count": 18,
     "metadata": {},
     "output_type": "execute_result"
    }
   ],
   "source": [
    "\"\"\"hello\n",
    "again\n",
    "and\n",
    "again\n",
    "\n",
    "\"\"\"       #multi line String"
   ]
  },
  {
   "cell_type": "code",
   "execution_count": 19,
   "metadata": {},
   "outputs": [
    {
     "data": {
      "text/plain": [
       "str"
      ]
     },
     "execution_count": 19,
     "metadata": {},
     "output_type": "execute_result"
    }
   ],
   "source": [
    "type(\"hello\")"
   ]
  },
  {
   "cell_type": "code",
   "execution_count": 20,
   "metadata": {
    "collapsed": true
   },
   "outputs": [],
   "source": [
    "##Integer"
   ]
  },
  {
   "cell_type": "code",
   "execution_count": 21,
   "metadata": {},
   "outputs": [
    {
     "data": {
      "text/plain": [
       "123"
      ]
     },
     "execution_count": 21,
     "metadata": {},
     "output_type": "execute_result"
    }
   ],
   "source": [
    "123  #int"
   ]
  },
  {
   "cell_type": "code",
   "execution_count": 22,
   "metadata": {},
   "outputs": [
    {
     "data": {
      "text/plain": [
       "456"
      ]
     },
     "execution_count": 22,
     "metadata": {},
     "output_type": "execute_result"
    }
   ],
   "source": [
    "456 #int"
   ]
  },
  {
   "cell_type": "code",
   "execution_count": 23,
   "metadata": {},
   "outputs": [
    {
     "data": {
      "text/plain": [
       "-1"
      ]
     },
     "execution_count": 23,
     "metadata": {},
     "output_type": "execute_result"
    }
   ],
   "source": [
    "-1 #int"
   ]
  },
  {
   "cell_type": "code",
   "execution_count": 24,
   "metadata": {},
   "outputs": [
    {
     "data": {
      "text/plain": [
       "int"
      ]
     },
     "execution_count": 24,
     "metadata": {},
     "output_type": "execute_result"
    }
   ],
   "source": [
    "type(100)"
   ]
  },
  {
   "cell_type": "code",
   "execution_count": 25,
   "metadata": {
    "collapsed": true
   },
   "outputs": [],
   "source": [
    "##float"
   ]
  },
  {
   "cell_type": "code",
   "execution_count": 26,
   "metadata": {},
   "outputs": [
    {
     "data": {
      "text/plain": [
       "3.14"
      ]
     },
     "execution_count": 26,
     "metadata": {},
     "output_type": "execute_result"
    }
   ],
   "source": [
    "3.14 #float"
   ]
  },
  {
   "cell_type": "code",
   "execution_count": 27,
   "metadata": {},
   "outputs": [
    {
     "data": {
      "text/plain": [
       "float"
      ]
     },
     "execution_count": 27,
     "metadata": {},
     "output_type": "execute_result"
    }
   ],
   "source": [
    "type(3.14)"
   ]
  },
  {
   "cell_type": "code",
   "execution_count": 28,
   "metadata": {
    "collapsed": true
   },
   "outputs": [],
   "source": [
    "###Boolean"
   ]
  },
  {
   "cell_type": "code",
   "execution_count": 30,
   "metadata": {},
   "outputs": [
    {
     "data": {
      "text/plain": [
       "True"
      ]
     },
     "execution_count": 30,
     "metadata": {},
     "output_type": "execute_result"
    }
   ],
   "source": [
    "True"
   ]
  },
  {
   "cell_type": "code",
   "execution_count": 31,
   "metadata": {},
   "outputs": [
    {
     "data": {
      "text/plain": [
       "False"
      ]
     },
     "execution_count": 31,
     "metadata": {},
     "output_type": "execute_result"
    }
   ],
   "source": [
    "False"
   ]
  },
  {
   "cell_type": "code",
   "execution_count": 32,
   "metadata": {
    "collapsed": true
   },
   "outputs": [],
   "source": [
    "###truthy"
   ]
  },
  {
   "cell_type": "code",
   "execution_count": 33,
   "metadata": {},
   "outputs": [
    {
     "data": {
      "text/plain": [
       "123"
      ]
     },
     "execution_count": 33,
     "metadata": {},
     "output_type": "execute_result"
    }
   ],
   "source": [
    "123"
   ]
  },
  {
   "cell_type": "code",
   "execution_count": 34,
   "metadata": {},
   "outputs": [
    {
     "data": {
      "text/plain": [
       "'hello'"
      ]
     },
     "execution_count": 34,
     "metadata": {},
     "output_type": "execute_result"
    }
   ],
   "source": [
    "\"hello\""
   ]
  },
  {
   "cell_type": "code",
   "execution_count": 35,
   "metadata": {
    "collapsed": true
   },
   "outputs": [],
   "source": [
    "###Falsy"
   ]
  },
  {
   "cell_type": "code",
   "execution_count": 36,
   "metadata": {},
   "outputs": [
    {
     "data": {
      "text/plain": [
       "0"
      ]
     },
     "execution_count": 36,
     "metadata": {},
     "output_type": "execute_result"
    }
   ],
   "source": [
    "0"
   ]
  },
  {
   "cell_type": "code",
   "execution_count": 37,
   "metadata": {},
   "outputs": [
    {
     "data": {
      "text/plain": [
       "''"
      ]
     },
     "execution_count": 37,
     "metadata": {},
     "output_type": "execute_result"
    }
   ],
   "source": [
    "\"\""
   ]
  },
  {
   "cell_type": "code",
   "execution_count": 59,
   "metadata": {
    "collapsed": true
   },
   "outputs": [],
   "source": [
    "#Algebra"
   ]
  },
  {
   "cell_type": "code",
   "execution_count": 39,
   "metadata": {},
   "outputs": [
    {
     "data": {
      "text/plain": [
       "2"
      ]
     },
     "execution_count": 39,
     "metadata": {},
     "output_type": "execute_result"
    }
   ],
   "source": [
    "1+1"
   ]
  },
  {
   "cell_type": "code",
   "execution_count": 40,
   "metadata": {},
   "outputs": [
    {
     "data": {
      "text/plain": [
       "1"
      ]
     },
     "execution_count": 40,
     "metadata": {},
     "output_type": "execute_result"
    }
   ],
   "source": [
    "2-1"
   ]
  },
  {
   "cell_type": "code",
   "execution_count": 41,
   "metadata": {},
   "outputs": [
    {
     "data": {
      "text/plain": [
       "4"
      ]
     },
     "execution_count": 41,
     "metadata": {},
     "output_type": "execute_result"
    }
   ],
   "source": [
    "2*2"
   ]
  },
  {
   "cell_type": "code",
   "execution_count": 42,
   "metadata": {},
   "outputs": [
    {
     "data": {
      "text/plain": [
       "1.5"
      ]
     },
     "execution_count": 42,
     "metadata": {},
     "output_type": "execute_result"
    }
   ],
   "source": [
    "3/2"
   ]
  },
  {
   "cell_type": "code",
   "execution_count": 43,
   "metadata": {},
   "outputs": [
    {
     "data": {
      "text/plain": [
       "16"
      ]
     },
     "execution_count": 43,
     "metadata": {},
     "output_type": "execute_result"
    }
   ],
   "source": [
    "2**4"
   ]
  },
  {
   "cell_type": "code",
   "execution_count": 44,
   "metadata": {},
   "outputs": [
    {
     "data": {
      "text/plain": [
       "1"
      ]
     },
     "execution_count": 44,
     "metadata": {},
     "output_type": "execute_result"
    }
   ],
   "source": [
    "10%3   #mod"
   ]
  },
  {
   "cell_type": "markdown",
   "metadata": {},
   "source": [
    "# Boolean operations"
   ]
  },
  {
   "cell_type": "code",
   "execution_count": 46,
   "metadata": {},
   "outputs": [
    {
     "data": {
      "text/plain": [
       "False"
      ]
     },
     "execution_count": 46,
     "metadata": {},
     "output_type": "execute_result"
    }
   ],
   "source": [
    "True and False"
   ]
  },
  {
   "cell_type": "code",
   "execution_count": 47,
   "metadata": {},
   "outputs": [
    {
     "data": {
      "text/plain": [
       "True"
      ]
     },
     "execution_count": 47,
     "metadata": {},
     "output_type": "execute_result"
    }
   ],
   "source": [
    "True or False"
   ]
  },
  {
   "cell_type": "code",
   "execution_count": 48,
   "metadata": {},
   "outputs": [
    {
     "data": {
      "text/plain": [
       "True"
      ]
     },
     "execution_count": 48,
     "metadata": {},
     "output_type": "execute_result"
    }
   ],
   "source": [
    "True == True"
   ]
  },
  {
   "cell_type": "code",
   "execution_count": 49,
   "metadata": {},
   "outputs": [
    {
     "data": {
      "text/plain": [
       "False"
      ]
     },
     "execution_count": 49,
     "metadata": {},
     "output_type": "execute_result"
    }
   ],
   "source": [
    "True == False\n"
   ]
  },
  {
   "cell_type": "code",
   "execution_count": 50,
   "metadata": {},
   "outputs": [
    {
     "data": {
      "text/plain": [
       "True"
      ]
     },
     "execution_count": 50,
     "metadata": {},
     "output_type": "execute_result"
    }
   ],
   "source": [
    "3> 1"
   ]
  },
  {
   "cell_type": "code",
   "execution_count": 51,
   "metadata": {},
   "outputs": [
    {
     "data": {
      "text/plain": [
       "False"
      ]
     },
     "execution_count": 51,
     "metadata": {},
     "output_type": "execute_result"
    }
   ],
   "source": [
    "1>=3"
   ]
  },
  {
   "cell_type": "code",
   "execution_count": 52,
   "metadata": {},
   "outputs": [
    {
     "data": {
      "text/plain": [
       "True"
      ]
     },
     "execution_count": 52,
     "metadata": {},
     "output_type": "execute_result"
    }
   ],
   "source": [
    "True != False"
   ]
  },
  {
   "cell_type": "code",
   "execution_count": 53,
   "metadata": {},
   "outputs": [
    {
     "data": {
      "text/plain": [
       "False"
      ]
     },
     "execution_count": 53,
     "metadata": {},
     "output_type": "execute_result"
    }
   ],
   "source": [
    "True is False"
   ]
  },
  {
   "cell_type": "code",
   "execution_count": 54,
   "metadata": {},
   "outputs": [
    {
     "data": {
      "text/plain": [
       "True"
      ]
     },
     "execution_count": 54,
     "metadata": {},
     "output_type": "execute_result"
    }
   ],
   "source": [
    "True is True"
   ]
  },
  {
   "cell_type": "code",
   "execution_count": 55,
   "metadata": {},
   "outputs": [
    {
     "data": {
      "text/plain": [
       "True"
      ]
     },
     "execution_count": 55,
     "metadata": {},
     "output_type": "execute_result"
    }
   ],
   "source": [
    "not True is False # Python only feature"
   ]
  },
  {
   "cell_type": "code",
   "execution_count": 56,
   "metadata": {},
   "outputs": [
    {
     "data": {
      "text/plain": [
       "False"
      ]
     },
     "execution_count": 56,
     "metadata": {},
     "output_type": "execute_result"
    }
   ],
   "source": [
    "\"a\" is \"A\""
   ]
  },
  {
   "cell_type": "code",
   "execution_count": 57,
   "metadata": {},
   "outputs": [
    {
     "data": {
      "text/plain": [
       "True"
      ]
     },
     "execution_count": 57,
     "metadata": {},
     "output_type": "execute_result"
    }
   ],
   "source": [
    "\"a\" is \"a\""
   ]
  },
  {
   "cell_type": "code",
   "execution_count": 58,
   "metadata": {},
   "outputs": [
    {
     "name": "stdout",
     "output_type": "stream",
     "text": [
      "ok\n"
     ]
    }
   ],
   "source": [
    "#negative number is also truthy\n",
    "if -1:\n",
    "    print(\"ok\")"
   ]
  },
  {
   "cell_type": "markdown",
   "metadata": {},
   "source": [
    "# Variables"
   ]
  },
  {
   "cell_type": "code",
   "execution_count": 61,
   "metadata": {
    "collapsed": true
   },
   "outputs": [],
   "source": [
    "a123 ='1'"
   ]
  },
  {
   "cell_type": "code",
   "execution_count": 62,
   "metadata": {},
   "outputs": [
    {
     "ename": "SyntaxError",
     "evalue": "invalid syntax (<ipython-input-62-5ddade89075d>, line 1)",
     "output_type": "error",
     "traceback": [
      "\u001b[0;36m  File \u001b[0;32m\"<ipython-input-62-5ddade89075d>\"\u001b[0;36m, line \u001b[0;32m1\u001b[0m\n\u001b[0;31m    1aa =\"1\"\u001b[0m\n\u001b[0m      ^\u001b[0m\n\u001b[0;31mSyntaxError\u001b[0m\u001b[0;31m:\u001b[0m invalid syntax\n"
     ]
    }
   ],
   "source": [
    "1aa =\"1\"\n"
   ]
  },
  {
   "cell_type": "code",
   "execution_count": 63,
   "metadata": {
    "collapsed": true
   },
   "outputs": [],
   "source": [
    "x = 'my name'"
   ]
  },
  {
   "cell_type": "code",
   "execution_count": 64,
   "metadata": {},
   "outputs": [
    {
     "data": {
      "text/plain": [
       "'my name'"
      ]
     },
     "execution_count": 64,
     "metadata": {},
     "output_type": "execute_result"
    }
   ],
   "source": [
    "x"
   ]
  },
  {
   "cell_type": "code",
   "execution_count": 65,
   "metadata": {
    "collapsed": true
   },
   "outputs": [],
   "source": [
    "##Conditional"
   ]
  },
  {
   "cell_type": "code",
   "execution_count": 66,
   "metadata": {},
   "outputs": [
    {
     "name": "stdout",
     "output_type": "stream",
     "text": [
      "hi\n"
     ]
    }
   ],
   "source": [
    "if 1:\n",
    "    print(\"hi\")"
   ]
  },
  {
   "cell_type": "code",
   "execution_count": 73,
   "metadata": {
    "collapsed": true
   },
   "outputs": [],
   "source": [
    "if 3>1:\n",
    "    pass"
   ]
  },
  {
   "cell_type": "code",
   "execution_count": 79,
   "metadata": {},
   "outputs": [
    {
     "name": "stdout",
     "output_type": "stream",
     "text": [
      "small int\n"
     ]
    }
   ],
   "source": [
    "x = 1\n",
    "if x > 3:\n",
    "    print(\"greater than 3\")\n",
    "elif x>2:\n",
    "    print(\"greater int\")\n",
    "else:\n",
    "    print(\"small int\")"
   ]
  },
  {
   "cell_type": "markdown",
   "metadata": {
    "collapsed": true
   },
   "source": [
    "# Collections"
   ]
  },
  {
   "cell_type": "code",
   "execution_count": 81,
   "metadata": {},
   "outputs": [
    {
     "data": {
      "text/plain": [
       "'hello'"
      ]
     },
     "execution_count": 81,
     "metadata": {},
     "output_type": "execute_result"
    }
   ],
   "source": [
    "\"hello\""
   ]
  },
  {
   "cell_type": "code",
   "execution_count": 82,
   "metadata": {},
   "outputs": [
    {
     "data": {
      "text/plain": [
       "'e'"
      ]
     },
     "execution_count": 82,
     "metadata": {},
     "output_type": "execute_result"
    }
   ],
   "source": [
    "\"Hello\"[1] #select char by index[i]"
   ]
  },
  {
   "cell_type": "code",
   "execution_count": 25,
   "metadata": {},
   "outputs": [
    {
     "data": {
      "text/plain": [
       "'h'"
      ]
     },
     "execution_count": 25,
     "metadata": {},
     "output_type": "execute_result"
    }
   ],
   "source": [
    "'hello'[0]"
   ]
  },
  {
   "cell_type": "code",
   "execution_count": 14,
   "metadata": {},
   "outputs": [
    {
     "data": {
      "text/plain": [
       "'hello'"
      ]
     },
     "execution_count": 14,
     "metadata": {},
     "output_type": "execute_result"
    }
   ],
   "source": [
    "'hello'[0:]  #第0線之後的自都取"
   ]
  },
  {
   "cell_type": "code",
   "execution_count": 21,
   "metadata": {},
   "outputs": [
    {
     "data": {
      "text/plain": [
       "'he'"
      ]
     },
     "execution_count": 21,
     "metadata": {},
     "output_type": "execute_result"
    }
   ],
   "source": [
    "'hello'[0:2] #第0線右邊，與第2現的左邊的字都取"
   ]
  },
  {
   "cell_type": "code",
   "execution_count": 24,
   "metadata": {},
   "outputs": [
    {
     "data": {
      "text/plain": [
       "'he'"
      ]
     },
     "execution_count": 24,
     "metadata": {},
     "output_type": "execute_result"
    }
   ],
   "source": [
    "'hello'[:2] #第2線左邊的字都取"
   ]
  },
  {
   "cell_type": "code",
   "execution_count": null,
   "metadata": {
    "collapsed": true
   },
   "outputs": [],
   "source": []
  },
  {
   "cell_type": "code",
   "execution_count": 27,
   "metadata": {},
   "outputs": [
    {
     "data": {
      "text/plain": [
       "'k'"
      ]
     },
     "execution_count": 27,
     "metadata": {},
     "output_type": "execute_result"
    }
   ],
   "source": [
    "'helko'[-2] # select char by index[i].  -2代表右邊數來第2個"
   ]
  },
  {
   "cell_type": "code",
   "execution_count": 83,
   "metadata": {},
   "outputs": [
    {
     "data": {
      "text/plain": [
       "'o'"
      ]
     },
     "execution_count": 83,
     "metadata": {},
     "output_type": "execute_result"
    }
   ],
   "source": [
    "\"Hello\"[-1]"
   ]
  },
  {
   "cell_type": "code",
   "execution_count": 84,
   "metadata": {},
   "outputs": [
    {
     "data": {
      "text/plain": [
       "'el'"
      ]
     },
     "execution_count": 84,
     "metadata": {},
     "output_type": "execute_result"
    }
   ],
   "source": [
    "\"Hello\"[1:3]"
   ]
  },
  {
   "cell_type": "code",
   "execution_count": 32,
   "metadata": {},
   "outputs": [
    {
     "data": {
      "text/plain": [
       "'eo'"
      ]
     },
     "execution_count": 32,
     "metadata": {},
     "output_type": "execute_result"
    }
   ],
   "source": [
    "\"Hello\"[1:6:3]"
   ]
  },
  {
   "cell_type": "code",
   "execution_count": 86,
   "metadata": {},
   "outputs": [
    {
     "data": {
      "text/plain": [
       "'ell'"
      ]
     },
     "execution_count": 86,
     "metadata": {},
     "output_type": "execute_result"
    }
   ],
   "source": [
    "\"Hello\"[1:4]"
   ]
  },
  {
   "cell_type": "code",
   "execution_count": 87,
   "metadata": {},
   "outputs": [
    {
     "data": {
      "text/plain": [
       "5"
      ]
     },
     "execution_count": 87,
     "metadata": {},
     "output_type": "execute_result"
    }
   ],
   "source": [
    "len(\"hello\")"
   ]
  },
  {
   "cell_type": "code",
   "execution_count": 88,
   "metadata": {},
   "outputs": [
    {
     "data": {
      "text/plain": [
       "'hello world'"
      ]
     },
     "execution_count": 88,
     "metadata": {},
     "output_type": "execute_result"
    }
   ],
   "source": [
    "\"hello\"+\" \"+\"world\"  #allow String add String, not including the sort of\n",
    "                  #String add int "
   ]
  },
  {
   "cell_type": "code",
   "execution_count": 89,
   "metadata": {},
   "outputs": [
    {
     "ename": "TypeError",
     "evalue": "must be str, not int",
     "output_type": "error",
     "traceback": [
      "\u001b[0;31m---------------------------------------------------------------------------\u001b[0m",
      "\u001b[0;31mTypeError\u001b[0m                                 Traceback (most recent call last)",
      "\u001b[0;32m<ipython-input-89-64e837425a68>\u001b[0m in \u001b[0;36m<module>\u001b[0;34m()\u001b[0m\n\u001b[0;32m----> 1\u001b[0;31m \u001b[0;34m\"3d printer is\"\u001b[0m \u001b[0;34m+\u001b[0m \u001b[0;36m199\u001b[0m \u001b[0;34m+\u001b[0m \u001b[0;34m\"dollars\"\u001b[0m\u001b[0;34m\u001b[0m\u001b[0m\n\u001b[0m",
      "\u001b[0;31mTypeError\u001b[0m: must be str, not int"
     ]
    }
   ],
   "source": [
    "\"3d printer is\" + 199 + \"dollars\""
   ]
  },
  {
   "cell_type": "code",
   "execution_count": 90,
   "metadata": {},
   "outputs": [
    {
     "ename": "SyntaxError",
     "evalue": "invalid syntax (<ipython-input-90-f46c5c41bb2f>, line 1)",
     "output_type": "error",
     "traceback": [
      "\u001b[0;36m  File \u001b[0;32m\"<ipython-input-90-f46c5c41bb2f>\"\u001b[0;36m, line \u001b[0;32m1\u001b[0m\n\u001b[0;31m    \"3d printer is\" + \"199\"\" + \"dollars\"\u001b[0m\n\u001b[0m                                      ^\u001b[0m\n\u001b[0;31mSyntaxError\u001b[0m\u001b[0;31m:\u001b[0m invalid syntax\n"
     ]
    }
   ],
   "source": [
    "\"3d printer is\" + \"199\"\" + \"dollars\""
   ]
  },
  {
   "cell_type": "code",
   "execution_count": 92,
   "metadata": {},
   "outputs": [
    {
     "data": {
      "text/plain": [
       "'3d printer is 299 dollars'"
      ]
     },
     "execution_count": 92,
     "metadata": {},
     "output_type": "execute_result"
    }
   ],
   "source": [
    "\"3d printer is {} dollars\".format(299)    "
   ]
  },
  {
   "cell_type": "code",
   "execution_count": 93,
   "metadata": {},
   "outputs": [
    {
     "data": {
      "text/plain": [
       "'Telsa is 50000000 dollars in Taiwan, Taiwan is the most expensive'"
      ]
     },
     "execution_count": 93,
     "metadata": {},
     "output_type": "execute_result"
    }
   ],
   "source": [
    "\"{item} is {price} dollars in {country}, \\\n",
    "{country} is the most expensive\"\\\n",
    ".format(item = \"Telsa\",\n",
    "        country = \"Taiwan\",\n",
    "        price=50000000)"
   ]
  },
  {
   "cell_type": "code",
   "execution_count": 94,
   "metadata": {},
   "outputs": [
    {
     "data": {
      "text/plain": [
       "'3d printer is 199 dollars'"
      ]
     },
     "execution_count": 94,
     "metadata": {},
     "output_type": "execute_result"
    }
   ],
   "source": [
    "'3d printer is %s dollars'%199"
   ]
  },
  {
   "cell_type": "code",
   "execution_count": 97,
   "metadata": {},
   "outputs": [
    {
     "name": "stdout",
     "output_type": "stream",
     "text": [
      "[DEBUG] my_buggy_var is 123\n"
     ]
    }
   ],
   "source": [
    "# use case\n",
    "# blah blah code\n",
    "my_buggy_var = 123\n",
    "print(\"[DEBUG] my_buggy_var is %s\"%my_buggy_var)"
   ]
  },
  {
   "cell_type": "markdown",
   "metadata": {
    "collapsed": true
   },
   "source": [
    "# List"
   ]
  },
  {
   "cell_type": "code",
   "execution_count": 34,
   "metadata": {
    "collapsed": true
   },
   "outputs": [],
   "source": [
    "li = []"
   ]
  },
  {
   "cell_type": "code",
   "execution_count": 35,
   "metadata": {},
   "outputs": [
    {
     "data": {
      "text/plain": [
       "[]"
      ]
     },
     "execution_count": 35,
     "metadata": {},
     "output_type": "execute_result"
    }
   ],
   "source": [
    "li"
   ]
  },
  {
   "cell_type": "code",
   "execution_count": 36,
   "metadata": {
    "collapsed": true
   },
   "outputs": [],
   "source": [
    "li.append(\"3d printer\")"
   ]
  },
  {
   "cell_type": "code",
   "execution_count": 37,
   "metadata": {
    "collapsed": true
   },
   "outputs": [],
   "source": [
    "li.append('fucking difficult')"
   ]
  },
  {
   "cell_type": "code",
   "execution_count": null,
   "metadata": {
    "collapsed": true
   },
   "outputs": [],
   "source": []
  },
  {
   "cell_type": "code",
   "execution_count": 38,
   "metadata": {},
   "outputs": [
    {
     "data": {
      "text/plain": [
       "['3d printer', 'fucking difficult']"
      ]
     },
     "execution_count": 38,
     "metadata": {},
     "output_type": "execute_result"
    }
   ],
   "source": [
    "li"
   ]
  },
  {
   "cell_type": "code",
   "execution_count": 39,
   "metadata": {
    "collapsed": true
   },
   "outputs": [],
   "source": [
    "li.append(\"cnc machine\")"
   ]
  },
  {
   "cell_type": "code",
   "execution_count": 40,
   "metadata": {},
   "outputs": [
    {
     "data": {
      "text/plain": [
       "['3d printer', 'fucking difficult', 'cnc machine']"
      ]
     },
     "execution_count": 40,
     "metadata": {},
     "output_type": "execute_result"
    }
   ],
   "source": [
    "li"
   ]
  },
  {
   "cell_type": "code",
   "execution_count": 43,
   "metadata": {
    "collapsed": true
   },
   "outputs": [],
   "source": [
    "li.append('fucking hot')"
   ]
  },
  {
   "cell_type": "code",
   "execution_count": 44,
   "metadata": {},
   "outputs": [
    {
     "data": {
      "text/plain": [
       "'fucking hot'"
      ]
     },
     "execution_count": 44,
     "metadata": {},
     "output_type": "execute_result"
    }
   ],
   "source": [
    "li.pop()"
   ]
  },
  {
   "cell_type": "code",
   "execution_count": 107,
   "metadata": {},
   "outputs": [
    {
     "data": {
      "text/plain": [
       "['3d printer']"
      ]
     },
     "execution_count": 107,
     "metadata": {},
     "output_type": "execute_result"
    }
   ],
   "source": [
    "li"
   ]
  },
  {
   "cell_type": "code",
   "execution_count": 45,
   "metadata": {},
   "outputs": [
    {
     "data": {
      "text/plain": [
       "['3d printer', 'fucking difficult']"
      ]
     },
     "execution_count": 45,
     "metadata": {},
     "output_type": "execute_result"
    }
   ],
   "source": [
    "li"
   ]
  },
  {
   "cell_type": "code",
   "execution_count": 108,
   "metadata": {},
   "outputs": [
    {
     "data": {
      "text/plain": [
       "'3d printer'"
      ]
     },
     "execution_count": 108,
     "metadata": {},
     "output_type": "execute_result"
    }
   ],
   "source": [
    "li[0]"
   ]
  },
  {
   "cell_type": "code",
   "execution_count": 46,
   "metadata": {
    "collapsed": true
   },
   "outputs": [],
   "source": [
    "li.append('python')"
   ]
  },
  {
   "cell_type": "code",
   "execution_count": 47,
   "metadata": {
    "collapsed": true
   },
   "outputs": [],
   "source": [
    "li.append(\"ruby\")"
   ]
  },
  {
   "cell_type": "code",
   "execution_count": 54,
   "metadata": {},
   "outputs": [
    {
     "data": {
      "text/plain": [
       "['3d printer', 'fucking difficult', 'python', 'ruby']"
      ]
     },
     "execution_count": 54,
     "metadata": {},
     "output_type": "execute_result"
    }
   ],
   "source": [
    "li"
   ]
  },
  {
   "cell_type": "code",
   "execution_count": 55,
   "metadata": {},
   "outputs": [
    {
     "data": {
      "text/plain": [
       "['fucking difficult', 'python', 'ruby']"
      ]
     },
     "execution_count": 55,
     "metadata": {},
     "output_type": "execute_result"
    }
   ],
   "source": [
    "li[1:]"
   ]
  },
  {
   "cell_type": "code",
   "execution_count": 56,
   "metadata": {},
   "outputs": [
    {
     "data": {
      "text/plain": [
       "['3d printer', 'fucking difficult']"
      ]
     },
     "execution_count": 56,
     "metadata": {},
     "output_type": "execute_result"
    }
   ],
   "source": [
    "li[:2]"
   ]
  },
  {
   "cell_type": "code",
   "execution_count": 52,
   "metadata": {},
   "outputs": [
    {
     "data": {
      "text/plain": [
       "['ruby', 'python', 'fucking difficult', '3d printer']"
      ]
     },
     "execution_count": 52,
     "metadata": {},
     "output_type": "execute_result"
    }
   ],
   "source": [
    "li[::-1]"
   ]
  },
  {
   "cell_type": "code",
   "execution_count": 53,
   "metadata": {},
   "outputs": [
    {
     "data": {
      "text/plain": [
       "['ruby', 'fucking difficult']"
      ]
     },
     "execution_count": 53,
     "metadata": {},
     "output_type": "execute_result"
    }
   ],
   "source": [
    "li[::-2]"
   ]
  },
  {
   "cell_type": "code",
   "execution_count": 58,
   "metadata": {},
   "outputs": [
    {
     "data": {
      "text/plain": [
       "['ruby', '3d printer']"
      ]
     },
     "execution_count": 58,
     "metadata": {},
     "output_type": "execute_result"
    }
   ],
   "source": [
    "li[::-3]"
   ]
  },
  {
   "cell_type": "code",
   "execution_count": 57,
   "metadata": {},
   "outputs": [
    {
     "data": {
      "text/plain": [
       "['3d printer', 'python']"
      ]
     },
     "execution_count": 57,
     "metadata": {},
     "output_type": "execute_result"
    }
   ],
   "source": [
    "li[::2]"
   ]
  },
  {
   "cell_type": "code",
   "execution_count": 115,
   "metadata": {
    "collapsed": true
   },
   "outputs": [],
   "source": [
    "del li[1]"
   ]
  },
  {
   "cell_type": "code",
   "execution_count": 116,
   "metadata": {},
   "outputs": [
    {
     "data": {
      "text/plain": [
       "['3d printer', 'ruby']"
      ]
     },
     "execution_count": 116,
     "metadata": {},
     "output_type": "execute_result"
    }
   ],
   "source": [
    "li"
   ]
  },
  {
   "cell_type": "code",
   "execution_count": 118,
   "metadata": {
    "collapsed": true
   },
   "outputs": [],
   "source": [
    "li.insert(1,'python')"
   ]
  },
  {
   "cell_type": "code",
   "execution_count": 119,
   "metadata": {},
   "outputs": [
    {
     "data": {
      "text/plain": [
       "['3d printer', 'python', 'ruby']"
      ]
     },
     "execution_count": 119,
     "metadata": {},
     "output_type": "execute_result"
    }
   ],
   "source": [
    "li"
   ]
  },
  {
   "cell_type": "code",
   "execution_count": 120,
   "metadata": {},
   "outputs": [
    {
     "data": {
      "text/plain": [
       "['3d printer', 'cnc machine']"
      ]
     },
     "execution_count": 120,
     "metadata": {},
     "output_type": "execute_result"
    }
   ],
   "source": [
    "['3d printer']+['cnc machine']"
   ]
  },
  {
   "cell_type": "code",
   "execution_count": 121,
   "metadata": {},
   "outputs": [
    {
     "data": {
      "text/plain": [
       "['3d printer', 'python', 'ruby']"
      ]
     },
     "execution_count": 121,
     "metadata": {},
     "output_type": "execute_result"
    }
   ],
   "source": [
    "li"
   ]
  },
  {
   "cell_type": "code",
   "execution_count": 122,
   "metadata": {},
   "outputs": [
    {
     "data": {
      "text/plain": [
       "True"
      ]
     },
     "execution_count": 122,
     "metadata": {},
     "output_type": "execute_result"
    }
   ],
   "source": [
    "\"3d printer\" in li\n"
   ]
  },
  {
   "cell_type": "code",
   "execution_count": 123,
   "metadata": {
    "scrolled": true
   },
   "outputs": [
    {
     "name": "stdout",
     "output_type": "stream",
     "text": [
      "I have a 3d printer\n"
     ]
    }
   ],
   "source": [
    "if '3d printer' in li:\n",
    "    print('I have a 3d printer')"
   ]
  },
  {
   "cell_type": "markdown",
   "metadata": {},
   "source": [
    "# dictionary"
   ]
  },
  {
   "cell_type": "code",
   "execution_count": 60,
   "metadata": {
    "collapsed": true
   },
   "outputs": [],
   "source": [
    "mydict = {}"
   ]
  },
  {
   "cell_type": "code",
   "execution_count": 61,
   "metadata": {},
   "outputs": [
    {
     "data": {
      "text/plain": [
       "dict"
      ]
     },
     "execution_count": 61,
     "metadata": {},
     "output_type": "execute_result"
    }
   ],
   "source": [
    "type(mydict)"
   ]
  },
  {
   "cell_type": "code",
   "execution_count": 62,
   "metadata": {},
   "outputs": [
    {
     "data": {
      "text/plain": [
       "{}"
      ]
     },
     "execution_count": 62,
     "metadata": {},
     "output_type": "execute_result"
    }
   ],
   "source": [
    "mydict"
   ]
  },
  {
   "cell_type": "code",
   "execution_count": 63,
   "metadata": {
    "collapsed": true
   },
   "outputs": [],
   "source": [
    "mydict['name'] = 'Ian'"
   ]
  },
  {
   "cell_type": "code",
   "execution_count": 64,
   "metadata": {
    "collapsed": true
   },
   "outputs": [],
   "source": [
    "mydict['ok']= 'threepeat'"
   ]
  },
  {
   "cell_type": "code",
   "execution_count": 65,
   "metadata": {},
   "outputs": [
    {
     "data": {
      "text/plain": [
       "{'name': 'Ian', 'ok': 'threepeat'}"
      ]
     },
     "execution_count": 65,
     "metadata": {},
     "output_type": "execute_result"
    }
   ],
   "source": [
    "mydict"
   ]
  },
  {
   "cell_type": "code",
   "execution_count": 67,
   "metadata": {
    "collapsed": true
   },
   "outputs": [],
   "source": [
    "mydict['three swords']=['kidd','carter','jefferson']"
   ]
  },
  {
   "cell_type": "code",
   "execution_count": 68,
   "metadata": {
    "scrolled": true
   },
   "outputs": [
    {
     "data": {
      "text/plain": [
       "{'name': 'Ian',\n",
       " 'ok': 'threepeat',\n",
       " 'three swords': ['kidd', 'carter', 'jefferson']}"
      ]
     },
     "execution_count": 68,
     "metadata": {},
     "output_type": "execute_result"
    }
   ],
   "source": [
    "mydict"
   ]
  },
  {
   "cell_type": "code",
   "execution_count": 71,
   "metadata": {
    "collapsed": true
   },
   "outputs": [],
   "source": [
    "mydict['ok']=['81spirit']"
   ]
  },
  {
   "cell_type": "code",
   "execution_count": 72,
   "metadata": {},
   "outputs": [
    {
     "data": {
      "text/plain": [
       "{'name': 'Ian',\n",
       " 'ok': ['81spirit'],\n",
       " 'three swords': ['kidd', 'carter', 'jefferson']}"
      ]
     },
     "execution_count": 72,
     "metadata": {},
     "output_type": "execute_result"
    }
   ],
   "source": [
    "mydict"
   ]
  },
  {
   "cell_type": "code",
   "execution_count": 73,
   "metadata": {
    "collapsed": true
   },
   "outputs": [],
   "source": [
    "printer ={\n",
    "    \"name\":\"Prusa i3 mk2\",\n",
    "    \"print speed\" : 100,\n",
    "    \"country\" : \"USA\",\n",
    "    \"features\" : [\"laser cutting\" ,\"3d printing\", \"cnc machine\"],\n",
    "    \"price\" :300\n",
    "    \n",
    "}"
   ]
  },
  {
   "cell_type": "code",
   "execution_count": 74,
   "metadata": {
    "scrolled": true
   },
   "outputs": [
    {
     "data": {
      "text/plain": [
       "['81spirit']"
      ]
     },
     "execution_count": 74,
     "metadata": {},
     "output_type": "execute_result"
    }
   ],
   "source": [
    "mydict['ok']"
   ]
  },
  {
   "cell_type": "code",
   "execution_count": 75,
   "metadata": {
    "collapsed": true
   },
   "outputs": [],
   "source": [
    "del mydict['ok']"
   ]
  },
  {
   "cell_type": "code",
   "execution_count": 76,
   "metadata": {},
   "outputs": [
    {
     "data": {
      "text/plain": [
       "{'name': 'Ian', 'three swords': ['kidd', 'carter', 'jefferson']}"
      ]
     },
     "execution_count": 76,
     "metadata": {},
     "output_type": "execute_result"
    }
   ],
   "source": [
    "mydict"
   ]
  },
  {
   "cell_type": "code",
   "execution_count": 77,
   "metadata": {
    "scrolled": true
   },
   "outputs": [
    {
     "data": {
      "text/plain": [
       "{'ko': ['yayaya', 'kober'],\n",
       " 'name': 'Ian',\n",
       " 'three swords': ['kidd', 'carter', 'jefferson']}"
      ]
     },
     "execution_count": 77,
     "metadata": {},
     "output_type": "execute_result"
    }
   ],
   "source": [
    "mydict['ko']=['yayaya','kober']\n",
    "\n",
    "mydict"
   ]
  },
  {
   "cell_type": "code",
   "execution_count": 83,
   "metadata": {},
   "outputs": [
    {
     "data": {
      "text/plain": [
       "'nononononono'"
      ]
     },
     "execution_count": 83,
     "metadata": {},
     "output_type": "execute_result"
    }
   ],
   "source": [
    "mydict.get('o','nononononono')"
   ]
  },
  {
   "cell_type": "code",
   "execution_count": 136,
   "metadata": {},
   "outputs": [
    {
     "data": {
      "text/plain": [
       "{'country': 'USA',\n",
       " 'features': ['laser cutting', '3d printing', 'cnc machine'],\n",
       " 'name': 'Prusa i3 mk2',\n",
       " 'price': 300,\n",
       " 'print speed': 100}"
      ]
     },
     "execution_count": 136,
     "metadata": {},
     "output_type": "execute_result"
    }
   ],
   "source": [
    "printer"
   ]
  },
  {
   "cell_type": "code",
   "execution_count": 137,
   "metadata": {},
   "outputs": [
    {
     "data": {
      "text/plain": [
       "'Prusa i3 mk2'"
      ]
     },
     "execution_count": 137,
     "metadata": {},
     "output_type": "execute_result"
    }
   ],
   "source": [
    "printer['name']"
   ]
  },
  {
   "cell_type": "code",
   "execution_count": 138,
   "metadata": {},
   "outputs": [
    {
     "ename": "SyntaxError",
     "evalue": "invalid syntax (<ipython-input-138-2803428deeab>, line 1)",
     "output_type": "error",
     "traceback": [
      "\u001b[0;36m  File \u001b[0;32m\"<ipython-input-138-2803428deeab>\"\u001b[0;36m, line \u001b[0;32m1\u001b[0m\n\u001b[0;31m    printer{'name'}\u001b[0m\n\u001b[0m           ^\u001b[0m\n\u001b[0;31mSyntaxError\u001b[0m\u001b[0;31m:\u001b[0m invalid syntax\n"
     ]
    }
   ],
   "source": [
    "printer{'name'}"
   ]
  },
  {
   "cell_type": "code",
   "execution_count": 139,
   "metadata": {},
   "outputs": [
    {
     "data": {
      "text/plain": [
       "'USA'"
      ]
     },
     "execution_count": 139,
     "metadata": {},
     "output_type": "execute_result"
    }
   ],
   "source": [
    "printer[\"country\"]"
   ]
  },
  {
   "cell_type": "code",
   "execution_count": 140,
   "metadata": {},
   "outputs": [
    {
     "data": {
      "text/plain": [
       "{'country': 'USA',\n",
       " 'features': ['laser cutting', '3d printing', 'cnc machine'],\n",
       " 'name': 'Prusa i3 mk2',\n",
       " 'price': 300,\n",
       " 'print speed': 100}"
      ]
     },
     "execution_count": 140,
     "metadata": {},
     "output_type": "execute_result"
    }
   ],
   "source": [
    "printer"
   ]
  },
  {
   "cell_type": "code",
   "execution_count": 142,
   "metadata": {
    "collapsed": true
   },
   "outputs": [],
   "source": [
    "printer['dimensions'] = [220,220,240]"
   ]
  },
  {
   "cell_type": "code",
   "execution_count": 143,
   "metadata": {},
   "outputs": [
    {
     "data": {
      "text/plain": [
       "{'country': 'USA',\n",
       " 'dimensions': [220, 220, 240],\n",
       " 'features': ['laser cutting', '3d printing', 'cnc machine'],\n",
       " 'name': 'Prusa i3 mk2',\n",
       " 'price': 300,\n",
       " 'print speed': 100}"
      ]
     },
     "execution_count": 143,
     "metadata": {},
     "output_type": "execute_result"
    }
   ],
   "source": [
    "printer"
   ]
  },
  {
   "cell_type": "code",
   "execution_count": 144,
   "metadata": {
    "collapsed": true
   },
   "outputs": [],
   "source": [
    "printer ['country'] = 'Taiwan'"
   ]
  },
  {
   "cell_type": "code",
   "execution_count": 145,
   "metadata": {},
   "outputs": [
    {
     "data": {
      "text/plain": [
       "{'country': 'Taiwan',\n",
       " 'dimensions': [220, 220, 240],\n",
       " 'features': ['laser cutting', '3d printing', 'cnc machine'],\n",
       " 'name': 'Prusa i3 mk2',\n",
       " 'price': 300,\n",
       " 'print speed': 100}"
      ]
     },
     "execution_count": 145,
     "metadata": {},
     "output_type": "execute_result"
    }
   ],
   "source": [
    "printer"
   ]
  },
  {
   "cell_type": "code",
   "execution_count": 146,
   "metadata": {
    "collapsed": true
   },
   "outputs": [],
   "source": [
    "del printer['price']"
   ]
  },
  {
   "cell_type": "code",
   "execution_count": 147,
   "metadata": {},
   "outputs": [
    {
     "data": {
      "text/plain": [
       "{'country': 'Taiwan',\n",
       " 'dimensions': [220, 220, 240],\n",
       " 'features': ['laser cutting', '3d printing', 'cnc machine'],\n",
       " 'name': 'Prusa i3 mk2',\n",
       " 'print speed': 100}"
      ]
     },
     "execution_count": 147,
     "metadata": {},
     "output_type": "execute_result"
    }
   ],
   "source": [
    "printer"
   ]
  },
  {
   "cell_type": "code",
   "execution_count": 149,
   "metadata": {},
   "outputs": [
    {
     "data": {
      "text/plain": [
       "True"
      ]
     },
     "execution_count": 149,
     "metadata": {},
     "output_type": "execute_result"
    }
   ],
   "source": [
    "\"name\" in printer"
   ]
  },
  {
   "cell_type": "code",
   "execution_count": 150,
   "metadata": {},
   "outputs": [
    {
     "data": {
      "text/plain": [
       "False"
      ]
     },
     "execution_count": 150,
     "metadata": {},
     "output_type": "execute_result"
    }
   ],
   "source": [
    "'100' in printer"
   ]
  },
  {
   "cell_type": "code",
   "execution_count": 151,
   "metadata": {},
   "outputs": [
    {
     "data": {
      "text/plain": [
       "'Prusa i3 mk2'"
      ]
     },
     "execution_count": 151,
     "metadata": {},
     "output_type": "execute_result"
    }
   ],
   "source": [
    "printer[\"name\"]"
   ]
  },
  {
   "cell_type": "code",
   "execution_count": 155,
   "metadata": {
    "collapsed": true
   },
   "outputs": [],
   "source": [
    "printer2 ={\n",
    "    'dimensions' : [220,220,240],\n",
    "    \"name\":\"Prusa i3 mk2\",\n",
    "    \"print speed\" : 100,\n",
    "    \"features\" : [\"laser cutting\" ,\"3d printing\", \"cnc machine\"],\n",
    "    \n",
    "    \n",
    "}"
   ]
  },
  {
   "cell_type": "code",
   "execution_count": 156,
   "metadata": {},
   "outputs": [
    {
     "data": {
      "text/plain": [
       "{'dimensions': [220, 220, 240],\n",
       " 'features': ['laser cutting', '3d printing', 'cnc machine'],\n",
       " 'name': 'Prusa i3 mk2',\n",
       " 'print speed': 100}"
      ]
     },
     "execution_count": 156,
     "metadata": {},
     "output_type": "execute_result"
    }
   ],
   "source": [
    "printer2\n",
    "\n"
   ]
  },
  {
   "cell_type": "code",
   "execution_count": 160,
   "metadata": {
    "collapsed": true
   },
   "outputs": [],
   "source": [
    "del printer2['features']"
   ]
  },
  {
   "cell_type": "code",
   "execution_count": 166,
   "metadata": {},
   "outputs": [
    {
     "ename": "KeyError",
     "evalue": "'features'",
     "output_type": "error",
     "traceback": [
      "\u001b[0;31m---------------------------------------------------------------------------\u001b[0m",
      "\u001b[0;31mKeyError\u001b[0m                                  Traceback (most recent call last)",
      "\u001b[0;32m<ipython-input-166-1d956aef364a>\u001b[0m in \u001b[0;36m<module>\u001b[0;34m()\u001b[0m\n\u001b[0;32m----> 1\u001b[0;31m \u001b[0mprinter2\u001b[0m\u001b[0;34m[\u001b[0m\u001b[0;34m'features'\u001b[0m\u001b[0;34m]\u001b[0m\u001b[0;34m\u001b[0m\u001b[0m\n\u001b[0m",
      "\u001b[0;31mKeyError\u001b[0m: 'features'"
     ]
    }
   ],
   "source": [
    "printer2['features']"
   ]
  },
  {
   "cell_type": "code",
   "execution_count": 171,
   "metadata": {},
   "outputs": [
    {
     "data": {
      "text/plain": [
       "'N/A'"
      ]
     },
     "execution_count": 171,
     "metadata": {},
     "output_type": "execute_result"
    }
   ],
   "source": [
    "printer2.get(\"features\",\"N/A\")"
   ]
  },
  {
   "cell_type": "code",
   "execution_count": null,
   "metadata": {
    "collapsed": true
   },
   "outputs": [],
   "source": []
  },
  {
   "cell_type": "code",
   "execution_count": null,
   "metadata": {
    "collapsed": true
   },
   "outputs": [],
   "source": []
  },
  {
   "cell_type": "markdown",
   "metadata": {},
   "source": [
    "# Tuple"
   ]
  },
  {
   "cell_type": "code",
   "execution_count": 85,
   "metadata": {},
   "outputs": [
    {
     "data": {
      "text/plain": [
       "(111, 'carter')"
      ]
     },
     "execution_count": 85,
     "metadata": {},
     "output_type": "execute_result"
    }
   ],
   "source": [
    "fff = (111,'carter')\n",
    "fff"
   ]
  },
  {
   "cell_type": "code",
   "execution_count": 174,
   "metadata": {},
   "outputs": [
    {
     "data": {
      "text/plain": [
       "('Ian', 'chen')"
      ]
     },
     "execution_count": 174,
     "metadata": {},
     "output_type": "execute_result"
    }
   ],
   "source": [
    "first_last = ('Ian','chen')\n",
    "first_last"
   ]
  },
  {
   "cell_type": "code",
   "execution_count": 178,
   "metadata": {},
   "outputs": [
    {
     "data": {
      "text/plain": [
       "'Ian'"
      ]
     },
     "execution_count": 178,
     "metadata": {},
     "output_type": "execute_result"
    }
   ],
   "source": [
    "first_last[0]"
   ]
  },
  {
   "cell_type": "code",
   "execution_count": 179,
   "metadata": {},
   "outputs": [
    {
     "data": {
      "text/plain": [
       "'chen'"
      ]
     },
     "execution_count": 179,
     "metadata": {},
     "output_type": "execute_result"
    }
   ],
   "source": [
    "first_last[1]"
   ]
  },
  {
   "cell_type": "code",
   "execution_count": 182,
   "metadata": {},
   "outputs": [
    {
     "ename": "TypeError",
     "evalue": "'tuple' object does not support item assignment",
     "output_type": "error",
     "traceback": [
      "\u001b[0;31m---------------------------------------------------------------------------\u001b[0m",
      "\u001b[0;31mTypeError\u001b[0m                                 Traceback (most recent call last)",
      "\u001b[0;32m<ipython-input-182-83026316ff65>\u001b[0m in \u001b[0;36m<module>\u001b[0;34m()\u001b[0m\n\u001b[0;32m----> 1\u001b[0;31m \u001b[0mfirst_last\u001b[0m\u001b[0;34m[\u001b[0m\u001b[0;36m1\u001b[0m\u001b[0;34m]\u001b[0m \u001b[0;34m=\u001b[0m \u001b[0;34m\"Lin\"\u001b[0m\u001b[0;34m\u001b[0m\u001b[0m\n\u001b[0m",
      "\u001b[0;31mTypeError\u001b[0m: 'tuple' object does not support item assignment"
     ]
    }
   ],
   "source": [
    "first_last[1] = \"Lin\""
   ]
  },
  {
   "cell_type": "code",
   "execution_count": 183,
   "metadata": {
    "scrolled": true
   },
   "outputs": [
    {
     "data": {
      "text/plain": [
       "'chen'"
      ]
     },
     "execution_count": 183,
     "metadata": {},
     "output_type": "execute_result"
    }
   ],
   "source": [
    "first_last[1]"
   ]
  },
  {
   "cell_type": "markdown",
   "metadata": {},
   "source": [
    "# SET"
   ]
  },
  {
   "cell_type": "code",
   "execution_count": 184,
   "metadata": {
    "collapsed": true
   },
   "outputs": [],
   "source": [
    "myset = set()"
   ]
  },
  {
   "cell_type": "code",
   "execution_count": 185,
   "metadata": {
    "collapsed": true
   },
   "outputs": [],
   "source": [
    "myset.add(5)"
   ]
  },
  {
   "cell_type": "code",
   "execution_count": 186,
   "metadata": {},
   "outputs": [
    {
     "data": {
      "text/plain": [
       "{5}"
      ]
     },
     "execution_count": 186,
     "metadata": {},
     "output_type": "execute_result"
    }
   ],
   "source": [
    "myset"
   ]
  },
  {
   "cell_type": "code",
   "execution_count": 187,
   "metadata": {},
   "outputs": [
    {
     "data": {
      "text/plain": [
       "set"
      ]
     },
     "execution_count": 187,
     "metadata": {},
     "output_type": "execute_result"
    }
   ],
   "source": [
    "type(myset)"
   ]
  },
  {
   "cell_type": "code",
   "execution_count": 188,
   "metadata": {
    "collapsed": true
   },
   "outputs": [],
   "source": [
    "myset.add(1)"
   ]
  },
  {
   "cell_type": "code",
   "execution_count": 189,
   "metadata": {},
   "outputs": [
    {
     "data": {
      "text/plain": [
       "{1, 5}"
      ]
     },
     "execution_count": 189,
     "metadata": {},
     "output_type": "execute_result"
    }
   ],
   "source": [
    "myset"
   ]
  },
  {
   "cell_type": "code",
   "execution_count": 190,
   "metadata": {
    "collapsed": true
   },
   "outputs": [],
   "source": [
    "myset.add(5)"
   ]
  },
  {
   "cell_type": "code",
   "execution_count": 191,
   "metadata": {},
   "outputs": [
    {
     "data": {
      "text/plain": [
       "{1, 5}"
      ]
     },
     "execution_count": 191,
     "metadata": {},
     "output_type": "execute_result"
    }
   ],
   "source": [
    "myset"
   ]
  },
  {
   "cell_type": "code",
   "execution_count": 192,
   "metadata": {},
   "outputs": [
    {
     "data": {
      "text/plain": [
       "{1, 2, 1111}"
      ]
     },
     "execution_count": 192,
     "metadata": {},
     "output_type": "execute_result"
    }
   ],
   "source": [
    "{1,2,3,4,1111} - {3,4,5} # difference"
   ]
  },
  {
   "cell_type": "code",
   "execution_count": 193,
   "metadata": {},
   "outputs": [
    {
     "name": "stdout",
     "output_type": "stream",
     "text": [
      "It is feature 3d printing\n",
      "It is feature cnc machine\n",
      "It is feature laser cutting\n"
     ]
    }
   ],
   "source": [
    "for feature in ['3d printing','cnc machine', 'laser cutting']:\n",
    "    print(\"It is feature %s\"%feature)"
   ]
  },
  {
   "cell_type": "code",
   "execution_count": 194,
   "metadata": {},
   "outputs": [
    {
     "name": "stdout",
     "output_type": "stream",
     "text": [
      "0\n",
      "1\n",
      "2\n",
      "3\n"
     ]
    }
   ],
   "source": [
    "for i in range(4):\n",
    "    print(i)"
   ]
  },
  {
   "cell_type": "code",
   "execution_count": 195,
   "metadata": {},
   "outputs": [
    {
     "data": {
      "text/plain": [
       "range"
      ]
     },
     "execution_count": 195,
     "metadata": {},
     "output_type": "execute_result"
    }
   ],
   "source": [
    "type(range(4))"
   ]
  },
  {
   "cell_type": "code",
   "execution_count": 197,
   "metadata": {},
   "outputs": [
    {
     "name": "stdout",
     "output_type": "stream",
     "text": [
      "it has ininder'icon that gigi  couldn't be accepted in society\n",
      "it has ininder'icon that lala  couldn't be accepted in society\n",
      "it has ininder'icon that hsiahsia  couldn't be accepted in society\n"
     ]
    }
   ],
   "source": [
    "for ininder in [\"gigi\",\"lala\", \"hsiahsia\" ]:\n",
    "    print(\"it has ininder'icon that %s  couldn't be accepted in society\"%ininder)"
   ]
  },
  {
   "cell_type": "code",
   "execution_count": 200,
   "metadata": {},
   "outputs": [
    {
     "name": "stdout",
     "output_type": "stream",
     "text": [
      "0\n",
      "1\n",
      "2\n",
      "3\n"
     ]
    }
   ],
   "source": [
    "x=0\n",
    "while x < 4:\n",
    "    print(x)\n",
    "    x += 1"
   ]
  },
  {
   "cell_type": "code",
   "execution_count": 202,
   "metadata": {},
   "outputs": [
    {
     "name": "stdout",
     "output_type": "stream",
     "text": [
      "0\n",
      "1\n",
      "2\n",
      "3\n"
     ]
    }
   ],
   "source": [
    "x =0 \n",
    "while True:\n",
    "    if x > 3:\n",
    "        break\n",
    "    print(x)\n",
    "    x += 1"
   ]
  },
  {
   "cell_type": "code",
   "execution_count": 203,
   "metadata": {},
   "outputs": [
    {
     "name": "stdout",
     "output_type": "stream",
     "text": [
      "crawling website\n"
     ]
    }
   ],
   "source": [
    "retry = 0\n",
    "while retry < 4:\n",
    "    print(\"crawling website\")\n",
    "    is_success = 1 \n",
    "    if is_success:\n",
    "        break\n",
    "    else:\n",
    "        retry += 1"
   ]
  },
  {
   "cell_type": "code",
   "execution_count": 3,
   "metadata": {
    "collapsed": true
   },
   "outputs": [],
   "source": [
    "mydict = {('Ian','Chen'):1,('David','Chiu'):2}"
   ]
  },
  {
   "cell_type": "code",
   "execution_count": 4,
   "metadata": {},
   "outputs": [
    {
     "data": {
      "text/plain": [
       "1"
      ]
     },
     "execution_count": 4,
     "metadata": {},
     "output_type": "execute_result"
    }
   ],
   "source": [
    "mydict[('Ian',\"Chen\")]"
   ]
  },
  {
   "cell_type": "code",
   "execution_count": 6,
   "metadata": {},
   "outputs": [
    {
     "data": {
      "text/plain": [
       "2"
      ]
     },
     "execution_count": 6,
     "metadata": {},
     "output_type": "execute_result"
    }
   ],
   "source": [
    "mydict[('David','Chiu')]"
   ]
  },
  {
   "cell_type": "code",
   "execution_count": 7,
   "metadata": {},
   "outputs": [
    {
     "data": {
      "text/plain": [
       "'my name is Ian'"
      ]
     },
     "execution_count": 7,
     "metadata": {},
     "output_type": "execute_result"
    }
   ],
   "source": [
    "'my name is Ian'"
   ]
  },
  {
   "cell_type": "code",
   "execution_count": 8,
   "metadata": {},
   "outputs": [
    {
     "data": {
      "text/plain": [
       "['my', 'name', 'is', 'Ian']"
      ]
     },
     "execution_count": 8,
     "metadata": {},
     "output_type": "execute_result"
    }
   ],
   "source": [
    "'my name is Ian'.split()"
   ]
  },
  {
   "cell_type": "code",
   "execution_count": 9,
   "metadata": {},
   "outputs": [
    {
     "data": {
      "text/plain": [
       "'is'"
      ]
     },
     "execution_count": 9,
     "metadata": {},
     "output_type": "execute_result"
    }
   ],
   "source": [
    "'my name is Ian'.split()[2]"
   ]
  },
  {
   "cell_type": "code",
   "execution_count": 12,
   "metadata": {},
   "outputs": [
    {
     "name": "stdout",
     "output_type": "stream",
     "text": [
      "my\n",
      "name\n",
      "is\n",
      "Ian\n"
     ]
    }
   ],
   "source": [
    "for word in 'my name is Ian'.split():\n",
    "    print(word)"
   ]
  },
  {
   "cell_type": "code",
   "execution_count": 13,
   "metadata": {},
   "outputs": [
    {
     "data": {
      "text/plain": [
       "['123', 'Ian Chen']"
      ]
     },
     "execution_count": 13,
     "metadata": {},
     "output_type": "execute_result"
    }
   ],
   "source": [
    "'123,Ian Chen'.split(',')"
   ]
  },
  {
   "cell_type": "code",
   "execution_count": 14,
   "metadata": {},
   "outputs": [
    {
     "data": {
      "text/plain": [
       "[123, 'David Chiu', 'LargitData']"
      ]
     },
     "execution_count": 14,
     "metadata": {},
     "output_type": "execute_result"
    }
   ],
   "source": [
    "[123,\"David Chiu\",'LargitData']"
   ]
  },
  {
   "cell_type": "code",
   "execution_count": 15,
   "metadata": {},
   "outputs": [
    {
     "data": {
      "text/plain": [
       "'123,David Chiu,LargitData'"
      ]
     },
     "execution_count": 15,
     "metadata": {},
     "output_type": "execute_result"
    }
   ],
   "source": [
    "','.join(['123','David Chiu','LargitData'])"
   ]
  },
  {
   "cell_type": "code",
   "execution_count": 16,
   "metadata": {},
   "outputs": [
    {
     "data": {
      "text/plain": [
       "'harry pottrt'"
      ]
     },
     "execution_count": 16,
     "metadata": {},
     "output_type": "execute_result"
    }
   ],
   "source": [
    "'Harry Pottrt'.lower()"
   ]
  },
  {
   "cell_type": "code",
   "execution_count": 17,
   "metadata": {},
   "outputs": [
    {
     "data": {
      "text/plain": [
       "'NICE'"
      ]
     },
     "execution_count": 17,
     "metadata": {},
     "output_type": "execute_result"
    }
   ],
   "source": [
    "'nice'.upper()"
   ]
  },
  {
   "cell_type": "code",
   "execution_count": 18,
   "metadata": {},
   "outputs": [
    {
     "data": {
      "text/plain": [
       "'Harry Potter'"
      ]
     },
     "execution_count": 18,
     "metadata": {},
     "output_type": "execute_result"
    }
   ],
   "source": [
    "'harry potter'.title()"
   ]
  },
  {
   "cell_type": "code",
   "execution_count": 19,
   "metadata": {},
   "outputs": [
    {
     "data": {
      "text/plain": [
       "'\\n\\nthis is my awesome multiline string\\n\\n\\n\\n\\n\\n'"
      ]
     },
     "execution_count": 19,
     "metadata": {},
     "output_type": "execute_result"
    }
   ],
   "source": [
    "\"\"\"\n",
    "\n",
    "this is my awesome multiline string\n",
    "\n",
    "\n",
    "\n",
    "\n",
    "\n",
    "\"\"\""
   ]
  },
  {
   "cell_type": "code",
   "execution_count": 20,
   "metadata": {},
   "outputs": [
    {
     "data": {
      "text/plain": [
       "'this is my awesome multiline string'"
      ]
     },
     "execution_count": 20,
     "metadata": {},
     "output_type": "execute_result"
    }
   ],
   "source": [
    "\"\"\"\n",
    "\n",
    "this is my awesome multiline string\n",
    "\n",
    "\n",
    "\n",
    "\n",
    "\n",
    "\"\"\".strip()"
   ]
  },
  {
   "cell_type": "code",
   "execution_count": 22,
   "metadata": {},
   "outputs": [
    {
     "data": {
      "text/plain": [
       "'Japan is good'"
      ]
     },
     "execution_count": 22,
     "metadata": {},
     "output_type": "execute_result"
    }
   ],
   "source": [
    "'Japan is good'.replace('japan','Taiwan')"
   ]
  },
  {
   "cell_type": "code",
   "execution_count": 24,
   "metadata": {},
   "outputs": [
    {
     "data": {
      "text/plain": [
       "['※ ', '批踢踢實業坊(ptt.cc), 來自: 223.139.18.149']"
      ]
     },
     "execution_count": 24,
     "metadata": {},
     "output_type": "execute_result"
    }
   ],
   "source": [
    "\"※ 發信站: 批踢踢實業坊(ptt.cc), 來自: 223.139.18.149\".split('發信站: ')"
   ]
  },
  {
   "cell_type": "code",
   "execution_count": 25,
   "metadata": {},
   "outputs": [
    {
     "data": {
      "text/plain": [
       "'批踢踢實業坊(ptt.cc), 來自: 223.139.18.149'"
      ]
     },
     "execution_count": 25,
     "metadata": {},
     "output_type": "execute_result"
    }
   ],
   "source": [
    "\"※ 發信站: 批踢踢實業坊(ptt.cc), 來自: 223.139.18.149\".split('發信站: ')[1]"
   ]
  },
  {
   "cell_type": "code",
   "execution_count": 26,
   "metadata": {},
   "outputs": [
    {
     "data": {
      "text/plain": [
       "'批踢踢實業坊(ptt.cc), '"
      ]
     },
     "execution_count": 26,
     "metadata": {},
     "output_type": "execute_result"
    }
   ],
   "source": [
    "\"※ 發信站: 批踢踢實業坊(ptt.cc), 來自: 223.139.18.149\".split('發信站: ')[1].split('來自:')[0]"
   ]
  },
  {
   "cell_type": "code",
   "execution_count": 32,
   "metadata": {},
   "outputs": [
    {
     "data": {
      "text/plain": [
       "'/home/ubuntu/Documents'"
      ]
     },
     "execution_count": 32,
     "metadata": {},
     "output_type": "execute_result"
    }
   ],
   "source": [
    "pwd"
   ]
  },
  {
   "cell_type": "code",
   "execution_count": 36,
   "metadata": {
    "collapsed": true
   },
   "outputs": [],
   "source": [
    "f = open('./tet', 'w')"
   ]
  },
  {
   "cell_type": "code",
   "execution_count": 37,
   "metadata": {},
   "outputs": [
    {
     "data": {
      "text/plain": [
       "_io.TextIOWrapper"
      ]
     },
     "execution_count": 37,
     "metadata": {},
     "output_type": "execute_result"
    }
   ],
   "source": [
    "type(f)"
   ]
  },
  {
   "cell_type": "code",
   "execution_count": 38,
   "metadata": {},
   "outputs": [
    {
     "data": {
      "text/plain": [
       "48"
      ]
     },
     "execution_count": 38,
     "metadata": {},
     "output_type": "execute_result"
    }
   ],
   "source": [
    "f.write('class loading is getting more and more horrible.')"
   ]
  },
  {
   "cell_type": "code",
   "execution_count": 39,
   "metadata": {
    "collapsed": true
   },
   "outputs": [],
   "source": [
    "f.close()"
   ]
  },
  {
   "cell_type": "code",
   "execution_count": 1,
   "metadata": {},
   "outputs": [
    {
     "data": {
      "text/plain": [
       "'/home/ubuntu/Documents'"
      ]
     },
     "execution_count": 1,
     "metadata": {},
     "output_type": "execute_result"
    }
   ],
   "source": [
    "pwd"
   ]
  },
  {
   "cell_type": "code",
   "execution_count": 3,
   "metadata": {
    "collapsed": true
   },
   "outputs": [],
   "source": [
    "f = open('./tete','w')\n",
    "f.write('my energy is lack today cause i stay up last night')\n",
    "f.close()"
   ]
  },
  {
   "cell_type": "code",
   "execution_count": 5,
   "metadata": {},
   "outputs": [
    {
     "data": {
      "text/plain": [
       "'my energy is lack today cause i stay up last night'"
      ]
     },
     "execution_count": 5,
     "metadata": {},
     "output_type": "execute_result"
    }
   ],
   "source": [
    "f = open('./tete')\n",
    "ququ = f.read()\n",
    "ququ"
   ]
  },
  {
   "cell_type": "code",
   "execution_count": 9,
   "metadata": {},
   "outputs": [
    {
     "data": {
      "text/plain": [
       "''"
      ]
     },
     "execution_count": 9,
     "metadata": {},
     "output_type": "execute_result"
    }
   ],
   "source": [
    "ququ = f.read()\n",
    "ququ"
   ]
  },
  {
   "cell_type": "code",
   "execution_count": 10,
   "metadata": {},
   "outputs": [
    {
     "data": {
      "text/plain": [
       "0"
      ]
     },
     "execution_count": 10,
     "metadata": {},
     "output_type": "execute_result"
    }
   ],
   "source": [
    "f.seek(0)"
   ]
  },
  {
   "cell_type": "code",
   "execution_count": 11,
   "metadata": {
    "scrolled": true
   },
   "outputs": [
    {
     "data": {
      "text/plain": [
       "'my energy is lack today cause i stay up last night'"
      ]
     },
     "execution_count": 11,
     "metadata": {},
     "output_type": "execute_result"
    }
   ],
   "source": [
    "ququ = f.read()\n",
    "ququ"
   ]
  },
  {
   "cell_type": "code",
   "execution_count": null,
   "metadata": {
    "collapsed": true
   },
   "outputs": [],
   "source": []
  },
  {
   "cell_type": "code",
   "execution_count": null,
   "metadata": {
    "collapsed": true
   },
   "outputs": [],
   "source": []
  },
  {
   "cell_type": "code",
   "execution_count": 40,
   "metadata": {},
   "outputs": [
    {
     "name": "stdout",
     "output_type": "stream",
     "text": [
      "practice-I.ipynb  tet\r\n"
     ]
    }
   ],
   "source": [
    "ls"
   ]
  },
  {
   "cell_type": "code",
   "execution_count": 41,
   "metadata": {},
   "outputs": [
    {
     "name": "stdout",
     "output_type": "stream",
     "text": [
      "practice-I.ipynb  tet\r\n"
     ]
    }
   ],
   "source": [
    "!ls"
   ]
  },
  {
   "cell_type": "code",
   "execution_count": 42,
   "metadata": {},
   "outputs": [
    {
     "data": {
      "text/plain": [
       "'/home/ubuntu/Documents'"
      ]
     },
     "execution_count": 42,
     "metadata": {},
     "output_type": "execute_result"
    }
   ],
   "source": [
    "pwd"
   ]
  },
  {
   "cell_type": "code",
   "execution_count": 43,
   "metadata": {
    "collapsed": true
   },
   "outputs": [],
   "source": [
    "f2 = open(\"./tet\")"
   ]
  },
  {
   "cell_type": "code",
   "execution_count": 44,
   "metadata": {},
   "outputs": [
    {
     "data": {
      "text/plain": [
       "_io.TextIOWrapper"
      ]
     },
     "execution_count": 44,
     "metadata": {},
     "output_type": "execute_result"
    }
   ],
   "source": [
    "type(f2)"
   ]
  },
  {
   "cell_type": "code",
   "execution_count": 45,
   "metadata": {
    "collapsed": true
   },
   "outputs": [],
   "source": [
    "quote = f2.read()"
   ]
  },
  {
   "cell_type": "code",
   "execution_count": 46,
   "metadata": {},
   "outputs": [
    {
     "data": {
      "text/plain": [
       "'class loading is getting more and more horrible.'"
      ]
     },
     "execution_count": 46,
     "metadata": {},
     "output_type": "execute_result"
    }
   ],
   "source": [
    "quote"
   ]
  },
  {
   "cell_type": "code",
   "execution_count": 47,
   "metadata": {
    "collapsed": true
   },
   "outputs": [],
   "source": [
    "quote2 = f2.read()"
   ]
  },
  {
   "cell_type": "code",
   "execution_count": 48,
   "metadata": {},
   "outputs": [
    {
     "data": {
      "text/plain": [
       "''"
      ]
     },
     "execution_count": 48,
     "metadata": {},
     "output_type": "execute_result"
    }
   ],
   "source": [
    "quote2"
   ]
  },
  {
   "cell_type": "code",
   "execution_count": 49,
   "metadata": {},
   "outputs": [
    {
     "data": {
      "text/plain": [
       "0"
      ]
     },
     "execution_count": 49,
     "metadata": {},
     "output_type": "execute_result"
    }
   ],
   "source": [
    "f2.seek(0)"
   ]
  },
  {
   "cell_type": "code",
   "execution_count": 50,
   "metadata": {},
   "outputs": [
    {
     "data": {
      "text/plain": [
       "'class loading is getting more and more horrible.'"
      ]
     },
     "execution_count": 50,
     "metadata": {},
     "output_type": "execute_result"
    }
   ],
   "source": [
    "quote2 = f2.read()\n",
    "quote2"
   ]
  },
  {
   "cell_type": "code",
   "execution_count": 51,
   "metadata": {
    "collapsed": true
   },
   "outputs": [],
   "source": [
    "f2.close()"
   ]
  },
  {
   "cell_type": "code",
   "execution_count": 2,
   "metadata": {},
   "outputs": [
    {
     "name": "stdout",
     "output_type": "stream",
     "text": [
      "/home/ubuntu/Documents/class practice\r\n"
     ]
    }
   ],
   "source": [
    "!pwd"
   ]
  },
  {
   "cell_type": "code",
   "execution_count": 5,
   "metadata": {
    "scrolled": true
   },
   "outputs": [],
   "source": [
    "speech = open('../../Downloads/donald_trump.txt')"
   ]
  },
  {
   "cell_type": "code",
   "execution_count": 6,
   "metadata": {},
   "outputs": [
    {
     "data": {
      "text/plain": [
       "\"Chief Justice Roberts, President Carter, President Clinton, President Bush, President Obama, fellow Americans, and people of the world: thank you.\\n\\nWe, the citizens of America, are now joined in a great national effort to rebuild our country and to restore its promise for all of our people.\\n\\nTogether, we will determine the course of America and the world for years to come.\\n\\nWe will face challenges. We will confront hardships. But we will get the job done.\\n\\nEvery four years, we gather on these steps to carry out the orderly and peaceful transfer of power, and we are grateful to President Obama and First Lady Michelle Obama for their gracious aid throughout this transition. They have been magnificent.\\n\\nToday’s ceremony, however, has very special meaning. Because today we are not merely transferring power from one Administration to another, or from one party to another – but we are transferring power from Washington, D.C. and giving it back to you, the American People.\\n\\nFor too long, a small group in our nation’s Capital has reaped the rewards of government while the people have borne the cost.\\n\\nWashington flourished – but the people did not share in its wealth.\\n\\nPoliticians prospered – but the jobs left, and the factories closed.\\n\\nThe establishment protected itself, but not the citizens of our country.\\n\\nTheir victories have not been your victories; their triumphs have not been your triumphs; and while they celebrated in our nation’s Capital, there was little to celebrate for struggling families all across our land.\\n\\nThat all changes – starting right here, and right now, because this moment is your moment: it belongs to you.\\n\\nIt belongs to everyone gathered here today and everyone watching all across America. \\n\\nThis is your day. This is your celebration.\\n\\nAnd this, the United States of America, is your country.\\n\\nWhat truly matters is not which party controls our government, but whether our government is controlled by the people.\\n\\nJanuary 20th 2017, will be remembered as the day the people became the rulers of this nation again. \\n\\nThe forgotten men and women of our country will be forgotten no longer.\\n\\nEveryone is listening to you now.\\n\\nYou came by the tens of millions to become part of a historic movement the likes of which the world has never seen before.\\n\\nAt the center of this movement is a crucial conviction: that a nation exists to serve its citizens.\\n\\nAmericans want great schools for their children, safe neighborhoods for their families, and good jobs for themselves.\\n\\nThese are the just and reasonable demands of a righteous public.\\n\\nBut for too many of our citizens, a different reality exists: Mothers and children trapped in poverty in our inner cities; rusted-out factories scattered like tombstones across the landscape of our nation; an education system, flush with cash, but which leaves our young and beautiful students deprived of knowledge; and the crime and gangs and drugs that have stolen too many lives and robbed our country of so much unrealized potential.\\n\\nThis American carnage stops right here and stops right now.\\n\\nWe are one nation – and their pain is our pain.  Their dreams are our dreams; and their success will be our success.  We share one heart, one home, and one glorious destiny.\\n\\nThe oath of office I take today is an oath of allegiance to all Americans.\\n\\nFor many decades, we’ve enriched foreign industry at the expense of American industry;\\n\\nSubsidized the armies of other countries while allowing for the very sad depletion of our military;\\n\\nWe've defended other nation’s borders while refusing to defend our own;\\n\\nAnd spent trillions of dollars overseas while America's infrastructure has fallen into disrepair and decay.\\n\\nWe’ve made other countries rich while the wealth, strength, and confidence of our country has disappeared over the horizon.\\n\\nOne by one, the factories shuttered and left our shores, with not even a thought about the millions upon millions of American workers left behind.\\n\\nThe wealth of our middle class has been ripped from their homes and then redistributed across the entire world.\\n\\nBut that is the past. And now we are looking only to the future.\\n\\nWe assembled here today are issuing a new decree to be heard in every city, in every foreign capital, and in every hall of power.\\n\\nFrom this day forward, a new vision will govern our land.\\n\\nFrom this moment on, it’s going to be America First.\\n\\nEvery decision on trade, on taxes, on immigration, on foreign affairs, will be made to benefit American workers and American families.\\n\\nWe must protect our borders from the ravages of other countries making our products, stealing our companies, and destroying our jobs.  Protection will lead to great prosperity and strength.\\n\\nI will fight for you with every breath in my body – and I will never, ever let you down.\\n\\nAmerica will start winning again, winning like never before.\\n\\nWe will bring back our jobs. We will bring back our borders.  We will bring back our wealth.  And we will bring back our dreams.\\n\\nWe will build new roads, and highways, and bridges, and airports, and tunnels, and railways all across our wonderful nation.\\n\\nWe will get our people off of welfare and back to work – rebuilding our country with American hands and American labor.\\n\\nWe will follow two simple rules: Buy American and Hire American.\\n\\nWe will seek friendship and goodwill with the nations of the world – but we do so with the understanding that it is the right of all nations to put their own interests first.\\n\\nWe do not seek to impose our way of life on anyone, but rather to let it shine as an example for everyone to follow.\\n\\nWe will reinforce old alliances and form new ones – and unite the civilized world against Radical Islamic Terrorism, which we will eradicate completely from the face of the Earth.\\n\\nAt the bedrock of our politics will be a total allegiance to the United States of America, and through our loyalty to our country, we will rediscover our loyalty to each other.\\n\\nWhen you open your heart to patriotism, there is no room for prejudice.\\n\\nThe Bible tells us, “how good and pleasant it is when God’s people live together in unity.”\\n\\nWe must speak our minds openly, debate our disagreements honestly, but always pursue solidarity.\\n\\nWhen America is united, America is totally unstoppable.\\n\\nThere should be no fear – we are protected, and we will always be protected.\\n\\nWe will be protected by the great men and women of our military and law enforcement and, most importantly, we are protected by God.\\n\\nFinally, we must think big and dream even bigger.\\n\\nIn America, we understand that a nation is only living as long as it is striving.\\n\\nWe will no longer accept politicians who are all talk and no action – constantly complaining but never doing anything about it.\\n\\nThe time for empty talk is over.\\n\\nNow arrives the hour of action.\\n\\nDo not let anyone tell you it cannot be done.  No challenge can match the heart and fight and spirit of America.\\n\\nWe will not fail. Our country will thrive and prosper again.\\n\\nWe stand at the birth of a new millennium, ready to unlock the mysteries of space, to free the Earth from the miseries of disease, and to harness the energies, industries and technologies of tomorrow.\\n\\nA new national pride will stir our souls, lift our sights, and heal our divisions.\\n\\nIt is time to remember that old wisdom our soldiers will never forget: that whether we are black or brown or white, we all bleed the same red blood of patriots, we all enjoy the same glorious freedoms, and we all salute the same great American Flag.\\n\\nAnd whether a child is born in the urban sprawl of Detroit or the windswept plains of Nebraska, they look up at the same night sky, they fill their heart with the same dreams, and they are infused with the breath of life by the same almighty Creator.\\n\\nSo to all Americans, in every city near and far, small and large, from mountain to mountain, and from ocean to ocean, hear these words:\\n\\nYou will never be ignored again.\\n\\nYour voice, your hopes, and your dreams, will define our American destiny. And your courage and goodness and love will forever guide us along the way.\\n\\nTogether, We Will Make America Strong Again.\\n\\nWe Will Make America Wealthy Again.\\n\\nWe Will Make America Proud Again.\\n\\nWe Will Make America Safe Again.\\n\\nAnd, Yes, Together, We Will Make America Great Again. Thank you, God Bless You, And God Bless America.\\n\""
      ]
     },
     "execution_count": 6,
     "metadata": {},
     "output_type": "execute_result"
    }
   ],
   "source": [
    "speech.read()"
   ]
  },
  {
   "cell_type": "code",
   "execution_count": 10,
   "metadata": {},
   "outputs": [
    {
     "data": {
      "text/plain": [
       "0"
      ]
     },
     "execution_count": 10,
     "metadata": {},
     "output_type": "execute_result"
    }
   ],
   "source": [
    "speech.seek(0)"
   ]
  },
  {
   "cell_type": "code",
   "execution_count": 11,
   "metadata": {},
   "outputs": [
    {
     "data": {
      "text/plain": [
       "['Chief Justice Roberts, President Carter, President Clinton, President Bush, President Obama, fellow Americans, and people of the world: thank you.\\n',\n",
       " '\\n',\n",
       " 'We, the citizens of America, are now joined in a great national effort to rebuild our country and to restore its promise for all of our people.\\n',\n",
       " '\\n',\n",
       " 'Together, we will determine the course of America and the world for years to come.\\n',\n",
       " '\\n',\n",
       " 'We will face challenges. We will confront hardships. But we will get the job done.\\n',\n",
       " '\\n',\n",
       " 'Every four years, we gather on these steps to carry out the orderly and peaceful transfer of power, and we are grateful to President Obama and First Lady Michelle Obama for their gracious aid throughout this transition. They have been magnificent.\\n',\n",
       " '\\n',\n",
       " 'Today’s ceremony, however, has very special meaning. Because today we are not merely transferring power from one Administration to another, or from one party to another – but we are transferring power from Washington, D.C. and giving it back to you, the American People.\\n',\n",
       " '\\n',\n",
       " 'For too long, a small group in our nation’s Capital has reaped the rewards of government while the people have borne the cost.\\n',\n",
       " '\\n',\n",
       " 'Washington flourished – but the people did not share in its wealth.\\n',\n",
       " '\\n',\n",
       " 'Politicians prospered – but the jobs left, and the factories closed.\\n',\n",
       " '\\n',\n",
       " 'The establishment protected itself, but not the citizens of our country.\\n',\n",
       " '\\n',\n",
       " 'Their victories have not been your victories; their triumphs have not been your triumphs; and while they celebrated in our nation’s Capital, there was little to celebrate for struggling families all across our land.\\n',\n",
       " '\\n',\n",
       " 'That all changes – starting right here, and right now, because this moment is your moment: it belongs to you.\\n',\n",
       " '\\n',\n",
       " 'It belongs to everyone gathered here today and everyone watching all across America. \\n',\n",
       " '\\n',\n",
       " 'This is your day. This is your celebration.\\n',\n",
       " '\\n',\n",
       " 'And this, the United States of America, is your country.\\n',\n",
       " '\\n',\n",
       " 'What truly matters is not which party controls our government, but whether our government is controlled by the people.\\n',\n",
       " '\\n',\n",
       " 'January 20th 2017, will be remembered as the day the people became the rulers of this nation again. \\n',\n",
       " '\\n',\n",
       " 'The forgotten men and women of our country will be forgotten no longer.\\n',\n",
       " '\\n',\n",
       " 'Everyone is listening to you now.\\n',\n",
       " '\\n',\n",
       " 'You came by the tens of millions to become part of a historic movement the likes of which the world has never seen before.\\n',\n",
       " '\\n',\n",
       " 'At the center of this movement is a crucial conviction: that a nation exists to serve its citizens.\\n',\n",
       " '\\n',\n",
       " 'Americans want great schools for their children, safe neighborhoods for their families, and good jobs for themselves.\\n',\n",
       " '\\n',\n",
       " 'These are the just and reasonable demands of a righteous public.\\n',\n",
       " '\\n',\n",
       " 'But for too many of our citizens, a different reality exists: Mothers and children trapped in poverty in our inner cities; rusted-out factories scattered like tombstones across the landscape of our nation; an education system, flush with cash, but which leaves our young and beautiful students deprived of knowledge; and the crime and gangs and drugs that have stolen too many lives and robbed our country of so much unrealized potential.\\n',\n",
       " '\\n',\n",
       " 'This American carnage stops right here and stops right now.\\n',\n",
       " '\\n',\n",
       " 'We are one nation – and their pain is our pain.  Their dreams are our dreams; and their success will be our success.  We share one heart, one home, and one glorious destiny.\\n',\n",
       " '\\n',\n",
       " 'The oath of office I take today is an oath of allegiance to all Americans.\\n',\n",
       " '\\n',\n",
       " 'For many decades, we’ve enriched foreign industry at the expense of American industry;\\n',\n",
       " '\\n',\n",
       " 'Subsidized the armies of other countries while allowing for the very sad depletion of our military;\\n',\n",
       " '\\n',\n",
       " \"We've defended other nation’s borders while refusing to defend our own;\\n\",\n",
       " '\\n',\n",
       " \"And spent trillions of dollars overseas while America's infrastructure has fallen into disrepair and decay.\\n\",\n",
       " '\\n',\n",
       " 'We’ve made other countries rich while the wealth, strength, and confidence of our country has disappeared over the horizon.\\n',\n",
       " '\\n',\n",
       " 'One by one, the factories shuttered and left our shores, with not even a thought about the millions upon millions of American workers left behind.\\n',\n",
       " '\\n',\n",
       " 'The wealth of our middle class has been ripped from their homes and then redistributed across the entire world.\\n',\n",
       " '\\n',\n",
       " 'But that is the past. And now we are looking only to the future.\\n',\n",
       " '\\n',\n",
       " 'We assembled here today are issuing a new decree to be heard in every city, in every foreign capital, and in every hall of power.\\n',\n",
       " '\\n',\n",
       " 'From this day forward, a new vision will govern our land.\\n',\n",
       " '\\n',\n",
       " 'From this moment on, it’s going to be America First.\\n',\n",
       " '\\n',\n",
       " 'Every decision on trade, on taxes, on immigration, on foreign affairs, will be made to benefit American workers and American families.\\n',\n",
       " '\\n',\n",
       " 'We must protect our borders from the ravages of other countries making our products, stealing our companies, and destroying our jobs.  Protection will lead to great prosperity and strength.\\n',\n",
       " '\\n',\n",
       " 'I will fight for you with every breath in my body – and I will never, ever let you down.\\n',\n",
       " '\\n',\n",
       " 'America will start winning again, winning like never before.\\n',\n",
       " '\\n',\n",
       " 'We will bring back our jobs. We will bring back our borders.  We will bring back our wealth.  And we will bring back our dreams.\\n',\n",
       " '\\n',\n",
       " 'We will build new roads, and highways, and bridges, and airports, and tunnels, and railways all across our wonderful nation.\\n',\n",
       " '\\n',\n",
       " 'We will get our people off of welfare and back to work – rebuilding our country with American hands and American labor.\\n',\n",
       " '\\n',\n",
       " 'We will follow two simple rules: Buy American and Hire American.\\n',\n",
       " '\\n',\n",
       " 'We will seek friendship and goodwill with the nations of the world – but we do so with the understanding that it is the right of all nations to put their own interests first.\\n',\n",
       " '\\n',\n",
       " 'We do not seek to impose our way of life on anyone, but rather to let it shine as an example for everyone to follow.\\n',\n",
       " '\\n',\n",
       " 'We will reinforce old alliances and form new ones – and unite the civilized world against Radical Islamic Terrorism, which we will eradicate completely from the face of the Earth.\\n',\n",
       " '\\n',\n",
       " 'At the bedrock of our politics will be a total allegiance to the United States of America, and through our loyalty to our country, we will rediscover our loyalty to each other.\\n',\n",
       " '\\n',\n",
       " 'When you open your heart to patriotism, there is no room for prejudice.\\n',\n",
       " '\\n',\n",
       " 'The Bible tells us, “how good and pleasant it is when God’s people live together in unity.”\\n',\n",
       " '\\n',\n",
       " 'We must speak our minds openly, debate our disagreements honestly, but always pursue solidarity.\\n',\n",
       " '\\n',\n",
       " 'When America is united, America is totally unstoppable.\\n',\n",
       " '\\n',\n",
       " 'There should be no fear – we are protected, and we will always be protected.\\n',\n",
       " '\\n',\n",
       " 'We will be protected by the great men and women of our military and law enforcement and, most importantly, we are protected by God.\\n',\n",
       " '\\n',\n",
       " 'Finally, we must think big and dream even bigger.\\n',\n",
       " '\\n',\n",
       " 'In America, we understand that a nation is only living as long as it is striving.\\n',\n",
       " '\\n',\n",
       " 'We will no longer accept politicians who are all talk and no action – constantly complaining but never doing anything about it.\\n',\n",
       " '\\n',\n",
       " 'The time for empty talk is over.\\n',\n",
       " '\\n',\n",
       " 'Now arrives the hour of action.\\n',\n",
       " '\\n',\n",
       " 'Do not let anyone tell you it cannot be done.  No challenge can match the heart and fight and spirit of America.\\n',\n",
       " '\\n',\n",
       " 'We will not fail. Our country will thrive and prosper again.\\n',\n",
       " '\\n',\n",
       " 'We stand at the birth of a new millennium, ready to unlock the mysteries of space, to free the Earth from the miseries of disease, and to harness the energies, industries and technologies of tomorrow.\\n',\n",
       " '\\n',\n",
       " 'A new national pride will stir our souls, lift our sights, and heal our divisions.\\n',\n",
       " '\\n',\n",
       " 'It is time to remember that old wisdom our soldiers will never forget: that whether we are black or brown or white, we all bleed the same red blood of patriots, we all enjoy the same glorious freedoms, and we all salute the same great American Flag.\\n',\n",
       " '\\n',\n",
       " 'And whether a child is born in the urban sprawl of Detroit or the windswept plains of Nebraska, they look up at the same night sky, they fill their heart with the same dreams, and they are infused with the breath of life by the same almighty Creator.\\n',\n",
       " '\\n',\n",
       " 'So to all Americans, in every city near and far, small and large, from mountain to mountain, and from ocean to ocean, hear these words:\\n',\n",
       " '\\n',\n",
       " 'You will never be ignored again.\\n',\n",
       " '\\n',\n",
       " 'Your voice, your hopes, and your dreams, will define our American destiny. And your courage and goodness and love will forever guide us along the way.\\n',\n",
       " '\\n',\n",
       " 'Together, We Will Make America Strong Again.\\n',\n",
       " '\\n',\n",
       " 'We Will Make America Wealthy Again.\\n',\n",
       " '\\n',\n",
       " 'We Will Make America Proud Again.\\n',\n",
       " '\\n',\n",
       " 'We Will Make America Safe Again.\\n',\n",
       " '\\n',\n",
       " 'And, Yes, Together, We Will Make America Great Again. Thank you, God Bless You, And God Bless America.\\n']"
      ]
     },
     "execution_count": 11,
     "metadata": {},
     "output_type": "execute_result"
    }
   ],
   "source": [
    "speech.readlines()"
   ]
  },
  {
   "cell_type": "code",
   "execution_count": 19,
   "metadata": {},
   "outputs": [
    {
     "data": {
      "text/plain": [
       "0"
      ]
     },
     "execution_count": 19,
     "metadata": {},
     "output_type": "execute_result"
    }
   ],
   "source": [
    "speech.seek(0)"
   ]
  },
  {
   "cell_type": "code",
   "execution_count": 20,
   "metadata": {},
   "outputs": [
    {
     "name": "stdout",
     "output_type": "stream",
     "text": [
      "Chief Justice Roberts, President Carter, President Clinton, President Bush, President Obama, fellow Americans, and people of the world: thank you.\n",
      "\n",
      "We, the citizens of America, are now joined in a great national effort to rebuild our country and to restore its promise for all of our people.\n",
      "\n",
      "Together, we will determine the course of America and the world for years to come.\n",
      "\n",
      "We will face challenges. We will confront hardships. But we will get the job done.\n",
      "\n",
      "Every four years, we gather on these steps to carry out the orderly and peaceful transfer of power, and we are grateful to President Obama and First Lady Michelle Obama for their gracious aid throughout this transition. They have been magnificent.\n",
      "\n",
      "Today’s ceremony, however, has very special meaning. Because today we are not merely transferring power from one Administration to another, or from one party to another – but we are transferring power from Washington, D.C. and giving it back to you, the American People.\n",
      "\n",
      "For too long, a small group in our nation’s Capital has reaped the rewards of government while the people have borne the cost.\n",
      "\n",
      "Washington flourished – but the people did not share in its wealth.\n",
      "\n",
      "Politicians prospered – but the jobs left, and the factories closed.\n",
      "\n",
      "The establishment protected itself, but not the citizens of our country.\n",
      "\n",
      "Their victories have not been your victories; their triumphs have not been your triumphs; and while they celebrated in our nation’s Capital, there was little to celebrate for struggling families all across our land.\n",
      "\n",
      "That all changes – starting right here, and right now, because this moment is your moment: it belongs to you.\n",
      "\n",
      "It belongs to everyone gathered here today and everyone watching all across America.\n",
      "\n",
      "This is your day. This is your celebration.\n",
      "\n",
      "And this, the United States of America, is your country.\n",
      "\n",
      "What truly matters is not which party controls our government, but whether our government is controlled by the people.\n",
      "\n",
      "January 20th 2017, will be remembered as the day the people became the rulers of this nation again.\n",
      "\n",
      "The forgotten men and women of our country will be forgotten no longer.\n",
      "\n",
      "Everyone is listening to you now.\n",
      "\n",
      "You came by the tens of millions to become part of a historic movement the likes of which the world has never seen before.\n",
      "\n",
      "At the center of this movement is a crucial conviction: that a nation exists to serve its citizens.\n",
      "\n",
      "Americans want great schools for their children, safe neighborhoods for their families, and good jobs for themselves.\n",
      "\n",
      "These are the just and reasonable demands of a righteous public.\n",
      "\n",
      "But for too many of our citizens, a different reality exists: Mothers and children trapped in poverty in our inner cities; rusted-out factories scattered like tombstones across the landscape of our nation; an education system, flush with cash, but which leaves our young and beautiful students deprived of knowledge; and the crime and gangs and drugs that have stolen too many lives and robbed our country of so much unrealized potential.\n",
      "\n",
      "This American carnage stops right here and stops right now.\n",
      "\n",
      "We are one nation – and their pain is our pain.  Their dreams are our dreams; and their success will be our success.  We share one heart, one home, and one glorious destiny.\n",
      "\n",
      "The oath of office I take today is an oath of allegiance to all Americans.\n",
      "\n",
      "For many decades, we’ve enriched foreign industry at the expense of American industry;\n",
      "\n",
      "Subsidized the armies of other countries while allowing for the very sad depletion of our military;\n",
      "\n",
      "We've defended other nation’s borders while refusing to defend our own;\n",
      "\n",
      "And spent trillions of dollars overseas while America's infrastructure has fallen into disrepair and decay.\n",
      "\n",
      "We’ve made other countries rich while the wealth, strength, and confidence of our country has disappeared over the horizon.\n",
      "\n",
      "One by one, the factories shuttered and left our shores, with not even a thought about the millions upon millions of American workers left behind.\n",
      "\n",
      "The wealth of our middle class has been ripped from their homes and then redistributed across the entire world.\n",
      "\n",
      "But that is the past. And now we are looking only to the future.\n",
      "\n",
      "We assembled here today are issuing a new decree to be heard in every city, in every foreign capital, and in every hall of power.\n",
      "\n",
      "From this day forward, a new vision will govern our land.\n",
      "\n",
      "From this moment on, it’s going to be America First.\n",
      "\n",
      "Every decision on trade, on taxes, on immigration, on foreign affairs, will be made to benefit American workers and American families.\n",
      "\n",
      "We must protect our borders from the ravages of other countries making our products, stealing our companies, and destroying our jobs.  Protection will lead to great prosperity and strength.\n",
      "\n",
      "I will fight for you with every breath in my body – and I will never, ever let you down.\n",
      "\n",
      "America will start winning again, winning like never before.\n",
      "\n",
      "We will bring back our jobs. We will bring back our borders.  We will bring back our wealth.  And we will bring back our dreams.\n",
      "\n",
      "We will build new roads, and highways, and bridges, and airports, and tunnels, and railways all across our wonderful nation.\n",
      "\n",
      "We will get our people off of welfare and back to work – rebuilding our country with American hands and American labor.\n",
      "\n",
      "We will follow two simple rules: Buy American and Hire American.\n",
      "\n",
      "We will seek friendship and goodwill with the nations of the world – but we do so with the understanding that it is the right of all nations to put their own interests first.\n",
      "\n",
      "We do not seek to impose our way of life on anyone, but rather to let it shine as an example for everyone to follow.\n",
      "\n",
      "We will reinforce old alliances and form new ones – and unite the civilized world against Radical Islamic Terrorism, which we will eradicate completely from the face of the Earth.\n",
      "\n",
      "At the bedrock of our politics will be a total allegiance to the United States of America, and through our loyalty to our country, we will rediscover our loyalty to each other.\n",
      "\n",
      "When you open your heart to patriotism, there is no room for prejudice.\n",
      "\n",
      "The Bible tells us, “how good and pleasant it is when God’s people live together in unity.”\n",
      "\n",
      "We must speak our minds openly, debate our disagreements honestly, but always pursue solidarity.\n",
      "\n",
      "When America is united, America is totally unstoppable.\n",
      "\n",
      "There should be no fear – we are protected, and we will always be protected.\n",
      "\n",
      "We will be protected by the great men and women of our military and law enforcement and, most importantly, we are protected by God.\n",
      "\n",
      "Finally, we must think big and dream even bigger.\n",
      "\n",
      "In America, we understand that a nation is only living as long as it is striving.\n",
      "\n",
      "We will no longer accept politicians who are all talk and no action – constantly complaining but never doing anything about it.\n",
      "\n",
      "The time for empty talk is over.\n",
      "\n",
      "Now arrives the hour of action.\n",
      "\n",
      "Do not let anyone tell you it cannot be done.  No challenge can match the heart and fight and spirit of America.\n",
      "\n",
      "We will not fail. Our country will thrive and prosper again.\n",
      "\n",
      "We stand at the birth of a new millennium, ready to unlock the mysteries of space, to free the Earth from the miseries of disease, and to harness the energies, industries and technologies of tomorrow.\n",
      "\n",
      "A new national pride will stir our souls, lift our sights, and heal our divisions.\n",
      "\n",
      "It is time to remember that old wisdom our soldiers will never forget: that whether we are black or brown or white, we all bleed the same red blood of patriots, we all enjoy the same glorious freedoms, and we all salute the same great American Flag.\n",
      "\n",
      "And whether a child is born in the urban sprawl of Detroit or the windswept plains of Nebraska, they look up at the same night sky, they fill their heart with the same dreams, and they are infused with the breath of life by the same almighty Creator.\n",
      "\n",
      "So to all Americans, in every city near and far, small and large, from mountain to mountain, and from ocean to ocean, hear these words:\n",
      "\n",
      "You will never be ignored again.\n",
      "\n",
      "Your voice, your hopes, and your dreams, will define our American destiny. And your courage and goodness and love will forever guide us along the way.\n",
      "\n",
      "Together, We Will Make America Strong Again.\n",
      "\n",
      "We Will Make America Wealthy Again.\n",
      "\n",
      "We Will Make America Proud Again.\n",
      "\n",
      "We Will Make America Safe Again.\n",
      "\n",
      "And, Yes, Together, We Will Make America Great Again. Thank you, God Bless You, And God Bless America.\n"
     ]
    }
   ],
   "source": [
    "for line in speech:\n",
    "    print(line.strip())\n",
    "    #print('-' *50)\n",
    " #it would present the article in a original form to utilize strip()\n",
    "# in the article file."
   ]
  },
  {
   "cell_type": "code",
   "execution_count": 67,
   "metadata": {
    "collapsed": true
   },
   "outputs": [],
   "source": [
    "speech.close()"
   ]
  },
  {
   "cell_type": "code",
   "execution_count": null,
   "metadata": {
    "collapsed": true
   },
   "outputs": [],
   "source": []
  },
  {
   "cell_type": "markdown",
   "metadata": {
    "collapsed": true
   },
   "source": [
    "# Error handling (Try Except)"
   ]
  },
  {
   "cell_type": "code",
   "execution_count": 1,
   "metadata": {},
   "outputs": [
    {
     "ename": "IndexError",
     "evalue": "hi",
     "output_type": "error",
     "traceback": [
      "\u001b[0;31m---------------------------------------------------------------------------\u001b[0m",
      "\u001b[0;31mIndexError\u001b[0m                                Traceback (most recent call last)",
      "\u001b[0;32m<ipython-input-1-03b887563841>\u001b[0m in \u001b[0;36m<module>\u001b[0;34m()\u001b[0m\n\u001b[0;32m----> 1\u001b[0;31m \u001b[0;32mraise\u001b[0m \u001b[0mIndexError\u001b[0m\u001b[0;34m(\u001b[0m\u001b[0;34m'hi'\u001b[0m\u001b[0;34m)\u001b[0m\u001b[0;34m\u001b[0m\u001b[0m\n\u001b[0m",
      "\u001b[0;31mIndexError\u001b[0m: hi"
     ]
    }
   ],
   "source": [
    "raise IndexError('hi')"
   ]
  },
  {
   "cell_type": "code",
   "execution_count": 3,
   "metadata": {},
   "outputs": [
    {
     "name": "stdout",
     "output_type": "stream",
     "text": [
      "hi\n"
     ]
    }
   ],
   "source": [
    "try:\n",
    "    raise IndexError('hi')\n",
    "except IndexError as e :\n",
    "    print(e)"
   ]
  },
  {
   "cell_type": "code",
   "execution_count": 9,
   "metadata": {},
   "outputs": [
    {
     "ename": "IndexError",
     "evalue": "list index out of range",
     "output_type": "error",
     "traceback": [
      "\u001b[0;31m---------------------------------------------------------------------------\u001b[0m",
      "\u001b[0;31mIndexError\u001b[0m                                Traceback (most recent call last)",
      "\u001b[0;32m<ipython-input-9-d1689046b5eb>\u001b[0m in \u001b[0;36m<module>\u001b[0;34m()\u001b[0m\n\u001b[1;32m      1\u001b[0m \u001b[0mll\u001b[0m \u001b[0;34m=\u001b[0m\u001b[0;34m[\u001b[0m\u001b[0;34m]\u001b[0m\u001b[0;34m\u001b[0m\u001b[0m\n\u001b[0;32m----> 2\u001b[0;31m \u001b[0mll\u001b[0m\u001b[0;34m[\u001b[0m\u001b[0;36m1\u001b[0m\u001b[0;34m]\u001b[0m\u001b[0;34m\u001b[0m\u001b[0m\n\u001b[0m",
      "\u001b[0;31mIndexError\u001b[0m: list index out of range"
     ]
    }
   ],
   "source": [
    "ll =[]\n",
    "ll[1]"
   ]
  },
  {
   "cell_type": "code",
   "execution_count": 12,
   "metadata": {},
   "outputs": [
    {
     "name": "stdout",
     "output_type": "stream",
     "text": [
      "Error is list index out of range\n"
     ]
    }
   ],
   "source": [
    "ll=[]\n",
    "try:\n",
    "    ll[1]\n",
    "except IndexError as e:\n",
    "    print('Error is %s'%e)"
   ]
  },
  {
   "cell_type": "code",
   "execution_count": 13,
   "metadata": {},
   "outputs": [
    {
     "name": "stdout",
     "output_type": "stream",
     "text": [
      "Error is %s\n"
     ]
    }
   ],
   "source": [
    "ll=[]\n",
    "try:\n",
    "    ll[1]\n",
    "except IndexError as e:\n",
    "    print('Error is %s')"
   ]
  },
  {
   "cell_type": "code",
   "execution_count": 14,
   "metadata": {},
   "outputs": [
    {
     "name": "stdout",
     "output_type": "stream",
     "text": [
      "Error is %s\n",
      "execute finally\n"
     ]
    }
   ],
   "source": [
    "ll = []\n",
    "try:\n",
    "    ll[1]\n",
    "except IndexError as e :\n",
    "    print('Error is %s')\n",
    "finally:\n",
    "    print('execute finally')"
   ]
  },
  {
   "cell_type": "code",
   "execution_count": 15,
   "metadata": {},
   "outputs": [
    {
     "name": "stdout",
     "output_type": "stream",
     "text": [
      "Error is list index out of range\n",
      "execute finally\n"
     ]
    }
   ],
   "source": [
    "ll = [1]\n",
    "try:\n",
    "    ll[1]\n",
    "except IndexError as e:\n",
    "    # Execute to handle error\n",
    "    print(\"Error is %s\"%e)\n",
    "else:\n",
    "    # Only execute when no error\n",
    "    print(\"executed successfully, no error\")\n",
    "finally:\n",
    "    # Always execute\n",
    "    print(\"execute finally\")"
   ]
  },
  {
   "cell_type": "code",
   "execution_count": 20,
   "metadata": {
    "collapsed": true
   },
   "outputs": [],
   "source": [
    "f = open(\"../Downloads/donald_trump.txt\")\n",
    "\n",
    "f.readable()\n",
    "\n",
    "f.close()"
   ]
  },
  {
   "cell_type": "code",
   "execution_count": 22,
   "metadata": {},
   "outputs": [
    {
     "name": "stdout",
     "output_type": "stream",
     "text": [
      "Error begins\n",
      "Cleaning up files\n"
     ]
    }
   ],
   "source": [
    "try:\n",
    "    f = open('../Downloads/donald_trump.txt')\n",
    "    f.read()\n",
    "    raise IndexError('Error reading file')\n",
    "except IndexError as e:\n",
    "    print('Error begins')\n",
    "else:\n",
    "    print(\"executed successfully,no error\")\n",
    "finally:\n",
    "    print('Cleaning up files')\n",
    "    f.close()"
   ]
  },
  {
   "cell_type": "code",
   "execution_count": 26,
   "metadata": {
    "scrolled": true
   },
   "outputs": [
    {
     "name": "stdout",
     "output_type": "stream",
     "text": [
      "class loading is getting more and more horrible.\n",
      "\n",
      "\n",
      "try:\n",
      "    f = open('../Downloads/donald_trump.txt')\n",
      "    f.read()\n",
      "    raise IndexError('Error reading file')    what does it means?\n",
      "except IndexError as e:\n",
      "    print('Error begins')\n",
      "else:\n",
      "    print(\"executed successfully,no error\")\n",
      "finally:\n",
      "    print('Cleaning up files')\n",
      "    f.close()\n",
      "\n",
      "read second time\n",
      "class loading is getting more and more horrible.\n",
      "\n",
      "\n",
      "try:\n",
      "    f = open('../Downloads/donald_trump.txt')\n",
      "    f.read()\n",
      "    raise IndexError('Error reading file')    what does it means?\n",
      "except IndexError as e:\n",
      "    print('Error begins')\n",
      "else:\n",
      "    print(\"executed successfully,no error\")\n",
      "finally:\n",
      "    print('Cleaning up files')\n",
      "    f.close()\n",
      "\n"
     ]
    }
   ],
   "source": [
    "with open('./tet') as f:\n",
    "    print(f.read())\n",
    "    f.seek(0)\n",
    "    print('read second time')\n",
    "    print(f.read())"
   ]
  },
  {
   "cell_type": "code",
   "execution_count": 28,
   "metadata": {},
   "outputs": [
    {
     "ename": "ValueError",
     "evalue": "I/O operation on closed file",
     "output_type": "error",
     "traceback": [
      "\u001b[0;31m---------------------------------------------------------------------------\u001b[0m",
      "\u001b[0;31mValueError\u001b[0m                                Traceback (most recent call last)",
      "\u001b[0;32m<ipython-input-28-52897e67bab4>\u001b[0m in \u001b[0;36m<module>\u001b[0;34m()\u001b[0m\n\u001b[1;32m      1\u001b[0m \u001b[0;34m\u001b[0m\u001b[0m\n\u001b[0;32m----> 2\u001b[0;31m \u001b[0mf\u001b[0m\u001b[0;34m.\u001b[0m\u001b[0mreadable\u001b[0m\u001b[0;34m(\u001b[0m\u001b[0;34m)\u001b[0m\u001b[0;34m\u001b[0m\u001b[0m\n\u001b[0m",
      "\u001b[0;31mValueError\u001b[0m: I/O operation on closed file"
     ]
    }
   ],
   "source": [
    "\n",
    "f.readable()  #due to auto-calling close(),so..."
   ]
  },
  {
   "cell_type": "markdown",
   "metadata": {},
   "source": [
    "# Exercise\n",
    "Donald Trump speech word count"
   ]
  },
  {
   "cell_type": "code",
   "execution_count": 5,
   "metadata": {
    "collapsed": true
   },
   "outputs": [],
   "source": [
    "mydict ={\n",
    "    'chief' : 1,\n",
    "    'justice': 2,\n",
    "    'roberts' :1,\n",
    "    \n",
    "}"
   ]
  },
  {
   "cell_type": "code",
   "execution_count": 6,
   "metadata": {},
   "outputs": [
    {
     "name": "stdout",
     "output_type": "stream",
     "text": [
      "chief\n",
      "justice\n",
      "roberts\n"
     ]
    }
   ],
   "source": [
    "for x in mydict:\n",
    "    print(x)"
   ]
  },
  {
   "cell_type": "code",
   "execution_count": 7,
   "metadata": {},
   "outputs": [
    {
     "name": "stdout",
     "output_type": "stream",
     "text": [
      "1\n",
      "2\n",
      "1\n"
     ]
    }
   ],
   "source": [
    "for x in mydict:\n",
    "    print(mydict[x])"
   ]
  },
  {
   "cell_type": "code",
   "execution_count": 8,
   "metadata": {},
   "outputs": [
    {
     "data": {
      "text/plain": [
       "dict_keys(['chief', 'justice', 'roberts'])"
      ]
     },
     "execution_count": 8,
     "metadata": {},
     "output_type": "execute_result"
    }
   ],
   "source": [
    "mydict.keys()"
   ]
  },
  {
   "cell_type": "code",
   "execution_count": 9,
   "metadata": {},
   "outputs": [
    {
     "data": {
      "text/plain": [
       "dict_values([1, 2, 1])"
      ]
     },
     "execution_count": 9,
     "metadata": {},
     "output_type": "execute_result"
    }
   ],
   "source": [
    "mydict.values()"
   ]
  },
  {
   "cell_type": "code",
   "execution_count": 10,
   "metadata": {
    "scrolled": true
   },
   "outputs": [
    {
     "data": {
      "text/plain": [
       "dict_items([('chief', 1), ('justice', 2), ('roberts', 1)])"
      ]
     },
     "execution_count": 10,
     "metadata": {},
     "output_type": "execute_result"
    }
   ],
   "source": [
    "mydict.items()"
   ]
  },
  {
   "cell_type": "code",
   "execution_count": 11,
   "metadata": {},
   "outputs": [
    {
     "data": {
      "text/plain": [
       "'/home/ubuntu/Documents'"
      ]
     },
     "execution_count": 11,
     "metadata": {},
     "output_type": "execute_result"
    }
   ],
   "source": [
    "pwd"
   ]
  },
  {
   "cell_type": "code",
   "execution_count": 25,
   "metadata": {},
   "outputs": [
    {
     "data": {
      "text/plain": [
       "[('and', 74),\n",
       " ('the', 70),\n",
       " ('of', 48),\n",
       " ('our', 48),\n",
       " ('we', 46),\n",
       " ('will', 40),\n",
       " ('to', 37),\n",
       " ('is', 21),\n",
       " ('america', 17),\n",
       " ('a', 15)]"
      ]
     },
     "execution_count": 25,
     "metadata": {},
     "output_type": "execute_result"
    }
   ],
   "source": [
    "from collections import Counter\n",
    "\n",
    "with open('../Downloads/donald_trump.txt')as f:\n",
    "    speechh = f.read().replace(',',\"\").replace('.',\"\")\n",
    "    cnt = Counter()\n",
    "    \n",
    "    for word in speech.split():\n",
    "        words = word.lower()\n",
    "        if words in cnt:\n",
    "            cnt[words] += 1\n",
    "        else:\n",
    "            cnt[words] = 1\n",
    "\n",
    "cnt.most_common(10)\n",
    "             "
   ]
  },
  {
   "cell_type": "code",
   "execution_count": 48,
   "metadata": {},
   "outputs": [
    {
     "name": "stdout",
     "output_type": "stream",
     "text": [
      "Chief Justice Roberts President Carter President Clinton President Bush President Obama fellow Americans and people of the world: thank you\n",
      "\n",
      "We the citizens of America are now joined in a great national effort to rebuild our country and to restore its promise for all of our people\n",
      "\n",
      "Together we will determine the course of America and the world for years to come\n",
      "\n",
      "We will face challenges We will confront hardships But we will get the job done\n",
      "\n",
      "Every four years we gather on these steps to carry out the orderly and peaceful transfer of power and we are grateful to President Obama and First Lady Michelle Obama for their gracious aid throughout this transition They have been magnificent\n",
      "\n",
      "Today’s ceremony however has very special meaning Because today we are not merely transferring power from one Administration to another or from one party to another – but we are transferring power from Washington DC and giving it back to you the American People\n",
      "\n",
      "For too long a small group in our nation’s Capital has reaped the rewards of government while the people have borne the cost\n",
      "\n",
      "Washington flourished – but the people did not share in its wealth\n",
      "\n",
      "Politicians prospered – but the jobs left and the factories closed\n",
      "\n",
      "The establishment protected itself but not the citizens of our country\n",
      "\n",
      "Their victories have not been your victories; their triumphs have not been your triumphs; and while they celebrated in our nation’s Capital there was little to celebrate for struggling families all across our land\n",
      "\n",
      "That all changes – starting right here and right now because this moment is your moment: it belongs to you\n",
      "\n",
      "It belongs to everyone gathered here today and everyone watching all across America \n",
      "\n",
      "This is your day This is your celebration\n",
      "\n",
      "And this the United States of America is your country\n",
      "\n",
      "What truly matters is not which party controls our government but whether our government is controlled by the people\n",
      "\n",
      "January 20th 2017 will be remembered as the day the people became the rulers of this nation again \n",
      "\n",
      "The forgotten men and women of our country will be forgotten no longer\n",
      "\n",
      "Everyone is listening to you now\n",
      "\n",
      "You came by the tens of millions to become part of a historic movement the likes of which the world has never seen before\n",
      "\n",
      "At the center of this movement is a crucial conviction: that a nation exists to serve its citizens\n",
      "\n",
      "Americans want great schools for their children safe neighborhoods for their families and good jobs for themselves\n",
      "\n",
      "These are the just and reasonable demands of a righteous public\n",
      "\n",
      "But for too many of our citizens a different reality exists: Mothers and children trapped in poverty in our inner cities; rusted-out factories scattered like tombstones across the landscape of our nation; an education system flush with cash but which leaves our young and beautiful students deprived of knowledge; and the crime and gangs and drugs that have stolen too many lives and robbed our country of so much unrealized potential\n",
      "\n",
      "This American carnage stops right here and stops right now\n",
      "\n",
      "We are one nation – and their pain is our pain  Their dreams are our dreams; and their success will be our success  We share one heart one home and one glorious destiny\n",
      "\n",
      "The oath of office I take today is an oath of allegiance to all Americans\n",
      "\n",
      "For many decades we’ve enriched foreign industry at the expense of American industry;\n",
      "\n",
      "Subsidized the armies of other countries while allowing for the very sad depletion of our military;\n",
      "\n",
      "We've defended other nation’s borders while refusing to defend our own;\n",
      "\n",
      "And spent trillions of dollars overseas while America's infrastructure has fallen into disrepair and decay\n",
      "\n",
      "We’ve made other countries rich while the wealth strength and confidence of our country has disappeared over the horizon\n",
      "\n",
      "One by one the factories shuttered and left our shores with not even a thought about the millions upon millions of American workers left behind\n",
      "\n",
      "The wealth of our middle class has been ripped from their homes and then redistributed across the entire world\n",
      "\n",
      "But that is the past And now we are looking only to the future\n",
      "\n",
      "We assembled here today are issuing a new decree to be heard in every city in every foreign capital and in every hall of power\n",
      "\n",
      "From this day forward a new vision will govern our land\n",
      "\n",
      "From this moment on it’s going to be America First\n",
      "\n",
      "Every decision on trade on taxes on immigration on foreign affairs will be made to benefit American workers and American families\n",
      "\n",
      "We must protect our borders from the ravages of other countries making our products stealing our companies and destroying our jobs  Protection will lead to great prosperity and strength\n",
      "\n",
      "I will fight for you with every breath in my body – and I will never ever let you down\n",
      "\n",
      "America will start winning again winning like never before\n",
      "\n",
      "We will bring back our jobs We will bring back our borders  We will bring back our wealth  And we will bring back our dreams\n",
      "\n",
      "We will build new roads and highways and bridges and airports and tunnels and railways all across our wonderful nation\n",
      "\n",
      "We will get our people off of welfare and back to work – rebuilding our country with American hands and American labor\n",
      "\n",
      "We will follow two simple rules: Buy American and Hire American\n",
      "\n",
      "We will seek friendship and goodwill with the nations of the world – but we do so with the understanding that it is the right of all nations to put their own interests first\n",
      "\n",
      "We do not seek to impose our way of life on anyone but rather to let it shine as an example for everyone to follow\n",
      "\n",
      "We will reinforce old alliances and form new ones – and unite the civilized world against Radical Islamic Terrorism which we will eradicate completely from the face of the Earth\n",
      "\n",
      "At the bedrock of our politics will be a total allegiance to the United States of America and through our loyalty to our country we will rediscover our loyalty to each other\n",
      "\n",
      "When you open your heart to patriotism there is no room for prejudice\n",
      "\n",
      "The Bible tells us “how good and pleasant it is when God’s people live together in unity”\n",
      "\n",
      "We must speak our minds openly debate our disagreements honestly but always pursue solidarity\n",
      "\n",
      "When America is united America is totally unstoppable\n",
      "\n",
      "There should be no fear – we are protected and we will always be protected\n",
      "\n",
      "We will be protected by the great men and women of our military and law enforcement and most importantly we are protected by God\n",
      "\n",
      "Finally we must think big and dream even bigger\n",
      "\n",
      "In America we understand that a nation is only living as long as it is striving\n",
      "\n",
      "We will no longer accept politicians who are all talk and no action – constantly complaining but never doing anything about it\n",
      "\n",
      "The time for empty talk is over\n",
      "\n",
      "Now arrives the hour of action\n",
      "\n",
      "Do not let anyone tell you it cannot be done  No challenge can match the heart and fight and spirit of America\n",
      "\n",
      "We will not fail Our country will thrive and prosper again\n",
      "\n",
      "We stand at the birth of a new millennium ready to unlock the mysteries of space to free the Earth from the miseries of disease and to harness the energies industries and technologies of tomorrow\n",
      "\n",
      "A new national pride will stir our souls lift our sights and heal our divisions\n",
      "\n",
      "It is time to remember that old wisdom our soldiers will never forget: that whether we are black or brown or white we all bleed the same red blood of patriots we all enjoy the same glorious freedoms and we all salute the same great American Flag\n",
      "\n",
      "And whether a child is born in the urban sprawl of Detroit or the windswept plains of Nebraska they look up at the same night sky they fill their heart with the same dreams and they are infused with the breath of life by the same almighty Creator\n",
      "\n",
      "So to all Americans in every city near and far small and large from mountain to mountain and from ocean to ocean hear these words:\n",
      "\n",
      "You will never be ignored again\n",
      "\n",
      "Your voice your hopes and your dreams will define our American destiny And your courage and goodness and love will forever guide us along the way\n",
      "\n",
      "Together We Will Make America Strong Again\n",
      "\n",
      "We Will Make America Wealthy Again\n",
      "\n",
      "We Will Make America Proud Again\n",
      "\n",
      "We Will Make America Safe Again\n",
      "\n",
      "And Yes Together We Will Make America Great Again Thank you God Bless You And God Bless America\n",
      "\n"
     ]
    },
    {
     "data": {
      "text/plain": [
       "0"
      ]
     },
     "execution_count": 48,
     "metadata": {},
     "output_type": "execute_result"
    }
   ],
   "source": [
    "f = open('../Downloads/donald_trump.txt')\n",
    "print( f.read().replace(',', \"\").replace(\".\", \"\") )\n",
    "f.seek(0)"
   ]
  },
  {
   "cell_type": "code",
   "execution_count": 49,
   "metadata": {
    "scrolled": true
   },
   "outputs": [
    {
     "name": "stdout",
     "output_type": "stream",
     "text": [
      "['Chief', 'Justice', 'Roberts,', 'President', 'Carter,', 'President', 'Clinton,', 'President', 'Bush,', 'President', 'Obama,', 'fellow', 'Americans,', 'and', 'people', 'of', 'the', 'world:', 'thank', 'you.']\n",
      "[]\n",
      "['We,', 'the', 'citizens', 'of', 'America,', 'are', 'now', 'joined', 'in', 'a', 'great', 'national', 'effort', 'to', 'rebuild', 'our', 'country', 'and', 'to', 'restore', 'its', 'promise', 'for', 'all', 'of', 'our', 'people.']\n",
      "[]\n",
      "['Together,', 'we', 'will', 'determine', 'the', 'course', 'of', 'America', 'and', 'the', 'world', 'for', 'years', 'to', 'come.']\n",
      "[]\n",
      "['We', 'will', 'face', 'challenges.', 'We', 'will', 'confront', 'hardships.', 'But', 'we', 'will', 'get', 'the', 'job', 'done.']\n",
      "[]\n",
      "['Every', 'four', 'years,', 'we', 'gather', 'on', 'these', 'steps', 'to', 'carry', 'out', 'the', 'orderly', 'and', 'peaceful', 'transfer', 'of', 'power,', 'and', 'we', 'are', 'grateful', 'to', 'President', 'Obama', 'and', 'First', 'Lady', 'Michelle', 'Obama', 'for', 'their', 'gracious', 'aid', 'throughout', 'this', 'transition.', 'They', 'have', 'been', 'magnificent.']\n",
      "[]\n",
      "['Today’s', 'ceremony,', 'however,', 'has', 'very', 'special', 'meaning.', 'Because', 'today', 'we', 'are', 'not', 'merely', 'transferring', 'power', 'from', 'one', 'Administration', 'to', 'another,', 'or', 'from', 'one', 'party', 'to', 'another', '–', 'but', 'we', 'are', 'transferring', 'power', 'from', 'Washington,', 'D.C.', 'and', 'giving', 'it', 'back', 'to', 'you,', 'the', 'American', 'People.']\n",
      "[]\n",
      "['For', 'too', 'long,', 'a', 'small', 'group', 'in', 'our', 'nation’s', 'Capital', 'has', 'reaped', 'the', 'rewards', 'of', 'government', 'while', 'the', 'people', 'have', 'borne', 'the', 'cost.']\n",
      "[]\n",
      "['Washington', 'flourished', '–', 'but', 'the', 'people', 'did', 'not', 'share', 'in', 'its', 'wealth.']\n",
      "[]\n",
      "['Politicians', 'prospered', '–', 'but', 'the', 'jobs', 'left,', 'and', 'the', 'factories', 'closed.']\n",
      "[]\n",
      "['The', 'establishment', 'protected', 'itself,', 'but', 'not', 'the', 'citizens', 'of', 'our', 'country.']\n",
      "[]\n",
      "['Their', 'victories', 'have', 'not', 'been', 'your', 'victories;', 'their', 'triumphs', 'have', 'not', 'been', 'your', 'triumphs;', 'and', 'while', 'they', 'celebrated', 'in', 'our', 'nation’s', 'Capital,', 'there', 'was', 'little', 'to', 'celebrate', 'for', 'struggling', 'families', 'all', 'across', 'our', 'land.']\n",
      "[]\n",
      "['That', 'all', 'changes', '–', 'starting', 'right', 'here,', 'and', 'right', 'now,', 'because', 'this', 'moment', 'is', 'your', 'moment:', 'it', 'belongs', 'to', 'you.']\n",
      "[]\n",
      "['It', 'belongs', 'to', 'everyone', 'gathered', 'here', 'today', 'and', 'everyone', 'watching', 'all', 'across', 'America.']\n",
      "[]\n",
      "['This', 'is', 'your', 'day.', 'This', 'is', 'your', 'celebration.']\n",
      "[]\n",
      "['And', 'this,', 'the', 'United', 'States', 'of', 'America,', 'is', 'your', 'country.']\n",
      "[]\n",
      "['What', 'truly', 'matters', 'is', 'not', 'which', 'party', 'controls', 'our', 'government,', 'but', 'whether', 'our', 'government', 'is', 'controlled', 'by', 'the', 'people.']\n",
      "[]\n",
      "['January', '20th', '2017,', 'will', 'be', 'remembered', 'as', 'the', 'day', 'the', 'people', 'became', 'the', 'rulers', 'of', 'this', 'nation', 'again.']\n",
      "[]\n",
      "['The', 'forgotten', 'men', 'and', 'women', 'of', 'our', 'country', 'will', 'be', 'forgotten', 'no', 'longer.']\n",
      "[]\n",
      "['Everyone', 'is', 'listening', 'to', 'you', 'now.']\n",
      "[]\n",
      "['You', 'came', 'by', 'the', 'tens', 'of', 'millions', 'to', 'become', 'part', 'of', 'a', 'historic', 'movement', 'the', 'likes', 'of', 'which', 'the', 'world', 'has', 'never', 'seen', 'before.']\n",
      "[]\n",
      "['At', 'the', 'center', 'of', 'this', 'movement', 'is', 'a', 'crucial', 'conviction:', 'that', 'a', 'nation', 'exists', 'to', 'serve', 'its', 'citizens.']\n",
      "[]\n",
      "['Americans', 'want', 'great', 'schools', 'for', 'their', 'children,', 'safe', 'neighborhoods', 'for', 'their', 'families,', 'and', 'good', 'jobs', 'for', 'themselves.']\n",
      "[]\n",
      "['These', 'are', 'the', 'just', 'and', 'reasonable', 'demands', 'of', 'a', 'righteous', 'public.']\n",
      "[]\n",
      "['But', 'for', 'too', 'many', 'of', 'our', 'citizens,', 'a', 'different', 'reality', 'exists:', 'Mothers', 'and', 'children', 'trapped', 'in', 'poverty', 'in', 'our', 'inner', 'cities;', 'rusted-out', 'factories', 'scattered', 'like', 'tombstones', 'across', 'the', 'landscape', 'of', 'our', 'nation;', 'an', 'education', 'system,', 'flush', 'with', 'cash,', 'but', 'which', 'leaves', 'our', 'young', 'and', 'beautiful', 'students', 'deprived', 'of', 'knowledge;', 'and', 'the', 'crime', 'and', 'gangs', 'and', 'drugs', 'that', 'have', 'stolen', 'too', 'many', 'lives', 'and', 'robbed', 'our', 'country', 'of', 'so', 'much', 'unrealized', 'potential.']\n",
      "[]\n",
      "['This', 'American', 'carnage', 'stops', 'right', 'here', 'and', 'stops', 'right', 'now.']\n",
      "[]\n",
      "['We', 'are', 'one', 'nation', '–', 'and', 'their', 'pain', 'is', 'our', 'pain.', 'Their', 'dreams', 'are', 'our', 'dreams;', 'and', 'their', 'success', 'will', 'be', 'our', 'success.', 'We', 'share', 'one', 'heart,', 'one', 'home,', 'and', 'one', 'glorious', 'destiny.']\n",
      "[]\n",
      "['The', 'oath', 'of', 'office', 'I', 'take', 'today', 'is', 'an', 'oath', 'of', 'allegiance', 'to', 'all', 'Americans.']\n",
      "[]\n",
      "['For', 'many', 'decades,', 'we’ve', 'enriched', 'foreign', 'industry', 'at', 'the', 'expense', 'of', 'American', 'industry;']\n",
      "[]\n",
      "['Subsidized', 'the', 'armies', 'of', 'other', 'countries', 'while', 'allowing', 'for', 'the', 'very', 'sad', 'depletion', 'of', 'our', 'military;']\n",
      "[]\n",
      "[\"We've\", 'defended', 'other', 'nation’s', 'borders', 'while', 'refusing', 'to', 'defend', 'our', 'own;']\n",
      "[]\n",
      "['And', 'spent', 'trillions', 'of', 'dollars', 'overseas', 'while', \"America's\", 'infrastructure', 'has', 'fallen', 'into', 'disrepair', 'and', 'decay.']\n",
      "[]\n",
      "['We’ve', 'made', 'other', 'countries', 'rich', 'while', 'the', 'wealth,', 'strength,', 'and', 'confidence', 'of', 'our', 'country', 'has', 'disappeared', 'over', 'the', 'horizon.']\n",
      "[]\n",
      "['One', 'by', 'one,', 'the', 'factories', 'shuttered', 'and', 'left', 'our', 'shores,', 'with', 'not', 'even', 'a', 'thought', 'about', 'the', 'millions', 'upon', 'millions', 'of', 'American', 'workers', 'left', 'behind.']\n",
      "[]\n",
      "['The', 'wealth', 'of', 'our', 'middle', 'class', 'has', 'been', 'ripped', 'from', 'their', 'homes', 'and', 'then', 'redistributed', 'across', 'the', 'entire', 'world.']\n",
      "[]\n",
      "['But', 'that', 'is', 'the', 'past.', 'And', 'now', 'we', 'are', 'looking', 'only', 'to', 'the', 'future.']\n",
      "[]\n",
      "['We', 'assembled', 'here', 'today', 'are', 'issuing', 'a', 'new', 'decree', 'to', 'be', 'heard', 'in', 'every', 'city,', 'in', 'every', 'foreign', 'capital,', 'and', 'in', 'every', 'hall', 'of', 'power.']\n",
      "[]\n",
      "['From', 'this', 'day', 'forward,', 'a', 'new', 'vision', 'will', 'govern', 'our', 'land.']\n",
      "[]\n",
      "['From', 'this', 'moment', 'on,', 'it’s', 'going', 'to', 'be', 'America', 'First.']\n",
      "[]\n",
      "['Every', 'decision', 'on', 'trade,', 'on', 'taxes,', 'on', 'immigration,', 'on', 'foreign', 'affairs,', 'will', 'be', 'made', 'to', 'benefit', 'American', 'workers', 'and', 'American', 'families.']\n",
      "[]\n",
      "['We', 'must', 'protect', 'our', 'borders', 'from', 'the', 'ravages', 'of', 'other', 'countries', 'making', 'our', 'products,', 'stealing', 'our', 'companies,', 'and', 'destroying', 'our', 'jobs.', 'Protection', 'will', 'lead', 'to', 'great', 'prosperity', 'and', 'strength.']\n",
      "[]\n",
      "['I', 'will', 'fight', 'for', 'you', 'with', 'every', 'breath', 'in', 'my', 'body', '–', 'and', 'I', 'will', 'never,', 'ever', 'let', 'you', 'down.']\n",
      "[]\n",
      "['America', 'will', 'start', 'winning', 'again,', 'winning', 'like', 'never', 'before.']\n",
      "[]\n",
      "['We', 'will', 'bring', 'back', 'our', 'jobs.', 'We', 'will', 'bring', 'back', 'our', 'borders.', 'We', 'will', 'bring', 'back', 'our', 'wealth.', 'And', 'we', 'will', 'bring', 'back', 'our', 'dreams.']\n",
      "[]\n",
      "['We', 'will', 'build', 'new', 'roads,', 'and', 'highways,', 'and', 'bridges,', 'and', 'airports,', 'and', 'tunnels,', 'and', 'railways', 'all', 'across', 'our', 'wonderful', 'nation.']\n",
      "[]\n",
      "['We', 'will', 'get', 'our', 'people', 'off', 'of', 'welfare', 'and', 'back', 'to', 'work', '–', 'rebuilding', 'our', 'country', 'with', 'American', 'hands', 'and', 'American', 'labor.']\n",
      "[]\n",
      "['We', 'will', 'follow', 'two', 'simple', 'rules:', 'Buy', 'American', 'and', 'Hire', 'American.']\n",
      "[]\n",
      "['We', 'will', 'seek', 'friendship', 'and', 'goodwill', 'with', 'the', 'nations', 'of', 'the', 'world', '–', 'but', 'we', 'do', 'so', 'with', 'the', 'understanding', 'that', 'it', 'is', 'the', 'right', 'of', 'all', 'nations', 'to', 'put', 'their', 'own', 'interests', 'first.']\n",
      "[]\n",
      "['We', 'do', 'not', 'seek', 'to', 'impose', 'our', 'way', 'of', 'life', 'on', 'anyone,', 'but', 'rather', 'to', 'let', 'it', 'shine', 'as', 'an', 'example', 'for', 'everyone', 'to', 'follow.']\n",
      "[]\n",
      "['We', 'will', 'reinforce', 'old', 'alliances', 'and', 'form', 'new', 'ones', '–', 'and', 'unite', 'the', 'civilized', 'world', 'against', 'Radical', 'Islamic', 'Terrorism,', 'which', 'we', 'will', 'eradicate', 'completely', 'from', 'the', 'face', 'of', 'the', 'Earth.']\n",
      "[]\n",
      "['At', 'the', 'bedrock', 'of', 'our', 'politics', 'will', 'be', 'a', 'total', 'allegiance', 'to', 'the', 'United', 'States', 'of', 'America,', 'and', 'through', 'our', 'loyalty', 'to', 'our', 'country,', 'we', 'will', 'rediscover', 'our', 'loyalty', 'to', 'each', 'other.']\n",
      "[]\n",
      "['When', 'you', 'open', 'your', 'heart', 'to', 'patriotism,', 'there', 'is', 'no', 'room', 'for', 'prejudice.']\n",
      "[]\n",
      "['The', 'Bible', 'tells', 'us,', '“how', 'good', 'and', 'pleasant', 'it', 'is', 'when', 'God’s', 'people', 'live', 'together', 'in', 'unity.”']\n",
      "[]\n",
      "['We', 'must', 'speak', 'our', 'minds', 'openly,', 'debate', 'our', 'disagreements', 'honestly,', 'but', 'always', 'pursue', 'solidarity.']\n",
      "[]\n",
      "['When', 'America', 'is', 'united,', 'America', 'is', 'totally', 'unstoppable.']\n",
      "[]\n",
      "['There', 'should', 'be', 'no', 'fear', '–', 'we', 'are', 'protected,', 'and', 'we', 'will', 'always', 'be', 'protected.']\n",
      "[]\n",
      "['We', 'will', 'be', 'protected', 'by', 'the', 'great', 'men', 'and', 'women', 'of', 'our', 'military', 'and', 'law', 'enforcement', 'and,', 'most', 'importantly,', 'we', 'are', 'protected', 'by', 'God.']\n",
      "[]\n",
      "['Finally,', 'we', 'must', 'think', 'big', 'and', 'dream', 'even', 'bigger.']\n",
      "[]\n",
      "['In', 'America,', 'we', 'understand', 'that', 'a', 'nation', 'is', 'only', 'living', 'as', 'long', 'as', 'it', 'is', 'striving.']\n",
      "[]\n",
      "['We', 'will', 'no', 'longer', 'accept', 'politicians', 'who', 'are', 'all', 'talk', 'and', 'no', 'action', '–', 'constantly', 'complaining', 'but', 'never', 'doing', 'anything', 'about', 'it.']\n",
      "[]\n",
      "['The', 'time', 'for', 'empty', 'talk', 'is', 'over.']\n",
      "[]\n",
      "['Now', 'arrives', 'the', 'hour', 'of', 'action.']\n",
      "[]\n",
      "['Do', 'not', 'let', 'anyone', 'tell', 'you', 'it', 'cannot', 'be', 'done.', 'No', 'challenge', 'can', 'match', 'the', 'heart', 'and', 'fight', 'and', 'spirit', 'of', 'America.']\n",
      "[]\n",
      "['We', 'will', 'not', 'fail.', 'Our', 'country', 'will', 'thrive', 'and', 'prosper', 'again.']\n",
      "[]\n",
      "['We', 'stand', 'at', 'the', 'birth', 'of', 'a', 'new', 'millennium,', 'ready', 'to', 'unlock', 'the', 'mysteries', 'of', 'space,', 'to', 'free', 'the', 'Earth', 'from', 'the', 'miseries', 'of', 'disease,', 'and', 'to', 'harness', 'the', 'energies,', 'industries', 'and', 'technologies', 'of', 'tomorrow.']\n",
      "[]\n",
      "['A', 'new', 'national', 'pride', 'will', 'stir', 'our', 'souls,', 'lift', 'our', 'sights,', 'and', 'heal', 'our', 'divisions.']\n",
      "[]\n",
      "['It', 'is', 'time', 'to', 'remember', 'that', 'old', 'wisdom', 'our', 'soldiers', 'will', 'never', 'forget:', 'that', 'whether', 'we', 'are', 'black', 'or', 'brown', 'or', 'white,', 'we', 'all', 'bleed', 'the', 'same', 'red', 'blood', 'of', 'patriots,', 'we', 'all', 'enjoy', 'the', 'same', 'glorious', 'freedoms,', 'and', 'we', 'all', 'salute', 'the', 'same', 'great', 'American', 'Flag.']\n",
      "[]\n",
      "['And', 'whether', 'a', 'child', 'is', 'born', 'in', 'the', 'urban', 'sprawl', 'of', 'Detroit', 'or', 'the', 'windswept', 'plains', 'of', 'Nebraska,', 'they', 'look', 'up', 'at', 'the', 'same', 'night', 'sky,', 'they', 'fill', 'their', 'heart', 'with', 'the', 'same', 'dreams,', 'and', 'they', 'are', 'infused', 'with', 'the', 'breath', 'of', 'life', 'by', 'the', 'same', 'almighty', 'Creator.']\n",
      "[]\n",
      "['So', 'to', 'all', 'Americans,', 'in', 'every', 'city', 'near', 'and', 'far,', 'small', 'and', 'large,', 'from', 'mountain', 'to', 'mountain,', 'and', 'from', 'ocean', 'to', 'ocean,', 'hear', 'these', 'words:']\n",
      "[]\n",
      "['You', 'will', 'never', 'be', 'ignored', 'again.']\n",
      "[]\n",
      "['Your', 'voice,', 'your', 'hopes,', 'and', 'your', 'dreams,', 'will', 'define', 'our', 'American', 'destiny.', 'And', 'your', 'courage', 'and', 'goodness', 'and', 'love', 'will', 'forever', 'guide', 'us', 'along', 'the', 'way.']\n",
      "[]\n",
      "['Together,', 'We', 'Will', 'Make', 'America', 'Strong', 'Again.']\n",
      "[]\n",
      "['We', 'Will', 'Make', 'America', 'Wealthy', 'Again.']\n",
      "[]\n",
      "['We', 'Will', 'Make', 'America', 'Proud', 'Again.']\n",
      "[]\n",
      "['We', 'Will', 'Make', 'America', 'Safe', 'Again.']\n",
      "[]\n",
      "['And,', 'Yes,', 'Together,', 'We', 'Will', 'Make', 'America', 'Great', 'Again.', 'Thank', 'you,', 'God', 'Bless', 'You,', 'And', 'God', 'Bless', 'America.']\n"
     ]
    }
   ],
   "source": [
    "f.seek(0)\n",
    "for word in f:\n",
    "    print(word.split())"
   ]
  },
  {
   "cell_type": "code",
   "execution_count": 21,
   "metadata": {},
   "outputs": [
    {
     "name": "stdout",
     "output_type": "stream",
     "text": [
      "[('and', 74), ('the', 70), ('of', 48), ('our', 48), ('we', 46), ('will', 40), ('to', 37), ('is', 21), ('america', 17), ('a', 15)]\n"
     ]
    }
   ],
   "source": [
    "with open('../Downloads/donald_trump.txt')as f:\n",
    "    speech = f.read().replace(',','').replace('.','')\n",
    "    cnt = {}\n",
    "    for word in speech.split():\n",
    "        word = word.lower()\n",
    "        if word in cnt:\n",
    "            cnt[word] += 1\n",
    "        else:\n",
    "            cnt[word] = 1\n",
    "            \n",
    "def custom_sort(entry):\n",
    "    return entry[1]\n",
    "\n",
    "print(sorted(cnt.items(), key=lambda x: x[1], reverse=True)[:10])"
   ]
  },
  {
   "cell_type": "code",
   "execution_count": null,
   "metadata": {
    "collapsed": true
   },
   "outputs": [],
   "source": []
  },
  {
   "cell_type": "code",
   "execution_count": 60,
   "metadata": {},
   "outputs": [
    {
     "data": {
      "text/plain": [
       "[('and', 74),\n",
       " ('the', 70),\n",
       " ('of', 48),\n",
       " ('our', 48),\n",
       " ('we', 46),\n",
       " ('will', 40),\n",
       " ('to', 37),\n",
       " ('is', 21),\n",
       " ('america', 17),\n",
       " ('a', 15)]"
      ]
     },
     "execution_count": 60,
     "metadata": {},
     "output_type": "execute_result"
    }
   ],
   "source": [
    "from collections import Counter\n",
    "\n",
    "with open('../Downloads/donald_trump.txt') as f:\n",
    "    speech = f.read().replace(',', \"\").replace(\".\", \"\")\n",
    "    cnt = Counter()\n",
    "    for word in speech.split():\n",
    "        word = word.lower()\n",
    "        if word in cnt:\n",
    "            cnt[word] += 1\n",
    "        else:\n",
    "            cnt[word] = 1\n",
    "            \n",
    "cnt.most_common(10)"
   ]
  },
  {
   "cell_type": "markdown",
   "metadata": {},
   "source": [
    "# package import"
   ]
  },
  {
   "cell_type": "code",
   "execution_count": 61,
   "metadata": {
    "collapsed": true
   },
   "outputs": [],
   "source": [
    "import collections"
   ]
  },
  {
   "cell_type": "code",
   "execution_count": 62,
   "metadata": {},
   "outputs": [
    {
     "data": {
      "text/plain": [
       "Counter()"
      ]
     },
     "execution_count": 62,
     "metadata": {},
     "output_type": "execute_result"
    }
   ],
   "source": [
    "collections.Counter()"
   ]
  },
  {
   "cell_type": "code",
   "execution_count": 63,
   "metadata": {
    "collapsed": true
   },
   "outputs": [],
   "source": [
    "from collections import Counter"
   ]
  },
  {
   "cell_type": "code",
   "execution_count": 65,
   "metadata": {},
   "outputs": [
    {
     "data": {
      "text/plain": [
       "Counter()"
      ]
     },
     "execution_count": 65,
     "metadata": {},
     "output_type": "execute_result"
    }
   ],
   "source": [
    "Counter()"
   ]
  },
  {
   "cell_type": "code",
   "execution_count": 66,
   "metadata": {
    "collapsed": true
   },
   "outputs": [],
   "source": [
    "import collections as cl"
   ]
  },
  {
   "cell_type": "code",
   "execution_count": 67,
   "metadata": {},
   "outputs": [
    {
     "data": {
      "text/plain": [
       "Counter()"
      ]
     },
     "execution_count": 67,
     "metadata": {},
     "output_type": "execute_result"
    }
   ],
   "source": [
    "cl.Counter()"
   ]
  },
  {
   "cell_type": "code",
   "execution_count": 70,
   "metadata": {
    "collapsed": true
   },
   "outputs": [],
   "source": [
    "from collections import Counter as cntr"
   ]
  },
  {
   "cell_type": "code",
   "execution_count": 71,
   "metadata": {
    "scrolled": true
   },
   "outputs": [
    {
     "data": {
      "text/plain": [
       "Counter()"
      ]
     },
     "execution_count": 71,
     "metadata": {},
     "output_type": "execute_result"
    }
   ],
   "source": [
    "cntr()"
   ]
  },
  {
   "cell_type": "code",
   "execution_count": 27,
   "metadata": {
    "collapsed": true
   },
   "outputs": [],
   "source": [
    "import jieba"
   ]
  },
  {
   "cell_type": "code",
   "execution_count": 29,
   "metadata": {},
   "outputs": [
    {
     "name": "stdout",
     "output_type": "stream",
     "text": [
      "N\n",
      "B\n",
      "A\n",
      "肚\n",
      "蘭\n",
      "特\n",
      "抱\n",
      "大\n",
      "腿\n"
     ]
    }
   ],
   "source": [
    "for word in 'NBA肚蘭特抱大腿':\n",
    "    print(word)"
   ]
  },
  {
   "cell_type": "code",
   "execution_count": 34,
   "metadata": {},
   "outputs": [
    {
     "name": "stdout",
     "output_type": "stream",
     "text": [
      "一架\n",
      "即將\n",
      "墜機\n",
      "的\n",
      "飛機\n",
      "機上\n",
      "有\n",
      "四位\n",
      "乘客\n",
      "，\n",
      " \n",
      " \n",
      " \n",
      " \n",
      " \n",
      " \n",
      " \n",
      " \n",
      " \n",
      " \n",
      " \n",
      " \n",
      " \n",
      " \n",
      " \n",
      " \n",
      " \n",
      " \n",
      " \n",
      " \n",
      " \n",
      " \n",
      "但\n",
      "降落\n",
      "傘只\n",
      "剩下\n",
      "三個\n",
      "。\n",
      " \n",
      " \n",
      " \n",
      " \n",
      " \n",
      " \n",
      " \n",
      " \n",
      " \n",
      " \n",
      " \n",
      " \n",
      " \n",
      " \n",
      " \n",
      " \n",
      " \n",
      " \n",
      " \n",
      " \n",
      " \n",
      " \n",
      "第一位\n",
      "乘客\n",
      "：\n",
      "「\n",
      "我\n",
      "是\n",
      "NBA\n",
      " \n",
      "最強\n",
      "球員\n",
      " \n",
      "Curry\n",
      "，\n",
      " \n",
      " \n",
      " \n",
      " \n",
      " \n",
      " \n",
      " \n",
      " \n",
      " \n",
      " \n",
      " \n",
      " \n",
      " \n",
      " \n",
      " \n",
      " \n",
      " \n",
      " \n",
      " \n",
      " \n",
      " \n",
      " \n",
      "我\n",
      "的\n",
      "球迷\n",
      "需要\n",
      "我\n",
      "！\n",
      "我\n",
      "不能\n",
      "死\n",
      "！\n",
      "」\n",
      "說\n",
      "完\n",
      "便\n",
      "拿\n",
      "了\n",
      "一個\n",
      "降落\n",
      "傘\n",
      "跳下去\n",
      "。\n",
      " \n",
      " \n",
      " \n",
      " \n",
      " \n",
      " \n",
      " \n",
      " \n",
      " \n",
      " \n",
      " \n",
      " \n",
      " \n",
      " \n",
      " \n",
      " \n",
      " \n",
      " \n",
      " \n",
      " \n",
      " \n",
      " \n",
      "第二位\n",
      "乘客\n",
      "：\n",
      "「\n",
      "我剛\n",
      "當選美國\n",
      "總統\n",
      "。\n",
      "美國\n",
      "和\n",
      "世界\n",
      "都\n",
      "需要\n",
      "我\n",
      "，\n",
      "我\n",
      "也\n",
      "不能\n",
      "死\n",
      "！\n",
      "」\n",
      " \n",
      " \n",
      " \n",
      " \n",
      " \n",
      " \n",
      " \n",
      " \n",
      " \n",
      " \n",
      " \n",
      " \n",
      " \n",
      " \n",
      " \n",
      " \n",
      " \n",
      " \n",
      " \n",
      " \n",
      " \n",
      " \n",
      "說\n",
      "完\n",
      "便\n",
      "拿\n",
      "了\n",
      "一個\n",
      "降落\n",
      "傘\n",
      "跳下去\n",
      "。\n",
      "眼看\n",
      "只\n",
      "剩下\n",
      "最後一個\n",
      "降落\n",
      "傘\n",
      "，\n",
      " \n",
      " \n",
      " \n",
      " \n",
      " \n",
      " \n",
      " \n",
      " \n",
      " \n",
      " \n",
      " \n",
      " \n",
      " \n",
      " \n",
      " \n",
      " \n",
      " \n",
      " \n",
      " \n",
      " \n",
      " \n",
      " \n",
      "西\n",
      "河流\n",
      "著眼淚\n",
      "對\n",
      "老大\n",
      "杜蘭\n",
      "說\n",
      "：\n",
      "「\n",
      "老大\n",
      "，\n",
      "你\n",
      "是\n",
      "雷霆\n",
      "的\n",
      "重心\n",
      "，\n",
      "是\n",
      "隊\n",
      "上\n",
      "的\n",
      "王牌\n",
      "，\n",
      " \n",
      " \n",
      " \n",
      " \n",
      " \n",
      " \n",
      " \n",
      " \n",
      " \n",
      " \n",
      " \n",
      " \n",
      " \n",
      " \n",
      " \n",
      " \n",
      " \n",
      " \n",
      " \n",
      " \n",
      " \n",
      " \n",
      "重要性\n",
      "遠勝\n",
      "於\n",
      "我\n",
      "，\n",
      "最後一個\n",
      "降落\n",
      "傘\n",
      "…\n",
      "…\n",
      "給你用\n",
      "吧\n",
      "！\n",
      "」\n",
      "杜蘭\n",
      "聽\n",
      "了\n",
      "只\n",
      "說\n",
      "：\n",
      " \n",
      " \n",
      " \n",
      " \n",
      " \n",
      " \n",
      " \n",
      " \n",
      " \n",
      " \n",
      " \n",
      " \n",
      " \n",
      " \n",
      " \n",
      " \n",
      " \n",
      " \n",
      " \n",
      " \n",
      " \n",
      " \n",
      "「\n",
      "西河\n",
      "，\n",
      "不用\n",
      "擔心\n",
      "，\n",
      "這個\n",
      "降落\n",
      "傘給\n",
      "你\n",
      "用\n",
      "，\n",
      "我待會\n",
      "跳下去\n",
      "抱\n",
      "Curry\n",
      "大腿\n",
      "就\n",
      "好\n",
      "。\n",
      "」\n"
     ]
    }
   ],
   "source": [
    "for word in jieba.cut('一架即將墜機的飛機機上有四位乘客，\\\n",
    "                      但降落傘只剩下三個。\\\n",
    "                      第一位乘客：「我是NBA 最強球員 Curry，\\\n",
    "                      我的球迷需要我！我不能死！」說完便拿了一個降落傘跳下去。\\\n",
    "                      第二位乘客：「我剛當選美國總統。美國和世界都需要我，我也不能死！」\\\n",
    "                      說完便拿了一個降落傘跳下去。眼看只剩下最後一個降落傘，\\\n",
    "                      西河流著眼淚對老大杜蘭說：「老大，你是雷霆的重心，是隊上的王牌，\\\n",
    "                      重要性遠勝於我，最後一個降落傘……給你用吧！」杜蘭聽了只說：\\\n",
    "                      「西河，不用擔心，這個降落傘給你用，我待會跳下去抱Curry大腿就好。」'):\n",
    "    print(word)"
   ]
  },
  {
   "cell_type": "code",
   "execution_count": 75,
   "metadata": {},
   "outputs": [
    {
     "name": "stdout",
     "output_type": "stream",
     "text": [
      "很\n",
      "多\n",
      "獨\n",
      "立\n",
      "樂\n",
      "迷\n",
      "自\n",
      "以\n",
      "為\n",
      "獨\n",
      "立\n",
      "音\n",
      "樂\n",
      "就\n",
      "是\n",
      "高\n",
      "尚\n",
      "瞧\n",
      "不\n",
      "起\n",
      "流\n",
      "行\n",
      "音\n",
      "樂\n"
     ]
    }
   ],
   "source": [
    "for word in \"很多獨立樂迷自以為獨立音樂就是高尚瞧不起流行音樂\":\n",
    "    print(word)"
   ]
  },
  {
   "cell_type": "code",
   "execution_count": 78,
   "metadata": {},
   "outputs": [
    {
     "name": "stdout",
     "output_type": "stream",
     "text": [
      "[\n",
      "外絮\n",
      "]\n",
      " \n",
      "跳高\n",
      "名宿\n",
      "：\n",
      "LeBron\n",
      "他們\n",
      "的\n",
      "假摔\n",
      "不夠\n",
      "專業\n"
     ]
    }
   ],
   "source": [
    "for word in jieba.cut(\"[外絮] 跳高名宿：LeBron他們的假摔不夠專業\"):\n",
    "    print(word)"
   ]
  },
  {
   "cell_type": "code",
   "execution_count": null,
   "metadata": {
    "collapsed": true
   },
   "outputs": [],
   "source": []
  }
 ],
 "metadata": {
  "kernelspec": {
   "display_name": "Python 3",
   "language": "python",
   "name": "python3"
  },
  "language_info": {
   "codemirror_mode": {
    "name": "ipython",
    "version": 3
   },
   "file_extension": ".py",
   "mimetype": "text/x-python",
   "name": "python",
   "nbconvert_exporter": "python",
   "pygments_lexer": "ipython3",
   "version": "3.6.1"
  }
 },
 "nbformat": 4,
 "nbformat_minor": 2
}
