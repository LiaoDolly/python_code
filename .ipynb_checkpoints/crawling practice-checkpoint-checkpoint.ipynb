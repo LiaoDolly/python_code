{
 "cells": [
  {
   "cell_type": "markdown",
   "metadata": {},
   "source": [
    "# http scraping practice"
   ]
  },
  {
   "cell_type": "code",
   "execution_count": 6,
   "metadata": {
    "collapsed": true
   },
   "outputs": [],
   "source": [
    "import json\n",
    "from collections import Counter # import submodule at top level namesapce\n",
    "import datetime as dt # import with an alias name\n",
    "from collections import Counter as Ctr # import submodule at top level namespace with an alias\n",
    "#original pachage places upper\n",
    "\n",
    "\n",
    "\n",
    "#homemade package should place below\n",
    "import jieba\n",
    "from jieba.analyse import extract_tags"
   ]
  },
  {
   "cell_type": "markdown",
   "metadata": {},
   "source": [
    "## (1)104"
   ]
  },
  {
   "cell_type": "code",
   "execution_count": 7,
   "metadata": {
    "scrolled": true
   },
   "outputs": [
    {
     "name": "stdout",
     "output_type": "stream",
     "text": [
      "MySQL\n",
      "SAS\n",
      "SPSS\n",
      "市場調查企劃與執行\n",
      "市場調查資料分析與報告撰寫\n",
      "統計軟體操作\n",
      "網站流量成效追蹤\n",
      "調查樣本統計分析\n"
     ]
    }
   ],
   "source": [
    "from bs4 import BeautifulSoup\n",
    "import requests\n",
    "\n",
    "res = requests.get(\"https://www.104.com.tw/job/?jobno=4jevx&jobsource=n104bank1&hotjob_chr=\")\n",
    "\n",
    "soup = BeautifulSoup(res.text,'lxml')\n",
    "\n",
    "soup #<--- print it or not if u wanna see the result of this stage\n",
    "\n",
    "#----------------\n",
    "\n",
    "\n",
    "for line in soup.select('.tool'):\n",
    "\n",
    "#    print('line')  #<-- select the class named tool in the part of this page's html\n",
    "    \n",
    "    a = line.select('a')\n",
    "#    print(a)      #<-- advanced select the upper \"Line\" by cutting <a href....>\n",
    "    for b in a:\n",
    "        print(b.text)   #<-- print the rest of part in the text-form \n",
    "       \n",
    "            "
   ]
  },
  {
   "cell_type": "code",
   "execution_count": null,
   "metadata": {
    "collapsed": true
   },
   "outputs": [],
   "source": []
  },
  {
   "cell_type": "markdown",
   "metadata": {
    "collapsed": true
   },
   "source": [
    "# 大數 BeautifulSoup   example (1)"
   ]
  },
  {
   "cell_type": "code",
   "execution_count": 10,
   "metadata": {
    "scrolled": true
   },
   "outputs": [
    {
     "data": {
      "text/plain": [
       "[]"
      ]
     },
     "execution_count": 10,
     "metadata": {},
     "output_type": "execute_result"
    }
   ],
   "source": [
    "import requests \n",
    "from bs4 import BeautifulSoup \n",
    "\n",
    "res = requests.get(\"http://www.twse.com.tw/zh/page/trading/fund/BFI82U.html\")\n",
    "\n",
    "res.text\n",
    "soup = BeautifulSoup(res.text, 'lxml')\n",
    "soup\n",
    "soup.select(' #row')\n",
    " \n",
    "\n",
    "    \n",
    "\n",
    "#???怎麼抓table的資料。。。。。。。。。。。。。。。。。。。。。。。。。。。。。。。。。。。。。\n"
   ]
  },
  {
   "cell_type": "code",
   "execution_count": null,
   "metadata": {
    "collapsed": true
   },
   "outputs": [],
   "source": []
  },
  {
   "cell_type": "code",
   "execution_count": null,
   "metadata": {
    "collapsed": true
   },
   "outputs": [],
   "source": []
  },
  {
   "cell_type": "markdown",
   "metadata": {},
   "source": [
    "# 大數 BeautifulSoup example(2)"
   ]
  },
  {
   "cell_type": "code",
   "execution_count": null,
   "metadata": {
    "collapsed": true
   },
   "outputs": [],
   "source": []
  },
  {
   "cell_type": "code",
   "execution_count": null,
   "metadata": {
    "collapsed": true
   },
   "outputs": [],
   "source": []
  },
  {
   "cell_type": "markdown",
   "metadata": {},
   "source": [
    "# 大數 BeautifulSoup example(2)"
   ]
  },
  {
   "cell_type": "code",
   "execution_count": null,
   "metadata": {
    "collapsed": true
   },
   "outputs": [],
   "source": [
    "\n"
   ]
  },
  {
   "cell_type": "code",
   "execution_count": null,
   "metadata": {
    "collapsed": true
   },
   "outputs": [],
   "source": []
  },
  {
   "cell_type": "markdown",
   "metadata": {},
   "source": [
    "# 大數 BeautifulSoup example(2)"
   ]
  }
 ],
 "metadata": {
  "kernelspec": {
   "display_name": "Python 3",
   "language": "python",
   "name": "python3"
  },
  "language_info": {
   "codemirror_mode": {
    "name": "ipython",
    "version": 3
   },
   "file_extension": ".py",
   "mimetype": "text/x-python",
   "name": "python",
   "nbconvert_exporter": "python",
   "pygments_lexer": "ipython3",
   "version": "3.6.1"
  }
 },
 "nbformat": 4,
 "nbformat_minor": 2
}
