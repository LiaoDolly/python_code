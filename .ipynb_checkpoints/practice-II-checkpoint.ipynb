{
 "cells": [
  {
   "cell_type": "code",
   "execution_count": 1,
   "metadata": {},
   "outputs": [
    {
     "name": "stdout",
     "output_type": "stream",
     "text": [
      "Collecting BeautifulSoup4\n",
      "  Downloading beautifulsoup4-4.6.0-py3-none-any.whl (86kB)\n",
      "\u001b[K    100% |████████████████████████████████| 92kB 561kB/s ta 0:00:01\n",
      "\u001b[?25hInstalling collected packages: BeautifulSoup4\n",
      "Successfully installed BeautifulSoup4-4.6.0\n"
     ]
    }
   ],
   "source": [
    "!pip install BeautifulSoup4"
   ]
  },
  {
   "cell_type": "code",
   "execution_count": 2,
   "metadata": {},
   "outputs": [
    {
     "name": "stdout",
     "output_type": "stream",
     "text": [
      "Collecting lxml\n",
      "  Downloading lxml-3.8.0-cp36-cp36m-manylinux1_x86_64.whl (7.3MB)\n",
      "\u001b[K    100% |████████████████████████████████| 7.3MB 220kB/s eta 0:00:01    94% |██████████████████████████████▏ | 6.9MB 17.1MB/s eta 0:00:01\n",
      "\u001b[?25hInstalling collected packages: lxml\n",
      "Successfully installed lxml-3.8.0\n"
     ]
    }
   ],
   "source": [
    "!pip install lxml"
   ]
  },
  {
   "cell_type": "code",
   "execution_count": 3,
   "metadata": {},
   "outputs": [
    {
     "name": "stdout",
     "output_type": "stream",
     "text": [
      "Collecting requests\n",
      "  Downloading requests-2.18.1-py2.py3-none-any.whl (88kB)\n",
      "\u001b[K    100% |████████████████████████████████| 92kB 680kB/s ta 0:00:01\n",
      "\u001b[?25hCollecting urllib3<1.22,>=1.21.1 (from requests)\n",
      "  Downloading urllib3-1.21.1-py2.py3-none-any.whl (131kB)\n",
      "\u001b[K    100% |████████████████████████████████| 133kB 1.2MB/s ta 0:00:01\n",
      "\u001b[?25hCollecting chardet<3.1.0,>=3.0.2 (from requests)\n",
      "  Downloading chardet-3.0.4-py2.py3-none-any.whl (133kB)\n",
      "\u001b[K    100% |████████████████████████████████| 143kB 2.9MB/s ta 0:00:01\n",
      "\u001b[?25hCollecting certifi>=2017.4.17 (from requests)\n",
      "  Downloading certifi-2017.4.17-py2.py3-none-any.whl (375kB)\n",
      "\u001b[K    100% |████████████████████████████████| 378kB 2.5MB/s ta 0:00:01\n",
      "\u001b[?25hCollecting idna<2.6,>=2.5 (from requests)\n",
      "  Downloading idna-2.5-py2.py3-none-any.whl (55kB)\n",
      "\u001b[K    100% |████████████████████████████████| 61kB 2.3MB/s ta 0:00:011    37% |████████████                    | 20kB 9.2MB/s eta 0:00:01\n",
      "\u001b[?25hInstalling collected packages: urllib3, chardet, certifi, idna, requests\n",
      "Successfully installed certifi-2017.4.17 chardet-3.0.4 idna-2.5 requests-2.18.1 urllib3-1.21.1\n"
     ]
    }
   ],
   "source": [
    "!pip install requests"
   ]
  },
  {
   "cell_type": "code",
   "execution_count": null,
   "metadata": {
    "collapsed": true
   },
   "outputs": [],
   "source": []
  }
 ],
 "metadata": {
  "kernelspec": {
   "display_name": "Python 3",
   "language": "python",
   "name": "python3"
  },
  "language_info": {
   "codemirror_mode": {
    "name": "ipython",
    "version": 3
   },
   "file_extension": ".py",
   "mimetype": "text/x-python",
   "name": "python",
   "nbconvert_exporter": "python",
   "pygments_lexer": "ipython3",
   "version": "3.6.1"
  }
 },
 "nbformat": 4,
 "nbformat_minor": 2
}
