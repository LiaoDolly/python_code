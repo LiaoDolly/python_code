{
 "cells": [
  {
   "cell_type": "code",
   "execution_count": 2,
   "metadata": {
    "collapsed": true
   },
   "outputs": [],
   "source": [
    "import json\n",
    "from collections import Counter # import submodule at top level namesapce\n",
    "import datetime as dt # import with an alias name\n",
    "from collections import Counter as Ctr # import submodule at top level namespace with an alias\n",
    "import requests\n",
    "\n",
    "\n",
    "import jieba\n",
    "from jieba.analyse import extract_tags\n",
    "from bs4 import BeautifulSoup"
   ]
  },
  {
   "cell_type": "code",
   "execution_count": null,
   "metadata": {
    "collapsed": true
   },
   "outputs": [],
   "source": [
    "from bs4 import BeautifulSoup\n",
    "import requests\n",
    "\n",
    "res = requests.get(\"https://www.104.com.tw/job/?jobno=4jevx&jobsource=n104bank1&hotjob_chr=\")\n",
    "\n",
    "soup = BeautifulSoup(res.text,'lxml')\n",
    "\n",
    "#soup <--- print it or not if u wanna see the result of this stage\n",
    "\n",
    "#----------------\n",
    "\n",
    "for line in soup.select('.tool'):\n",
    "    #print(line)  <-- select the class named tool in the part of this page's html\n",
    "    \n",
    "    a = line.select('a')\n",
    "    #print(a)      <-- advanced select the upper \"Line\" by cutting <a href....>\n",
    "    for b in a:\n",
    "        print(b.text)   #<-- print the rest of part in the text-form \n",
    "       "
   ]
  },
  {
   "cell_type": "code",
   "execution_count": 3,
   "metadata": {
    "scrolled": true
   },
   "outputs": [
    {
     "name": "stdout",
     "output_type": "stream",
     "text": [
      "MySQL\n",
      "SAS\n",
      "SPSS\n",
      "市場調查企劃與執行\n",
      "市場調查資料分析與報告撰寫\n",
      "統計軟體操作\n",
      "網站流量成效追蹤\n",
      "調查樣本統計分析\n"
     ]
    }
   ],
   "source": [
    "#方繼的code\n",
    "\n",
    "import requests\n",
    "from bs4 import BeautifulSoup\n",
    "\n",
    "res = requests.get(\"https://www.104.com.tw/job/?jobno=4jevx&jobsource=n104bank1&hotjob_chr=\")\n",
    "soup = BeautifulSoup(res.text, \"lxml\")\n",
    "for tool in soup.select('.tool'):\n",
    "    li = tool.select('a')\n",
    "    for i in li:\n",
    "        print(i.text)"
   ]
  },
  {
   "cell_type": "code",
   "execution_count": null,
   "metadata": {
    "collapsed": true
   },
   "outputs": [],
   "source": []
  },
  {
   "cell_type": "code",
   "execution_count": null,
   "metadata": {
    "collapsed": true
   },
   "outputs": [],
   "source": []
  },
  {
   "cell_type": "code",
   "execution_count": 2,
   "metadata": {
    "scrolled": false
   },
   "outputs": [
    {
     "name": "stdout",
     "output_type": "stream",
     "text": [
      "[('Word', 320), ('Excel', 299), ('PowerPoint', 223), ('不動產經紀營業員', 135), ('Outlook', 116), ('中文打字20~50', 50), ('業務或通路開發', 48), ('業績目標分配與績效達成', 40), ('客戶資料更新維護', 37), ('普考不動產經紀人', 30), ('業績與管理報表撰寫', 29), ('Windows XP', 25), ('廣告業務銷售能力', 25), ('英文打字20~50', 24), ('Windows 7', 23), ('不動產分析與資料蒐集', 22), ('AutoCAD', 21), ('客戶情報蒐集', 21), ('不動產估價與實務應用', 19), ('不動產經紀營業', 18)]\n"
     ]
    }
   ],
   "source": [
    "#華谷的code\n",
    "\n",
    "from bs4 import BeautifulSoup\n",
    "from collections import Counter\n",
    "import requests\n",
    "\n",
    "need = Counter()\n",
    "for i in range(1,139):\n",
    "    res=requests.get('https://www.104.com.tw/jobbank/joblist/joblist.cfm?jobsource=n104bank1&ro=0&keyword=%E4%B8%8D%E5%8B%95%E7%94%A2%E7%B6%93%E7%B4%80%E4%BA%BA&order=2&asc=0&page='+str(i))\n",
    "    soup=BeautifulSoup(res.text,'lxml')\n",
    "    for job in soup.select(\".job_name > a\"):\n",
    "        hr=job['href']\n",
    "        jk=hr.split('jobno=')[1].split('&jobsource')[0]\n",
    "    #         print(jk)\n",
    "        res2=requests.get('https://www.104.com.tw/job/?jobno='+jk+'&jobsource=104_hotorder')\n",
    "        soup=BeautifulSoup(res2.text,'lxml')\n",
    "        for goodat in soup.select('.tool'):\n",
    "            for w in goodat.select('a'):\n",
    "                if w.text in need:\n",
    "                    need[w.text]+=1\n",
    "                else:\n",
    "                    need[w.text]=1\n",
    "print(need.most_common(20))"
   ]
  },
  {
   "cell_type": "code",
   "execution_count": null,
   "metadata": {
    "collapsed": true
   },
   "outputs": [],
   "source": []
  },
  {
   "cell_type": "code",
   "execution_count": null,
   "metadata": {
    "collapsed": true
   },
   "outputs": [],
   "source": []
  },
  {
   "cell_type": "code",
   "execution_count": 3,
   "metadata": {},
   "outputs": [
    {
     "ename": "ModuleNotFoundError",
     "evalue": "No module named 'selenium'",
     "output_type": "error",
     "traceback": [
      "\u001b[0;31m---------------------------------------------------------------------------\u001b[0m",
      "\u001b[0;31mModuleNotFoundError\u001b[0m                       Traceback (most recent call last)",
      "\u001b[0;32m<ipython-input-3-bbc1594be97b>\u001b[0m in \u001b[0;36m<module>\u001b[0;34m()\u001b[0m\n\u001b[1;32m      1\u001b[0m \u001b[0;31m#104H\u001b[0m\u001b[0;34m\u001b[0m\u001b[0;34m\u001b[0m\u001b[0m\n\u001b[0;32m----> 2\u001b[0;31m \u001b[0;32mfrom\u001b[0m \u001b[0mselenium\u001b[0m \u001b[0;32mimport\u001b[0m \u001b[0mwebdriver\u001b[0m\u001b[0;34m\u001b[0m\u001b[0m\n\u001b[0m\u001b[1;32m      3\u001b[0m \u001b[0;32mfrom\u001b[0m \u001b[0mbs4\u001b[0m \u001b[0;32mimport\u001b[0m \u001b[0mBeautifulSoup\u001b[0m \u001b[0;32mas\u001b[0m \u001b[0mbs\u001b[0m\u001b[0;34m\u001b[0m\u001b[0m\n\u001b[1;32m      4\u001b[0m \u001b[0;32mfrom\u001b[0m \u001b[0mselenium\u001b[0m\u001b[0;34m.\u001b[0m\u001b[0mwebdriver\u001b[0m\u001b[0;34m.\u001b[0m\u001b[0msupport\u001b[0m\u001b[0;34m.\u001b[0m\u001b[0mselect\u001b[0m \u001b[0;32mimport\u001b[0m \u001b[0mSelect\u001b[0m\u001b[0;34m\u001b[0m\u001b[0m\n\u001b[1;32m      5\u001b[0m \u001b[0;32mimport\u001b[0m \u001b[0mrequests\u001b[0m\u001b[0;34m\u001b[0m\u001b[0m\n",
      "\u001b[0;31mModuleNotFoundError\u001b[0m: No module named 'selenium'"
     ]
    }
   ],
   "source": [
    "#104H\n",
    "from selenium import webdriver\n",
    "from bs4 import BeautifulSoup as bs\n",
    "from selenium.webdriver.support.select import Select\n",
    "import requests\n",
    "import time\n",
    "browser = webdriver.Chrome()\n",
    "# browser = webdriver.Firefox()\n",
    " \n",
    "browser.maximize_window()\n",
    "url='https://www.104.com.tw/jobbank/joblist/joblist.cfm?indcat=1001001002&area=6001001000&jobsource=104_bank1'\n",
    "p=1\n",
    "while True:\n",
    "    browser.get(url)\n",
    "    soup = bs(browser.page_source,'lxml')\n",
    "    # tmp1 = soup.select('li > div > a')[4:] #li > div > a\n",
    "    # print(browser.find_element('li > div > a'))\n",
    "    tmp2 = soup.findAll(attrs={\"class\" : \"jobname_summary job_name\"})\n",
    "    tmp3 = tmp2\n",
    "    c=1\n",
    "    for xx in tmp3:\n",
    "        # print(c,xx.text.strip())\n",
    "        print(c,xx.text.strip(),\"\\t\\t\\t\\t\\t\\t\\t\\t\\t\\t\\t\",str(xx).split(\"a href=\")[1].split()[0])\n",
    "        c+=1\n",
    "    p=p+1\n",
    "    url='https://www.104.com.tw/jobbank/joblist/joblist.cfm?jobsource=104_bank1&ro=0&area=6001001000&indcat=1001001002&order=2&asc=0&page='+str(p)+'&psl=N_A'\n",
    "    time.sleep(5)"
   ]
  },
  {
   "cell_type": "code",
   "execution_count": null,
   "metadata": {
    "collapsed": true
   },
   "outputs": [],
   "source": []
  },
  {
   "cell_type": "code",
   "execution_count": 2,
   "metadata": {},
   "outputs": [
    {
     "name": "stdout",
     "output_type": "stream",
     "text": [
      "[<title>軟體程式設計師_神華商業系統股份有限公司 - 104人力銀行</title>]\n",
      ">> 工程師 <<\n",
      ">> Java <<\n",
      ">> 不拘 <<\n",
      ">> Android <<\n",
      ">> Jsp <<\n",
      ">> Ios App <<\n",
      ">> 專科 <<\n",
      ">> 公司福利 <<\n"
     ]
    }
   ],
   "source": [
    "\n",
    "#104E\n",
    "from bs4 import BeautifulSoup as bs\n",
    "import requests\n",
    " \n",
    "res = requests.get(\"https://www.104.com.tw/job/?jobno=4twky&jobsource=104_hotorder\")\n",
    "soup = bs(res.text,\"lxml\")\n",
    "keyword = ['公司福利','工程師']\n",
    "level =['專科','大學''碩士']\n",
    "lang = ['linux','java','javascript','mysql',\"ms sql\",'不拘','android','jsp', 'ios app']+level+keyword\n",
    "tmp = soup.findAll('title')\n",
    "print(tmp)\n",
    "lib = []\n",
    "for tmp in soup.find_all('section'):\n",
    "    tmp2 = \"\".join(tmp.text.lower().strip())\n",
    "    for xx in lang:\n",
    "        if tmp2.find(xx) >= 0:\n",
    "            if tmp2 not in lib:\n",
    "                # lib.append(tmp2)\n",
    "                print('>> ' + xx.title() + ' <<')\n",
    "                # print(''.join(tmp2.split(':')))\n",
    " \n",
    "# for tmp in soup.find_all('dd'):\n",
    "#     tmp2 = \"\".join(tmp.text.lower().strip().split())\n",
    "#     for xx in lang:\n",
    "#         if tmp2.find(xx) >= 0:\n",
    "#             print(tmp2)"
   ]
  },
  {
   "cell_type": "code",
   "execution_count": null,
   "metadata": {
    "collapsed": true
   },
   "outputs": [],
   "source": []
  },
  {
   "cell_type": "code",
   "execution_count": null,
   "metadata": {
    "collapsed": true
   },
   "outputs": [],
   "source": []
  }
 ],
 "metadata": {
  "kernelspec": {
   "display_name": "Python 3",
   "language": "python",
   "name": "python3"
  },
  "language_info": {
   "codemirror_mode": {
    "name": "ipython",
    "version": 3
   },
   "file_extension": ".py",
   "mimetype": "text/x-python",
   "name": "python",
   "nbconvert_exporter": "python",
   "pygments_lexer": "ipython3",
   "version": "3.6.1"
  }
 },
 "nbformat": 4,
 "nbformat_minor": 2
}
