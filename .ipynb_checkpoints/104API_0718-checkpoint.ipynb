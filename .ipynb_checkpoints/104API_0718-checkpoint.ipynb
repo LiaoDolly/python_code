{
 "cells": [
  {
   "cell_type": "markdown",
   "metadata": {},
   "source": []
  },
  {
   "cell_type": "code",
   "execution_count": 1,
   "metadata": {
    "collapsed": true
   },
   "outputs": [],
   "source": [
    "import json\n",
    "import requests"
   ]
  },
  {
   "cell_type": "markdown",
   "metadata": {},
   "source": [
    "## API_極限_200筆/15頁"
   ]
  },
  {
   "cell_type": "code",
   "execution_count": 27,
   "metadata": {
    "collapsed": true
   },
   "outputs": [],
   "source": [
    "res = requests.get(\"http://www.104.com.tw/i/apis/jobsearch.cfm?cat=2007001006&page=15&incs=2&pgsz=200&fmt=8&cols=JOB,NAME,JOBSKILL_ALL_DESC,PCSKILL_ALL_DESC,APPEAR_DATE,OTHERS\")\n",
    "res.json()['data'][0]\n",
    "joblist = []\n",
    "for dic in res.json()['data']:\n",
    "    transdic = {}\n",
    "    transdic['title'] = dic['JOB']\n",
    "    transdic['conpany'] = dic['NAME']\n",
    "    transdic['skills'] = dic['PCSKILL_ALL_DESC']\n",
    "    transdic['other_condition'] = dic['OTHERS']\n",
    "    transdic['post_data'] = dic['APPEAR_DATE']\n",
    "    joblist.append(transdic)\n",
    "\n",
    "\n",
    "\n",
    "with open(('job104_15.json'),'w') as f:\n",
    "    json.dump(joblist, f)"
   ]
  },
  {
   "cell_type": "markdown",
   "metadata": {
    "collapsed": true
   },
   "source": [
    "## Try-range"
   ]
  },
  {
   "cell_type": "code",
   "execution_count": null,
   "metadata": {
    "collapsed": true
   },
   "outputs": [],
   "source": [
    "res = requests.get(\"http://www.104.com.tw/i/apis/jobsearch.cfm?cat=2007001006&role=1,\\\n",
    "                    4&fmt=8&cols=J,JOB,NAME,PCSKILL_ALL_DESC,JOBSKILL_ALL_DESC\")\n",
    "#res.json()\n",
    "for xx in range(5):\n",
    "    print(res.json()['data'][xx]['JOB'])"
   ]
  },
  {
   "cell_type": "code",
   "execution_count": null,
   "metadata": {
    "collapsed": true
   },
   "outputs": [],
   "source": []
  }
 ],
 "metadata": {
  "kernelspec": {
   "display_name": "Python 3",
   "language": "python",
   "name": "python3"
  },
  "language_info": {
   "codemirror_mode": {
    "name": "ipython",
    "version": 3
   },
   "file_extension": ".py",
   "mimetype": "text/x-python",
   "name": "python",
   "nbconvert_exporter": "python",
   "pygments_lexer": "ipython3",
   "version": "3.6.1"
  }
 },
 "nbformat": 4,
 "nbformat_minor": 2
}
