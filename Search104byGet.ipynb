{
 "cells": [
  {
   "cell_type": "code",
   "execution_count": 1,
   "metadata": {
    "collapsed": true
   },
   "outputs": [],
   "source": [
    "import json\n",
    "import math\n",
    "import re\n",
    "import time\n",
    "from collections import Counter\n",
    "from urllib.request import urlopen\n",
    "\n",
    "from bs4 import BeautifulSoup\n",
    "import requests"
   ]
  },
  {
   "cell_type": "code",
   "execution_count": 2,
   "metadata": {
    "collapsed": true
   },
   "outputs": [],
   "source": [
    "def getPageNumber(href):\n",
    "    res = requests.get(href)\n",
    "    soup = BeautifulSoup(res.text, 'lxml')\n",
    "    numberReg = re.compile(r'(\\d+ )筆')\n",
    "    mo = numberReg.search(soup.select('ul > li.right')[0].text)\n",
    "    pageNum = int(mo.group(1))\n",
    "    totalPages = 150 if math.ceil(pageNum / 20) > 150 else math.ceil(pageNum / 20) # 除以20筆得出幾頁\n",
    "    res.close()\n",
    "    return totalPages"
   ]
  },
  {
   "cell_type": "code",
   "execution_count": 3,
   "metadata": {},
   "outputs": [
    {
     "name": "stdout",
     "output_type": "stream",
     "text": [
      "40\n",
      "HTTPSConnectionPool(host='www.104.com.twhttp', port=443): Max retries exceeded with url: //hunter.104.com.tw/104hunter.jsp?trc=104p&jobsource=n104bank1&urlpage=job_description&jobno=9173566 (Caused by NewConnectionError('<requests.packages.urllib3.connection.VerifiedHTTPSConnection object at 0x00000000085379B0>: Failed to establish a new connection: [Errno 11004] getaddrinfo failed',))\n",
      "HTTPSConnectionPool(host='www.104.com.twhttp', port=443): Max retries exceeded with url: //hunter.104.com.tw/104hunter.jsp?trc=104p&jobsource=n104bank1&urlpage=job_description&jobno=9173566 (Caused by NewConnectionError('<requests.packages.urllib3.connection.VerifiedHTTPSConnection object at 0x0000000007A759B0>: Failed to establish a new connection: [Errno 11004] getaddrinfo failed',))\n",
      "HTTPSConnectionPool(host='www.104.com.twhttp', port=443): Max retries exceeded with url: //hunter.104.com.tw/104hunter.jsp?trc=104p&jobsource=n104bank1&urlpage=job_description&jobno=9173566 (Caused by NewConnectionError('<requests.packages.urllib3.connection.VerifiedHTTPSConnection object at 0x00000000086A0390>: Failed to establish a new connection: [Errno 11004] getaddrinfo failed',))\n",
      "HTTPSConnectionPool(host='www.104.com.twhttp', port=443): Max retries exceeded with url: //hunter.104.com.tw/104hunter.jsp?trc=104p&jobsource=n104bank1&urlpage=job_description&jobno=9173566 (Caused by NewConnectionError('<requests.packages.urllib3.connection.VerifiedHTTPSConnection object at 0x000000000842E048>: Failed to establish a new connection: [Errno 11004] getaddrinfo failed',))\n",
      "HTTPSConnectionPool(host='www.104.com.twhttp', port=443): Max retries exceeded with url: //hunter.104.com.tw/104hunter.jsp?trc=104p&jobsource=n104bank1&urlpage=job_description&jobno=9173566 (Caused by NewConnectionError('<requests.packages.urllib3.connection.VerifiedHTTPSConnection object at 0x0000000008871390>: Failed to establish a new connection: [Errno 11004] getaddrinfo failed',))\n",
      "HTTPSConnectionPool(host='www.104.com.twhttp', port=443): Max retries exceeded with url: //hunter.104.com.tw/104hunter.jsp?trc=104p&jobsource=n104bank1&urlpage=job_description&jobno=9173566 (Caused by NewConnectionError('<requests.packages.urllib3.connection.VerifiedHTTPSConnection object at 0x0000000008871DA0>: Failed to establish a new connection: [Errno 11004] getaddrinfo failed',))\n",
      "HTTPSConnectionPool(host='www.104.com.twhttp', port=443): Max retries exceeded with url: //hunter.104.com.tw/104hunter.jsp?trc=104p&jobsource=n104bank1&urlpage=job_description&jobno=9173566 (Caused by NewConnectionError('<requests.packages.urllib3.connection.VerifiedHTTPSConnection object at 0x0000000008053A20>: Failed to establish a new connection: [Errno 11004] getaddrinfo failed',))\n",
      "HTTPSConnectionPool(host='www.104.com.twhttp', port=443): Max retries exceeded with url: //hunter.104.com.tw/104hunter.jsp?trc=104p&jobsource=n104bank1&urlpage=job_description&jobno=9173566 (Caused by NewConnectionError('<requests.packages.urllib3.connection.VerifiedHTTPSConnection object at 0x00000000086E0FD0>: Failed to establish a new connection: [Errno 11004] getaddrinfo failed',))\n",
      "HTTPSConnectionPool(host='www.104.com.twhttp', port=443): Max retries exceeded with url: //hunter.104.com.tw/104hunter.jsp?trc=104p&jobsource=n104bank1&urlpage=job_description&jobno=9173566 (Caused by NewConnectionError('<requests.packages.urllib3.connection.VerifiedHTTPSConnection object at 0x00000000086B6D30>: Failed to establish a new connection: [Errno 11004] getaddrinfo failed',))\n",
      "HTTPSConnectionPool(host='www.104.com.twhttp', port=443): Max retries exceeded with url: //hunter.104.com.tw/104hunter.jsp?trc=104p&jobsource=n104bank1&urlpage=job_description&jobno=9173566 (Caused by NewConnectionError('<requests.packages.urllib3.connection.VerifiedHTTPSConnection object at 0x0000000008828FD0>: Failed to establish a new connection: [Errno 11004] getaddrinfo failed',))\n",
      "HTTPSConnectionPool(host='www.104.com.twhttp', port=443): Max retries exceeded with url: //hunter.104.com.tw/104hunter.jsp?trc=104p&jobsource=n104bank1&urlpage=job_description&jobno=9173566 (Caused by NewConnectionError('<requests.packages.urllib3.connection.VerifiedHTTPSConnection object at 0x000000000757BD68>: Failed to establish a new connection: [Errno 11004] getaddrinfo failed',))\n",
      "HTTPSConnectionPool(host='www.104.com.twhttp', port=443): Max retries exceeded with url: //hunter.104.com.tw/104hunter.jsp?trc=104p&jobsource=n104bank1&urlpage=job_description&jobno=9173566 (Caused by NewConnectionError('<requests.packages.urllib3.connection.VerifiedHTTPSConnection object at 0x00000000084EF518>: Failed to establish a new connection: [Errno 11004] getaddrinfo failed',))\n",
      "HTTPSConnectionPool(host='www.104.com.twhttp', port=443): Max retries exceeded with url: //hunter.104.com.tw/104hunter.jsp?trc=104p&jobsource=n104bank1&urlpage=job_description&jobno=9173566 (Caused by NewConnectionError('<requests.packages.urllib3.connection.VerifiedHTTPSConnection object at 0x00000000083B1278>: Failed to establish a new connection: [Errno 11004] getaddrinfo failed',))\n",
      "HTTPSConnectionPool(host='www.104.com.twhttp', port=443): Max retries exceeded with url: //hunter.104.com.tw/104hunter.jsp?trc=104p&jobsource=n104bank1&urlpage=job_description&jobno=9173566 (Caused by NewConnectionError('<requests.packages.urllib3.connection.VerifiedHTTPSConnection object at 0x00000000085F1828>: Failed to establish a new connection: [Errno 11004] getaddrinfo failed',))\n",
      "HTTPSConnectionPool(host='www.104.com.twhttp', port=443): Max retries exceeded with url: //hunter.104.com.tw/104hunter.jsp?trc=104p&jobsource=n104bank1&urlpage=job_description&jobno=9173566 (Caused by NewConnectionError('<requests.packages.urllib3.connection.VerifiedHTTPSConnection object at 0x00000000087315F8>: Failed to establish a new connection: [Errno 11004] getaddrinfo failed',))\n",
      "HTTPSConnectionPool(host='www.104.com.twhttp', port=443): Max retries exceeded with url: //hunter.104.com.tw/104hunter.jsp?trc=104p&jobsource=n104bank1&urlpage=job_description&jobno=9173566 (Caused by NewConnectionError('<requests.packages.urllib3.connection.VerifiedHTTPSConnection object at 0x00000000084805F8>: Failed to establish a new connection: [Errno 11004] getaddrinfo failed',))\n",
      "HTTPSConnectionPool(host='www.104.com.twhttp', port=443): Max retries exceeded with url: //hunter.104.com.tw/104hunter.jsp?trc=104p&jobsource=n104bank1&urlpage=job_description&jobno=9173566 (Caused by NewConnectionError('<requests.packages.urllib3.connection.VerifiedHTTPSConnection object at 0x00000000086047F0>: Failed to establish a new connection: [Errno 11004] getaddrinfo failed',))\n",
      "HTTPSConnectionPool(host='www.104.com.twhttp', port=443): Max retries exceeded with url: //hunter.104.com.tw/104hunter.jsp?trc=104p&jobsource=n104bank1&urlpage=job_description&jobno=9173566 (Caused by NewConnectionError('<requests.packages.urllib3.connection.VerifiedHTTPSConnection object at 0x00000000085D1F60>: Failed to establish a new connection: [Errno 11004] getaddrinfo failed',))\n",
      "HTTPSConnectionPool(host='www.104.com.twhttp', port=443): Max retries exceeded with url: //hunter.104.com.tw/104hunter.jsp?trc=104p&jobsource=n104bank1&urlpage=job_description&jobno=9173566 (Caused by NewConnectionError('<requests.packages.urllib3.connection.VerifiedHTTPSConnection object at 0x00000000081659B0>: Failed to establish a new connection: [Errno 11004] getaddrinfo failed',))\n",
      "HTTPSConnectionPool(host='www.104.com.twhttp', port=443): Max retries exceeded with url: //hunter.104.com.tw/104hunter.jsp?trc=104p&jobsource=n104bank1&urlpage=job_description&jobno=9173566 (Caused by NewConnectionError('<requests.packages.urllib3.connection.VerifiedHTTPSConnection object at 0x0000000008408978>: Failed to establish a new connection: [Errno 11004] getaddrinfo failed',))\n"
     ]
    }
   ],
   "source": [
    "def getPageLinks(href):\n",
    "    linkList = []\n",
    "    res = requests.get(href)\n",
    "    soup = BeautifulSoup(res.text, 'lxml')\n",
    "    # 找出所有頁面上的連結，加入list\n",
    "    jobList = soup.select(\"div.jobname_summary > a\")\n",
    "    for job in jobList:\n",
    "        link = \"https://www.104.com.tw\" + job[\"href\"]\n",
    "        linkList.append(link)\n",
    "    res.close()\n",
    "    return linkList\n",
    "def getJobInfo(href):\n",
    "    jobInfo = dict()\n",
    "    res = requests.get(href)\n",
    "    soup = BeautifulSoup(res.text, 'lxml')\n",
    "    jobInfo[\"title\"] = soup.select_one(\"header > div > h1\").contents[0].replace(\"\\r\\n\", \"\").strip(\" \")\n",
    "    jobInfo[\"company\"] = soup.select_one(\"a.cn\").text\n",
    "    jobInfo[\"content\"] = soup.select_one(\"div.content > p\").text.replace(\"\\r\", \"\").replace(\" \", \"\")\n",
    "    jobInfo[\"tools\"] = soup.select(\"dd.tool\")[0].text\n",
    "    jobInfo[\"skills\"] = soup.select(\"dd.tool\")[1].text\n",
    "    jobInfo[\"post_date\"] = soup.select_one(\"time.update\").text.split(\"：\")[1]\n",
    "    jobInfo[\"other_condition\"] = soup.select(\"section.info\")[1].select(\"dl > dd \")[-1].text.replace(\"\\r\",\"\").replace(\" \",\"\")\n",
    "    res.close()\n",
    "    return jobInfo\n",
    "def saveData(data,fileName = \"data.json\"):\n",
    "    # 輸出成json檔\n",
    "    with open(fileName, 'w') as f:\n",
    "        json.dump(data, f)\n",
    "if __name__ == \"__main__\":\n",
    "    data = []\n",
    "    href = \"https://www.104.com.tw/jobbank/joblist/joblist.cfm?keyword=軟體設計工程師&jobsource=n104bank1&jobcat=2007001001&order=1&page=\"\n",
    "    pageNum = getPageNumber(href)\n",
    "    print(pageNum)\n",
    "    num = 1\n",
    "    for n in range(0,pageNum+1):\n",
    "        try:\n",
    "            web = \"https://www.104.com.tw/jobbank/joblist/joblist.cfm?keyword=軟體設計工程師&jobsource=n104bank1&jobcat=2007001001&order=1&page={}\".format(num)\n",
    "            jobLink=getPageLinks(web)\n",
    "            for link in jobLink:\n",
    "                jobInfo = getJobInfo(link)\n",
    "                data.append(jobInfo)\n",
    "                time.sleep(5)\n",
    "            num +=1\n",
    "        except Exception as e:\n",
    "            print(e)\n",
    "            pass\n",
    "    saveData(data,\"104_Get_軟體設計工程師_cat1001.json\")"
   ]
  },
  {
   "cell_type": "code",
   "execution_count": null,
   "metadata": {
    "collapsed": true
   },
   "outputs": [],
   "source": []
  },
  {
   "cell_type": "code",
   "execution_count": null,
   "metadata": {
    "collapsed": true
   },
   "outputs": [],
   "source": []
  },
  {
   "cell_type": "code",
   "execution_count": null,
   "metadata": {
    "collapsed": true
   },
   "outputs": [],
   "source": []
  },
  {
   "cell_type": "code",
   "execution_count": null,
   "metadata": {
    "collapsed": true
   },
   "outputs": [],
   "source": []
  },
  {
   "cell_type": "code",
   "execution_count": null,
   "metadata": {
    "collapsed": true
   },
   "outputs": [],
   "source": []
  },
  {
   "cell_type": "code",
   "execution_count": null,
   "metadata": {
    "collapsed": true
   },
   "outputs": [],
   "source": []
  },
  {
   "cell_type": "code",
   "execution_count": null,
   "metadata": {
    "collapsed": true
   },
   "outputs": [],
   "source": []
  }
 ],
 "metadata": {
  "kernelspec": {
   "display_name": "Python 3",
   "language": "python",
   "name": "python3"
  },
  "language_info": {
   "codemirror_mode": {
    "name": "ipython",
    "version": 3
   },
   "file_extension": ".py",
   "mimetype": "text/x-python",
   "name": "python",
   "nbconvert_exporter": "python",
   "pygments_lexer": "ipython3",
   "version": "3.6.1"
  }
 },
 "nbformat": 4,
 "nbformat_minor": 2
}
